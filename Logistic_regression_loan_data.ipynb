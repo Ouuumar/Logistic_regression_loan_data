{
 "cells": [
  {
   "cell_type": "code",
   "execution_count": null,
   "metadata": {
    "cell_id": "00000-12f7ea0f-c529-4f0a-8466-5cb5f6f80a28",
    "deepnote_cell_type": "code",
    "deepnote_to_be_reexecuted": false,
    "execution_millis": 0,
    "execution_start": 1610109625396,
    "output_cleared": false,
    "source_hash": "6b55919c",
    "tags": []
   },
   "outputs": [],
   "source": [
    "import pandas as pd \n",
    "import numpy as np\n",
    "import matplotlib.pyplot as plt\n",
    "#import seaborn as sns\n",
    "from sklearn.linear_model import LogisticRegression\n",
    "from sklearn.model_selection import train_test_split\n",
    "from sklearn.metrics import mean_absolute_error, mean_absolute_error, confusion_matrix, log_loss, mean_squared_error, classification_report, r2_score\n",
    "from sklearn.preprocessing import StandardScaler, MinMaxScaler, PolynomialFeatures"
   ]
  },
  {
   "cell_type": "code",
   "execution_count": null,
   "metadata": {
    "cell_id": "00000-6ae24281-1289-4508-92ef-7f00a4eec728",
    "deepnote_cell_type": "code",
    "deepnote_to_be_reexecuted": false,
    "execution_millis": 1,
    "execution_start": 1610109625396,
    "output_cleared": false,
    "source_hash": "3f7b76bc",
    "tags": []
   },
   "outputs": [
    {
     "data": {
      "text/plain": [
       "Index(['Loan_ID', 'Gender', 'Married', 'Dependents', 'Education',\n",
       "       'Self_Employed', 'ApplicantIncome', 'CoapplicantIncome', 'LoanAmount',\n",
       "       'Loan_Amount_Term', 'Credit_History', 'Property_Area', 'Loan_Status'],\n",
       "      dtype='object')"
      ]
     },
     "execution_count": 29,
     "metadata": {},
     "output_type": "execute_result"
    }
   ],
   "source": [
    "df = pd.read_csv(\"/home/jovyan/work/loan_prediction.csv\", sep =',' )\n",
    "df.columns"
   ]
  },
  {
   "cell_type": "code",
   "execution_count": null,
   "metadata": {
    "cell_id": "00002-af228fa7-a4f1-48c2-ada4-6107ce7815e1",
    "deepnote_cell_type": "code",
    "deepnote_to_be_reexecuted": false,
    "execution_millis": 0,
    "execution_start": 1610109625443,
    "output_cleared": false,
    "source_hash": "de1e323c",
    "tags": []
   },
   "outputs": [
    {
     "name": "stdout",
     "output_type": "stream",
     "text": [
      "<class 'pandas.core.frame.DataFrame'>\n",
      "RangeIndex: 614 entries, 0 to 613\n",
      "Data columns (total 13 columns):\n",
      " #   Column             Non-Null Count  Dtype  \n",
      "---  ------             --------------  -----  \n",
      " 0   Loan_ID            614 non-null    object \n",
      " 1   Gender             601 non-null    object \n",
      " 2   Married            611 non-null    object \n",
      " 3   Dependents         599 non-null    object \n",
      " 4   Education          614 non-null    object \n",
      " 5   Self_Employed      582 non-null    object \n",
      " 6   ApplicantIncome    614 non-null    int64  \n",
      " 7   CoapplicantIncome  614 non-null    float64\n",
      " 8   LoanAmount         592 non-null    float64\n",
      " 9   Loan_Amount_Term   600 non-null    float64\n",
      " 10  Credit_History     564 non-null    float64\n",
      " 11  Property_Area      614 non-null    object \n",
      " 12  Loan_Status        614 non-null    object \n",
      "dtypes: float64(4), int64(1), object(8)\n",
      "memory usage: 62.5+ KB\n"
     ]
    }
   ],
   "source": [
    "df.info()"
   ]
  },
  {
   "cell_type": "markdown",
   "metadata": {
    "cell_id": "00002-03c42960-432d-4c11-bbc8-be8706919b49",
    "deepnote_cell_type": "markdown",
    "output_cleared": false,
    "tags": []
   },
   "source": [
    "## Visualization of the data"
   ]
  },
  {
   "cell_type": "code",
   "execution_count": null,
   "metadata": {
    "cell_id": "00002-72888ed5-4de0-454f-8e6e-45200e14f8e1",
    "deepnote_cell_type": "code",
    "deepnote_to_be_reexecuted": false,
    "execution_millis": 82,
    "execution_start": 1610109625444,
    "output_cleared": false,
    "source_hash": "b829dcc6",
    "tags": []
   },
   "outputs": [
    {
     "data": {
      "application/vnd.deepnote.dataframe.v2+json": {
       "column_count": 13,
       "columns": [
        {
         "dtype": "object",
         "name": "Loan_ID",
         "stats": {
          "categories": [
           {
            "count": 1,
            "name": "LP001002"
           },
           {
            "count": 1,
            "name": "LP001003"
           },
           {
            "count": 612,
            "name": "612 others"
           }
          ],
          "nan_count": 0,
          "unique_count": 614
         }
        },
        {
         "dtype": "object",
         "name": "Gender",
         "stats": {
          "categories": [
           {
            "count": 489,
            "name": "Male"
           },
           {
            "count": 112,
            "name": "Female"
           },
           {
            "count": 13,
            "name": "Missing"
           }
          ],
          "nan_count": 13,
          "unique_count": 2
         }
        },
        {
         "dtype": "object",
         "name": "Married",
         "stats": {
          "categories": [
           {
            "count": 398,
            "name": "Yes"
           },
           {
            "count": 213,
            "name": "No"
           },
           {
            "count": 3,
            "name": "Missing"
           }
          ],
          "nan_count": 3,
          "unique_count": 2
         }
        },
        {
         "dtype": "object",
         "name": "Dependents",
         "stats": {
          "categories": [
           {
            "count": 345,
            "name": "0"
           },
           {
            "count": 254,
            "name": "3 others"
           },
           {
            "count": 15,
            "name": "Missing"
           }
          ],
          "nan_count": 15,
          "unique_count": 4
         }
        },
        {
         "dtype": "object",
         "name": "Education",
         "stats": {
          "categories": [
           {
            "count": 480,
            "name": "Graduate"
           },
           {
            "count": 134,
            "name": "Not Graduate"
           }
          ],
          "nan_count": 0,
          "unique_count": 2
         }
        },
        {
         "dtype": "object",
         "name": "Self_Employed",
         "stats": {
          "categories": [
           {
            "count": 500,
            "name": "No"
           },
           {
            "count": 82,
            "name": "Yes"
           },
           {
            "count": 32,
            "name": "Missing"
           }
          ],
          "nan_count": 32,
          "unique_count": 2
         }
        },
        {
         "dtype": "int64",
         "name": "ApplicantIncome",
         "stats": {
          "histogram": [
           {
            "bin_end": 8235,
            "bin_start": 150,
            "count": 533
           },
           {
            "bin_end": 16320,
            "bin_start": 8235,
            "count": 59
           },
           {
            "bin_end": 24405,
            "bin_start": 16320,
            "count": 15
           },
           {
            "bin_end": 32490,
            "bin_start": 24405,
            "count": 0
           },
           {
            "bin_end": 40575,
            "bin_start": 32490,
            "count": 4
           },
           {
            "bin_end": 48660,
            "bin_start": 40575,
            "count": 0
           },
           {
            "bin_end": 56745,
            "bin_start": 48660,
            "count": 1
           },
           {
            "bin_end": 64830,
            "bin_start": 56745,
            "count": 1
           },
           {
            "bin_end": 72915,
            "bin_start": 64830,
            "count": 0
           },
           {
            "bin_end": 81000,
            "bin_start": 72915,
            "count": 1
           }
          ],
          "max": 81000,
          "min": 150,
          "nan_count": 0,
          "unique_count": 505
         }
        },
        {
         "dtype": "float64",
         "name": "CoapplicantIncome",
         "stats": {
          "histogram": [
           {
            "bin_end": 4166.7,
            "bin_start": 0,
            "count": 561
           },
           {
            "bin_end": 8333.4,
            "bin_start": 4166.7,
            "count": 46
           },
           {
            "bin_end": 12500.099999999999,
            "bin_start": 8333.4,
            "count": 3
           },
           {
            "bin_end": 16666.8,
            "bin_start": 12500.099999999999,
            "count": 0
           },
           {
            "bin_end": 20833.5,
            "bin_start": 16666.8,
            "count": 2
           },
           {
            "bin_end": 25000.199999999997,
            "bin_start": 20833.5,
            "count": 0
           },
           {
            "bin_end": 29166.899999999998,
            "bin_start": 25000.199999999997,
            "count": 0
           },
           {
            "bin_end": 33333.6,
            "bin_start": 29166.899999999998,
            "count": 0
           },
           {
            "bin_end": 37500.299999999996,
            "bin_start": 33333.6,
            "count": 1
           },
           {
            "bin_end": 41667,
            "bin_start": 37500.299999999996,
            "count": 1
           }
          ],
          "max": 41667,
          "min": 0,
          "nan_count": 0,
          "unique_count": 287
         }
        },
        {
         "dtype": "float64",
         "name": "LoanAmount",
         "stats": {
          "histogram": [
           {
            "bin_end": 78.1,
            "bin_start": 9,
            "count": 72
           },
           {
            "bin_end": 147.2,
            "bin_start": 78.1,
            "count": 310
           },
           {
            "bin_end": 216.29999999999998,
            "bin_start": 147.2,
            "count": 143
           },
           {
            "bin_end": 285.4,
            "bin_start": 216.29999999999998,
            "count": 33
           },
           {
            "bin_end": 354.5,
            "bin_start": 285.4,
            "count": 15
           },
           {
            "bin_end": 423.59999999999997,
            "bin_start": 354.5,
            "count": 6
           },
           {
            "bin_end": 492.69999999999993,
            "bin_start": 423.59999999999997,
            "count": 5
           },
           {
            "bin_end": 561.8,
            "bin_start": 492.69999999999993,
            "count": 3
           },
           {
            "bin_end": 630.9,
            "bin_start": 561.8,
            "count": 3
           },
           {
            "bin_end": 700,
            "bin_start": 630.9,
            "count": 2
           }
          ],
          "max": 700,
          "min": 9,
          "nan_count": 22,
          "unique_count": 203
         }
        },
        {
         "dtype": "float64",
         "name": "Loan_Amount_Term",
         "stats": {
          "histogram": [
           {
            "bin_end": 58.8,
            "bin_start": 12,
            "count": 3
           },
           {
            "bin_end": 105.6,
            "bin_start": 58.8,
            "count": 6
           },
           {
            "bin_end": 152.39999999999998,
            "bin_start": 105.6,
            "count": 3
           },
           {
            "bin_end": 199.2,
            "bin_start": 152.39999999999998,
            "count": 44
           },
           {
            "bin_end": 246,
            "bin_start": 199.2,
            "count": 4
           },
           {
            "bin_end": 292.79999999999995,
            "bin_start": 246,
            "count": 0
           },
           {
            "bin_end": 339.59999999999997,
            "bin_start": 292.79999999999995,
            "count": 13
           },
           {
            "bin_end": 386.4,
            "bin_start": 339.59999999999997,
            "count": 512
           },
           {
            "bin_end": 433.2,
            "bin_start": 386.4,
            "count": 0
           },
           {
            "bin_end": 480,
            "bin_start": 433.2,
            "count": 15
           }
          ],
          "max": 480,
          "min": 12,
          "nan_count": 14,
          "unique_count": 10
         }
        },
        {
         "dtype": "float64",
         "name": "Credit_History",
         "stats": {
          "histogram": [
           {
            "bin_end": 0.1,
            "bin_start": 0,
            "count": 89
           },
           {
            "bin_end": 0.2,
            "bin_start": 0.1,
            "count": 0
           },
           {
            "bin_end": 0.30000000000000004,
            "bin_start": 0.2,
            "count": 0
           },
           {
            "bin_end": 0.4,
            "bin_start": 0.30000000000000004,
            "count": 0
           },
           {
            "bin_end": 0.5,
            "bin_start": 0.4,
            "count": 0
           },
           {
            "bin_end": 0.6000000000000001,
            "bin_start": 0.5,
            "count": 0
           },
           {
            "bin_end": 0.7000000000000001,
            "bin_start": 0.6000000000000001,
            "count": 0
           },
           {
            "bin_end": 0.8,
            "bin_start": 0.7000000000000001,
            "count": 0
           },
           {
            "bin_end": 0.9,
            "bin_start": 0.8,
            "count": 0
           },
           {
            "bin_end": 1,
            "bin_start": 0.9,
            "count": 475
           }
          ],
          "max": 1,
          "min": 0,
          "nan_count": 50,
          "unique_count": 2
         }
        },
        {
         "dtype": "object",
         "name": "Property_Area",
         "stats": {
          "categories": [
           {
            "count": 233,
            "name": "Semiurban"
           },
           {
            "count": 202,
            "name": "Urban"
           },
           {
            "count": 179,
            "name": "Rural"
           }
          ],
          "nan_count": 0,
          "unique_count": 3
         }
        },
        {
         "dtype": "object",
         "name": "Loan_Status",
         "stats": {
          "categories": [
           {
            "count": 422,
            "name": "Y"
           },
           {
            "count": 192,
            "name": "N"
           }
          ],
          "nan_count": 0,
          "unique_count": 2
         }
        },
        {
         "dtype": "int64",
         "name": "_deepnote_index_column"
        }
       ],
       "row_count": 614,
       "rows_bottom": [
        {
         "ApplicantIncome": 3087,
         "CoapplicantIncome": 2210,
         "Credit_History": "0.0",
         "Dependents": "0",
         "Education": "Graduate",
         "Gender": "nan",
         "LoanAmount": "136.0",
         "Loan_Amount_Term": 360,
         "Loan_ID": "LP002872",
         "Loan_Status": "N",
         "Married": "Yes",
         "Property_Area": "Semiurban",
         "Self_Employed": "No",
         "_deepnote_index_column": 576
        },
        {
         "ApplicantIncome": 3229,
         "CoapplicantIncome": 2739,
         "Credit_History": "1.0",
         "Dependents": "0",
         "Education": "Graduate",
         "Gender": "Male",
         "LoanAmount": "110.0",
         "Loan_Amount_Term": 360,
         "Loan_ID": "LP002874",
         "Loan_Status": "Y",
         "Married": "No",
         "Property_Area": "Urban",
         "Self_Employed": "No",
         "_deepnote_index_column": 577
        },
        {
         "ApplicantIncome": 1782,
         "CoapplicantIncome": 2232,
         "Credit_History": "1.0",
         "Dependents": "1",
         "Education": "Graduate",
         "Gender": "Male",
         "LoanAmount": "107.0",
         "Loan_Amount_Term": 360,
         "Loan_ID": "LP002877",
         "Loan_Status": "Y",
         "Married": "Yes",
         "Property_Area": "Rural",
         "Self_Employed": "No",
         "_deepnote_index_column": 578
        },
        {
         "ApplicantIncome": 3182,
         "CoapplicantIncome": 2917,
         "Credit_History": "1.0",
         "Dependents": "0",
         "Education": "Graduate",
         "Gender": "Male",
         "LoanAmount": "161.0",
         "Loan_Amount_Term": 360,
         "Loan_ID": "LP002888",
         "Loan_Status": "Y",
         "Married": "No",
         "Property_Area": "Urban",
         "Self_Employed": "nan",
         "_deepnote_index_column": 579
        },
        {
         "ApplicantIncome": 6540,
         "CoapplicantIncome": 0,
         "Credit_History": "1.0",
         "Dependents": "2",
         "Education": "Graduate",
         "Gender": "Male",
         "LoanAmount": "205.0",
         "Loan_Amount_Term": 360,
         "Loan_ID": "LP002892",
         "Loan_Status": "Y",
         "Married": "Yes",
         "Property_Area": "Semiurban",
         "Self_Employed": "No",
         "_deepnote_index_column": 580
        },
        {
         "ApplicantIncome": 1836,
         "CoapplicantIncome": 33837,
         "Credit_History": "1.0",
         "Dependents": "0",
         "Education": "Graduate",
         "Gender": "Male",
         "LoanAmount": "90.0",
         "Loan_Amount_Term": 360,
         "Loan_ID": "LP002893",
         "Loan_Status": "N",
         "Married": "No",
         "Property_Area": "Urban",
         "Self_Employed": "No",
         "_deepnote_index_column": 581
        },
        {
         "ApplicantIncome": 3166,
         "CoapplicantIncome": 0,
         "Credit_History": "1.0",
         "Dependents": "0",
         "Education": "Graduate",
         "Gender": "Female",
         "LoanAmount": "36.0",
         "Loan_Amount_Term": 360,
         "Loan_ID": "LP002894",
         "Loan_Status": "Y",
         "Married": "Yes",
         "Property_Area": "Semiurban",
         "Self_Employed": "No",
         "_deepnote_index_column": 582
        },
        {
         "ApplicantIncome": 1880,
         "CoapplicantIncome": 0,
         "Credit_History": "nan",
         "Dependents": "1",
         "Education": "Graduate",
         "Gender": "Male",
         "LoanAmount": "61.0",
         "Loan_Amount_Term": 360,
         "Loan_ID": "LP002898",
         "Loan_Status": "N",
         "Married": "Yes",
         "Property_Area": "Rural",
         "Self_Employed": "No",
         "_deepnote_index_column": 583
        },
        {
         "ApplicantIncome": 2787,
         "CoapplicantIncome": 1917,
         "Credit_History": "0.0",
         "Dependents": "1",
         "Education": "Graduate",
         "Gender": "Male",
         "LoanAmount": "146.0",
         "Loan_Amount_Term": 360,
         "Loan_ID": "LP002911",
         "Loan_Status": "N",
         "Married": "Yes",
         "Property_Area": "Rural",
         "Self_Employed": "No",
         "_deepnote_index_column": 584
        },
        {
         "ApplicantIncome": 4283,
         "CoapplicantIncome": 3000,
         "Credit_History": "1.0",
         "Dependents": "1",
         "Education": "Graduate",
         "Gender": "Male",
         "LoanAmount": "172.0",
         "Loan_Amount_Term": 84,
         "Loan_ID": "LP002912",
         "Loan_Status": "N",
         "Married": "Yes",
         "Property_Area": "Rural",
         "Self_Employed": "No",
         "_deepnote_index_column": 585
        },
        {
         "ApplicantIncome": 2297,
         "CoapplicantIncome": 1522,
         "Credit_History": "1.0",
         "Dependents": "0",
         "Education": "Graduate",
         "Gender": "Male",
         "LoanAmount": "104.0",
         "Loan_Amount_Term": 360,
         "Loan_ID": "LP002916",
         "Loan_Status": "Y",
         "Married": "Yes",
         "Property_Area": "Urban",
         "Self_Employed": "No",
         "_deepnote_index_column": 586
        },
        {
         "ApplicantIncome": 2165,
         "CoapplicantIncome": 0,
         "Credit_History": "1.0",
         "Dependents": "0",
         "Education": "Not Graduate",
         "Gender": "Female",
         "LoanAmount": "70.0",
         "Loan_Amount_Term": 360,
         "Loan_ID": "LP002917",
         "Loan_Status": "Y",
         "Married": "No",
         "Property_Area": "Semiurban",
         "Self_Employed": "No",
         "_deepnote_index_column": 587
        },
        {
         "ApplicantIncome": 4750,
         "CoapplicantIncome": 0,
         "Credit_History": "1.0",
         "Dependents": "0",
         "Education": "Graduate",
         "Gender": "nan",
         "LoanAmount": "94.0",
         "Loan_Amount_Term": 360,
         "Loan_ID": "LP002925",
         "Loan_Status": "Y",
         "Married": "No",
         "Property_Area": "Semiurban",
         "Self_Employed": "No",
         "_deepnote_index_column": 588
        },
        {
         "ApplicantIncome": 2726,
         "CoapplicantIncome": 0,
         "Credit_History": "0.0",
         "Dependents": "2",
         "Education": "Graduate",
         "Gender": "Male",
         "LoanAmount": "106.0",
         "Loan_Amount_Term": 360,
         "Loan_ID": "LP002926",
         "Loan_Status": "N",
         "Married": "Yes",
         "Property_Area": "Semiurban",
         "Self_Employed": "Yes",
         "_deepnote_index_column": 589
        },
        {
         "ApplicantIncome": 3000,
         "CoapplicantIncome": 3416,
         "Credit_History": "1.0",
         "Dependents": "0",
         "Education": "Graduate",
         "Gender": "Male",
         "LoanAmount": "56.0",
         "Loan_Amount_Term": 180,
         "Loan_ID": "LP002928",
         "Loan_Status": "Y",
         "Married": "Yes",
         "Property_Area": "Semiurban",
         "Self_Employed": "No",
         "_deepnote_index_column": 590
        },
        {
         "ApplicantIncome": 6000,
         "CoapplicantIncome": 0,
         "Credit_History": "1.0",
         "Dependents": "2",
         "Education": "Graduate",
         "Gender": "Male",
         "LoanAmount": "205.0",
         "Loan_Amount_Term": 240,
         "Loan_ID": "LP002931",
         "Loan_Status": "N",
         "Married": "Yes",
         "Property_Area": "Semiurban",
         "Self_Employed": "Yes",
         "_deepnote_index_column": 591
        },
        {
         "ApplicantIncome": 9357,
         "CoapplicantIncome": 0,
         "Credit_History": "1.0",
         "Dependents": "3+",
         "Education": "Graduate",
         "Gender": "nan",
         "LoanAmount": "292.0",
         "Loan_Amount_Term": 360,
         "Loan_ID": "LP002933",
         "Loan_Status": "Y",
         "Married": "No",
         "Property_Area": "Semiurban",
         "Self_Employed": "Yes",
         "_deepnote_index_column": 592
        },
        {
         "ApplicantIncome": 3859,
         "CoapplicantIncome": 3300,
         "Credit_History": "1.0",
         "Dependents": "0",
         "Education": "Graduate",
         "Gender": "Male",
         "LoanAmount": "142.0",
         "Loan_Amount_Term": 180,
         "Loan_ID": "LP002936",
         "Loan_Status": "Y",
         "Married": "Yes",
         "Property_Area": "Rural",
         "Self_Employed": "No",
         "_deepnote_index_column": 593
        },
        {
         "ApplicantIncome": 16120,
         "CoapplicantIncome": 0,
         "Credit_History": "1.0",
         "Dependents": "0",
         "Education": "Graduate",
         "Gender": "Male",
         "LoanAmount": "260.0",
         "Loan_Amount_Term": 360,
         "Loan_ID": "LP002938",
         "Loan_Status": "Y",
         "Married": "Yes",
         "Property_Area": "Urban",
         "Self_Employed": "Yes",
         "_deepnote_index_column": 594
        },
        {
         "ApplicantIncome": 3833,
         "CoapplicantIncome": 0,
         "Credit_History": "1.0",
         "Dependents": "0",
         "Education": "Not Graduate",
         "Gender": "Male",
         "LoanAmount": "110.0",
         "Loan_Amount_Term": 360,
         "Loan_ID": "LP002940",
         "Loan_Status": "Y",
         "Married": "No",
         "Property_Area": "Rural",
         "Self_Employed": "No",
         "_deepnote_index_column": 595
        },
        {
         "ApplicantIncome": 6383,
         "CoapplicantIncome": 1000,
         "Credit_History": "1.0",
         "Dependents": "2",
         "Education": "Not Graduate",
         "Gender": "Male",
         "LoanAmount": "187.0",
         "Loan_Amount_Term": 360,
         "Loan_ID": "LP002941",
         "Loan_Status": "N",
         "Married": "Yes",
         "Property_Area": "Rural",
         "Self_Employed": "Yes",
         "_deepnote_index_column": 596
        },
        {
         "ApplicantIncome": 2987,
         "CoapplicantIncome": 0,
         "Credit_History": "0.0",
         "Dependents": "nan",
         "Education": "Graduate",
         "Gender": "Male",
         "LoanAmount": "88.0",
         "Loan_Amount_Term": 360,
         "Loan_ID": "LP002943",
         "Loan_Status": "N",
         "Married": "No",
         "Property_Area": "Semiurban",
         "Self_Employed": "No",
         "_deepnote_index_column": 597
        },
        {
         "ApplicantIncome": 9963,
         "CoapplicantIncome": 0,
         "Credit_History": "1.0",
         "Dependents": "0",
         "Education": "Graduate",
         "Gender": "Male",
         "LoanAmount": "180.0",
         "Loan_Amount_Term": 360,
         "Loan_ID": "LP002945",
         "Loan_Status": "Y",
         "Married": "Yes",
         "Property_Area": "Rural",
         "Self_Employed": "Yes",
         "_deepnote_index_column": 598
        },
        {
         "ApplicantIncome": 5780,
         "CoapplicantIncome": 0,
         "Credit_History": "1.0",
         "Dependents": "2",
         "Education": "Graduate",
         "Gender": "Male",
         "LoanAmount": "192.0",
         "Loan_Amount_Term": 360,
         "Loan_ID": "LP002948",
         "Loan_Status": "Y",
         "Married": "Yes",
         "Property_Area": "Urban",
         "Self_Employed": "No",
         "_deepnote_index_column": 599
        },
        {
         "ApplicantIncome": 416,
         "CoapplicantIncome": 41667,
         "Credit_History": "nan",
         "Dependents": "3+",
         "Education": "Graduate",
         "Gender": "Female",
         "LoanAmount": "350.0",
         "Loan_Amount_Term": 180,
         "Loan_ID": "LP002949",
         "Loan_Status": "N",
         "Married": "No",
         "Property_Area": "Urban",
         "Self_Employed": "nan",
         "_deepnote_index_column": 600
        },
        {
         "ApplicantIncome": 2894,
         "CoapplicantIncome": 2792,
         "Credit_History": "1.0",
         "Dependents": "0",
         "Education": "Not Graduate",
         "Gender": "Male",
         "LoanAmount": "155.0",
         "Loan_Amount_Term": 360,
         "Loan_ID": "LP002950",
         "Loan_Status": "Y",
         "Married": "Yes",
         "Property_Area": "Rural",
         "Self_Employed": "nan",
         "_deepnote_index_column": 601
        },
        {
         "ApplicantIncome": 5703,
         "CoapplicantIncome": 0,
         "Credit_History": "1.0",
         "Dependents": "3+",
         "Education": "Graduate",
         "Gender": "Male",
         "LoanAmount": "128.0",
         "Loan_Amount_Term": 360,
         "Loan_ID": "LP002953",
         "Loan_Status": "Y",
         "Married": "Yes",
         "Property_Area": "Urban",
         "Self_Employed": "No",
         "_deepnote_index_column": 602
        },
        {
         "ApplicantIncome": 3676,
         "CoapplicantIncome": 4301,
         "Credit_History": "1.0",
         "Dependents": "0",
         "Education": "Graduate",
         "Gender": "Male",
         "LoanAmount": "172.0",
         "Loan_Amount_Term": 360,
         "Loan_ID": "LP002958",
         "Loan_Status": "Y",
         "Married": "No",
         "Property_Area": "Rural",
         "Self_Employed": "No",
         "_deepnote_index_column": 603
        },
        {
         "ApplicantIncome": 12000,
         "CoapplicantIncome": 0,
         "Credit_History": "1.0",
         "Dependents": "1",
         "Education": "Graduate",
         "Gender": "Female",
         "LoanAmount": "496.0",
         "Loan_Amount_Term": 360,
         "Loan_ID": "LP002959",
         "Loan_Status": "Y",
         "Married": "Yes",
         "Property_Area": "Semiurban",
         "Self_Employed": "No",
         "_deepnote_index_column": 604
        },
        {
         "ApplicantIncome": 2400,
         "CoapplicantIncome": 3800,
         "Credit_History": "1.0",
         "Dependents": "0",
         "Education": "Not Graduate",
         "Gender": "Male",
         "LoanAmount": "nan",
         "Loan_Amount_Term": 180,
         "Loan_ID": "LP002960",
         "Loan_Status": "N",
         "Married": "Yes",
         "Property_Area": "Urban",
         "Self_Employed": "No",
         "_deepnote_index_column": 605
        },
        {
         "ApplicantIncome": 3400,
         "CoapplicantIncome": 2500,
         "Credit_History": "1.0",
         "Dependents": "1",
         "Education": "Graduate",
         "Gender": "Male",
         "LoanAmount": "173.0",
         "Loan_Amount_Term": 360,
         "Loan_ID": "LP002961",
         "Loan_Status": "Y",
         "Married": "Yes",
         "Property_Area": "Semiurban",
         "Self_Employed": "No",
         "_deepnote_index_column": 606
        },
        {
         "ApplicantIncome": 3987,
         "CoapplicantIncome": 1411,
         "Credit_History": "1.0",
         "Dependents": "2",
         "Education": "Not Graduate",
         "Gender": "Male",
         "LoanAmount": "157.0",
         "Loan_Amount_Term": 360,
         "Loan_ID": "LP002964",
         "Loan_Status": "Y",
         "Married": "Yes",
         "Property_Area": "Rural",
         "Self_Employed": "No",
         "_deepnote_index_column": 607
        },
        {
         "ApplicantIncome": 3232,
         "CoapplicantIncome": 1950,
         "Credit_History": "1.0",
         "Dependents": "0",
         "Education": "Graduate",
         "Gender": "Male",
         "LoanAmount": "108.0",
         "Loan_Amount_Term": 360,
         "Loan_ID": "LP002974",
         "Loan_Status": "Y",
         "Married": "Yes",
         "Property_Area": "Rural",
         "Self_Employed": "No",
         "_deepnote_index_column": 608
        },
        {
         "ApplicantIncome": 2900,
         "CoapplicantIncome": 0,
         "Credit_History": "1.0",
         "Dependents": "0",
         "Education": "Graduate",
         "Gender": "Female",
         "LoanAmount": "71.0",
         "Loan_Amount_Term": 360,
         "Loan_ID": "LP002978",
         "Loan_Status": "Y",
         "Married": "No",
         "Property_Area": "Rural",
         "Self_Employed": "No",
         "_deepnote_index_column": 609
        },
        {
         "ApplicantIncome": 4106,
         "CoapplicantIncome": 0,
         "Credit_History": "1.0",
         "Dependents": "3+",
         "Education": "Graduate",
         "Gender": "Male",
         "LoanAmount": "40.0",
         "Loan_Amount_Term": 180,
         "Loan_ID": "LP002979",
         "Loan_Status": "Y",
         "Married": "Yes",
         "Property_Area": "Rural",
         "Self_Employed": "No",
         "_deepnote_index_column": 610
        },
        {
         "ApplicantIncome": 8072,
         "CoapplicantIncome": 240,
         "Credit_History": "1.0",
         "Dependents": "1",
         "Education": "Graduate",
         "Gender": "Male",
         "LoanAmount": "253.0",
         "Loan_Amount_Term": 360,
         "Loan_ID": "LP002983",
         "Loan_Status": "Y",
         "Married": "Yes",
         "Property_Area": "Urban",
         "Self_Employed": "No",
         "_deepnote_index_column": 611
        },
        {
         "ApplicantIncome": 7583,
         "CoapplicantIncome": 0,
         "Credit_History": "1.0",
         "Dependents": "2",
         "Education": "Graduate",
         "Gender": "Male",
         "LoanAmount": "187.0",
         "Loan_Amount_Term": 360,
         "Loan_ID": "LP002984",
         "Loan_Status": "Y",
         "Married": "Yes",
         "Property_Area": "Urban",
         "Self_Employed": "No",
         "_deepnote_index_column": 612
        },
        {
         "ApplicantIncome": 4583,
         "CoapplicantIncome": 0,
         "Credit_History": "0.0",
         "Dependents": "0",
         "Education": "Graduate",
         "Gender": "Female",
         "LoanAmount": "133.0",
         "Loan_Amount_Term": 360,
         "Loan_ID": "LP002990",
         "Loan_Status": "N",
         "Married": "No",
         "Property_Area": "Semiurban",
         "Self_Employed": "Yes",
         "_deepnote_index_column": 613
        }
       ],
       "rows_top": [
        {
         "ApplicantIncome": 5849,
         "CoapplicantIncome": 0,
         "Credit_History": "1.0",
         "Dependents": "0",
         "Education": "Graduate",
         "Gender": "Male",
         "LoanAmount": "nan",
         "Loan_Amount_Term": "360.0",
         "Loan_ID": "LP001002",
         "Loan_Status": "Y",
         "Married": "No",
         "Property_Area": "Urban",
         "Self_Employed": "No",
         "_deepnote_index_column": 0
        },
        {
         "ApplicantIncome": 4583,
         "CoapplicantIncome": 1508,
         "Credit_History": "1.0",
         "Dependents": "1",
         "Education": "Graduate",
         "Gender": "Male",
         "LoanAmount": "128.0",
         "Loan_Amount_Term": "360.0",
         "Loan_ID": "LP001003",
         "Loan_Status": "N",
         "Married": "Yes",
         "Property_Area": "Rural",
         "Self_Employed": "No",
         "_deepnote_index_column": 1
        },
        {
         "ApplicantIncome": 3000,
         "CoapplicantIncome": 0,
         "Credit_History": "1.0",
         "Dependents": "0",
         "Education": "Graduate",
         "Gender": "Male",
         "LoanAmount": "66.0",
         "Loan_Amount_Term": "360.0",
         "Loan_ID": "LP001005",
         "Loan_Status": "Y",
         "Married": "Yes",
         "Property_Area": "Urban",
         "Self_Employed": "Yes",
         "_deepnote_index_column": 2
        },
        {
         "ApplicantIncome": 2583,
         "CoapplicantIncome": 2358,
         "Credit_History": "1.0",
         "Dependents": "0",
         "Education": "Not Graduate",
         "Gender": "Male",
         "LoanAmount": "120.0",
         "Loan_Amount_Term": "360.0",
         "Loan_ID": "LP001006",
         "Loan_Status": "Y",
         "Married": "Yes",
         "Property_Area": "Urban",
         "Self_Employed": "No",
         "_deepnote_index_column": 3
        },
        {
         "ApplicantIncome": 6000,
         "CoapplicantIncome": 0,
         "Credit_History": "1.0",
         "Dependents": "0",
         "Education": "Graduate",
         "Gender": "Male",
         "LoanAmount": "141.0",
         "Loan_Amount_Term": "360.0",
         "Loan_ID": "LP001008",
         "Loan_Status": "Y",
         "Married": "No",
         "Property_Area": "Urban",
         "Self_Employed": "No",
         "_deepnote_index_column": 4
        },
        {
         "ApplicantIncome": 5417,
         "CoapplicantIncome": 4196,
         "Credit_History": "1.0",
         "Dependents": "2",
         "Education": "Graduate",
         "Gender": "Male",
         "LoanAmount": "267.0",
         "Loan_Amount_Term": "360.0",
         "Loan_ID": "LP001011",
         "Loan_Status": "Y",
         "Married": "Yes",
         "Property_Area": "Urban",
         "Self_Employed": "Yes",
         "_deepnote_index_column": 5
        },
        {
         "ApplicantIncome": 2333,
         "CoapplicantIncome": 1516,
         "Credit_History": "1.0",
         "Dependents": "0",
         "Education": "Not Graduate",
         "Gender": "Male",
         "LoanAmount": "95.0",
         "Loan_Amount_Term": "360.0",
         "Loan_ID": "LP001013",
         "Loan_Status": "Y",
         "Married": "Yes",
         "Property_Area": "Urban",
         "Self_Employed": "No",
         "_deepnote_index_column": 6
        },
        {
         "ApplicantIncome": 3036,
         "CoapplicantIncome": 2504,
         "Credit_History": "0.0",
         "Dependents": "3+",
         "Education": "Graduate",
         "Gender": "Male",
         "LoanAmount": "158.0",
         "Loan_Amount_Term": "360.0",
         "Loan_ID": "LP001014",
         "Loan_Status": "N",
         "Married": "Yes",
         "Property_Area": "Semiurban",
         "Self_Employed": "No",
         "_deepnote_index_column": 7
        },
        {
         "ApplicantIncome": 4006,
         "CoapplicantIncome": 1526,
         "Credit_History": "1.0",
         "Dependents": "2",
         "Education": "Graduate",
         "Gender": "Male",
         "LoanAmount": "168.0",
         "Loan_Amount_Term": "360.0",
         "Loan_ID": "LP001018",
         "Loan_Status": "Y",
         "Married": "Yes",
         "Property_Area": "Urban",
         "Self_Employed": "No",
         "_deepnote_index_column": 8
        },
        {
         "ApplicantIncome": 12841,
         "CoapplicantIncome": 10968,
         "Credit_History": "1.0",
         "Dependents": "1",
         "Education": "Graduate",
         "Gender": "Male",
         "LoanAmount": "349.0",
         "Loan_Amount_Term": "360.0",
         "Loan_ID": "LP001020",
         "Loan_Status": "N",
         "Married": "Yes",
         "Property_Area": "Semiurban",
         "Self_Employed": "No",
         "_deepnote_index_column": 9
        },
        {
         "ApplicantIncome": 3200,
         "CoapplicantIncome": 700,
         "Credit_History": "1.0",
         "Dependents": "2",
         "Education": "Graduate",
         "Gender": "Male",
         "LoanAmount": "70.0",
         "Loan_Amount_Term": "360.0",
         "Loan_ID": "LP001024",
         "Loan_Status": "Y",
         "Married": "Yes",
         "Property_Area": "Urban",
         "Self_Employed": "No",
         "_deepnote_index_column": 10
        },
        {
         "ApplicantIncome": 2500,
         "CoapplicantIncome": 1840,
         "Credit_History": "1.0",
         "Dependents": "2",
         "Education": "Graduate",
         "Gender": "Male",
         "LoanAmount": "109.0",
         "Loan_Amount_Term": "360.0",
         "Loan_ID": "LP001027",
         "Loan_Status": "Y",
         "Married": "Yes",
         "Property_Area": "Urban",
         "Self_Employed": "nan",
         "_deepnote_index_column": 11
        },
        {
         "ApplicantIncome": 3073,
         "CoapplicantIncome": 8106,
         "Credit_History": "1.0",
         "Dependents": "2",
         "Education": "Graduate",
         "Gender": "Male",
         "LoanAmount": "200.0",
         "Loan_Amount_Term": "360.0",
         "Loan_ID": "LP001028",
         "Loan_Status": "Y",
         "Married": "Yes",
         "Property_Area": "Urban",
         "Self_Employed": "No",
         "_deepnote_index_column": 12
        },
        {
         "ApplicantIncome": 1853,
         "CoapplicantIncome": 2840,
         "Credit_History": "1.0",
         "Dependents": "0",
         "Education": "Graduate",
         "Gender": "Male",
         "LoanAmount": "114.0",
         "Loan_Amount_Term": "360.0",
         "Loan_ID": "LP001029",
         "Loan_Status": "N",
         "Married": "No",
         "Property_Area": "Rural",
         "Self_Employed": "No",
         "_deepnote_index_column": 13
        },
        {
         "ApplicantIncome": 1299,
         "CoapplicantIncome": 1086,
         "Credit_History": "1.0",
         "Dependents": "2",
         "Education": "Graduate",
         "Gender": "Male",
         "LoanAmount": "17.0",
         "Loan_Amount_Term": "120.0",
         "Loan_ID": "LP001030",
         "Loan_Status": "Y",
         "Married": "Yes",
         "Property_Area": "Urban",
         "Self_Employed": "No",
         "_deepnote_index_column": 14
        },
        {
         "ApplicantIncome": 4950,
         "CoapplicantIncome": 0,
         "Credit_History": "1.0",
         "Dependents": "0",
         "Education": "Graduate",
         "Gender": "Male",
         "LoanAmount": "125.0",
         "Loan_Amount_Term": "360.0",
         "Loan_ID": "LP001032",
         "Loan_Status": "Y",
         "Married": "No",
         "Property_Area": "Urban",
         "Self_Employed": "No",
         "_deepnote_index_column": 15
        },
        {
         "ApplicantIncome": 3596,
         "CoapplicantIncome": 0,
         "Credit_History": "nan",
         "Dependents": "1",
         "Education": "Not Graduate",
         "Gender": "Male",
         "LoanAmount": "100.0",
         "Loan_Amount_Term": "240.0",
         "Loan_ID": "LP001034",
         "Loan_Status": "Y",
         "Married": "No",
         "Property_Area": "Urban",
         "Self_Employed": "No",
         "_deepnote_index_column": 16
        },
        {
         "ApplicantIncome": 3510,
         "CoapplicantIncome": 0,
         "Credit_History": "0.0",
         "Dependents": "0",
         "Education": "Graduate",
         "Gender": "Female",
         "LoanAmount": "76.0",
         "Loan_Amount_Term": "360.0",
         "Loan_ID": "LP001036",
         "Loan_Status": "N",
         "Married": "No",
         "Property_Area": "Urban",
         "Self_Employed": "No",
         "_deepnote_index_column": 17
        },
        {
         "ApplicantIncome": 4887,
         "CoapplicantIncome": 0,
         "Credit_History": "1.0",
         "Dependents": "0",
         "Education": "Not Graduate",
         "Gender": "Male",
         "LoanAmount": "133.0",
         "Loan_Amount_Term": "360.0",
         "Loan_ID": "LP001038",
         "Loan_Status": "N",
         "Married": "Yes",
         "Property_Area": "Rural",
         "Self_Employed": "No",
         "_deepnote_index_column": 18
        },
        {
         "ApplicantIncome": 2600,
         "CoapplicantIncome": 3500,
         "Credit_History": "1.0",
         "Dependents": "0",
         "Education": "Graduate",
         "Gender": "Male",
         "LoanAmount": "115.0",
         "Loan_Amount_Term": "nan",
         "Loan_ID": "LP001041",
         "Loan_Status": "Y",
         "Married": "Yes",
         "Property_Area": "Urban",
         "Self_Employed": "nan",
         "_deepnote_index_column": 19
        },
        {
         "ApplicantIncome": 7660,
         "CoapplicantIncome": 0,
         "Credit_History": "0.0",
         "Dependents": "0",
         "Education": "Not Graduate",
         "Gender": "Male",
         "LoanAmount": "104.0",
         "Loan_Amount_Term": "360.0",
         "Loan_ID": "LP001043",
         "Loan_Status": "N",
         "Married": "Yes",
         "Property_Area": "Urban",
         "Self_Employed": "No",
         "_deepnote_index_column": 20
        },
        {
         "ApplicantIncome": 5955,
         "CoapplicantIncome": 5625,
         "Credit_History": "1.0",
         "Dependents": "1",
         "Education": "Graduate",
         "Gender": "Male",
         "LoanAmount": "315.0",
         "Loan_Amount_Term": "360.0",
         "Loan_ID": "LP001046",
         "Loan_Status": "Y",
         "Married": "Yes",
         "Property_Area": "Urban",
         "Self_Employed": "No",
         "_deepnote_index_column": 21
        },
        {
         "ApplicantIncome": 2600,
         "CoapplicantIncome": 1911,
         "Credit_History": "0.0",
         "Dependents": "0",
         "Education": "Not Graduate",
         "Gender": "Male",
         "LoanAmount": "116.0",
         "Loan_Amount_Term": "360.0",
         "Loan_ID": "LP001047",
         "Loan_Status": "N",
         "Married": "Yes",
         "Property_Area": "Semiurban",
         "Self_Employed": "No",
         "_deepnote_index_column": 22
        },
        {
         "ApplicantIncome": 3365,
         "CoapplicantIncome": 1917,
         "Credit_History": "0.0",
         "Dependents": "2",
         "Education": "Not Graduate",
         "Gender": "nan",
         "LoanAmount": "112.0",
         "Loan_Amount_Term": "360.0",
         "Loan_ID": "LP001050",
         "Loan_Status": "N",
         "Married": "Yes",
         "Property_Area": "Rural",
         "Self_Employed": "No",
         "_deepnote_index_column": 23
        },
        {
         "ApplicantIncome": 3717,
         "CoapplicantIncome": 2925,
         "Credit_History": "nan",
         "Dependents": "1",
         "Education": "Graduate",
         "Gender": "Male",
         "LoanAmount": "151.0",
         "Loan_Amount_Term": "360.0",
         "Loan_ID": "LP001052",
         "Loan_Status": "N",
         "Married": "Yes",
         "Property_Area": "Semiurban",
         "Self_Employed": "nan",
         "_deepnote_index_column": 24
        },
        {
         "ApplicantIncome": 9560,
         "CoapplicantIncome": 0,
         "Credit_History": "1.0",
         "Dependents": "0",
         "Education": "Graduate",
         "Gender": "Male",
         "LoanAmount": "191.0",
         "Loan_Amount_Term": "360.0",
         "Loan_ID": "LP001066",
         "Loan_Status": "Y",
         "Married": "Yes",
         "Property_Area": "Semiurban",
         "Self_Employed": "Yes",
         "_deepnote_index_column": 25
        },
        {
         "ApplicantIncome": 2799,
         "CoapplicantIncome": 2253,
         "Credit_History": "1.0",
         "Dependents": "0",
         "Education": "Graduate",
         "Gender": "Male",
         "LoanAmount": "122.0",
         "Loan_Amount_Term": "360.0",
         "Loan_ID": "LP001068",
         "Loan_Status": "Y",
         "Married": "Yes",
         "Property_Area": "Semiurban",
         "Self_Employed": "No",
         "_deepnote_index_column": 26
        },
        {
         "ApplicantIncome": 4226,
         "CoapplicantIncome": 1040,
         "Credit_History": "1.0",
         "Dependents": "2",
         "Education": "Not Graduate",
         "Gender": "Male",
         "LoanAmount": "110.0",
         "Loan_Amount_Term": "360.0",
         "Loan_ID": "LP001073",
         "Loan_Status": "Y",
         "Married": "Yes",
         "Property_Area": "Urban",
         "Self_Employed": "No",
         "_deepnote_index_column": 27
        },
        {
         "ApplicantIncome": 1442,
         "CoapplicantIncome": 0,
         "Credit_History": "1.0",
         "Dependents": "0",
         "Education": "Not Graduate",
         "Gender": "Male",
         "LoanAmount": "35.0",
         "Loan_Amount_Term": "360.0",
         "Loan_ID": "LP001086",
         "Loan_Status": "N",
         "Married": "No",
         "Property_Area": "Urban",
         "Self_Employed": "No",
         "_deepnote_index_column": 28
        },
        {
         "ApplicantIncome": 3750,
         "CoapplicantIncome": 2083,
         "Credit_History": "1.0",
         "Dependents": "2",
         "Education": "Graduate",
         "Gender": "Female",
         "LoanAmount": "120.0",
         "Loan_Amount_Term": "360.0",
         "Loan_ID": "LP001087",
         "Loan_Status": "Y",
         "Married": "No",
         "Property_Area": "Semiurban",
         "Self_Employed": "nan",
         "_deepnote_index_column": 29
        },
        {
         "ApplicantIncome": 4166,
         "CoapplicantIncome": 3369,
         "Credit_History": "nan",
         "Dependents": "1",
         "Education": "Graduate",
         "Gender": "Male",
         "LoanAmount": "201.0",
         "Loan_Amount_Term": "360.0",
         "Loan_ID": "LP001091",
         "Loan_Status": "N",
         "Married": "Yes",
         "Property_Area": "Urban",
         "Self_Employed": "nan",
         "_deepnote_index_column": 30
        },
        {
         "ApplicantIncome": 3167,
         "CoapplicantIncome": 0,
         "Credit_History": "1.0",
         "Dependents": "0",
         "Education": "Graduate",
         "Gender": "Male",
         "LoanAmount": "74.0",
         "Loan_Amount_Term": "360.0",
         "Loan_ID": "LP001095",
         "Loan_Status": "N",
         "Married": "No",
         "Property_Area": "Urban",
         "Self_Employed": "No",
         "_deepnote_index_column": 31
        },
        {
         "ApplicantIncome": 4692,
         "CoapplicantIncome": 0,
         "Credit_History": "1.0",
         "Dependents": "1",
         "Education": "Graduate",
         "Gender": "Male",
         "LoanAmount": "106.0",
         "Loan_Amount_Term": "360.0",
         "Loan_ID": "LP001097",
         "Loan_Status": "N",
         "Married": "No",
         "Property_Area": "Rural",
         "Self_Employed": "Yes",
         "_deepnote_index_column": 32
        },
        {
         "ApplicantIncome": 3500,
         "CoapplicantIncome": 1667,
         "Credit_History": "1.0",
         "Dependents": "0",
         "Education": "Graduate",
         "Gender": "Male",
         "LoanAmount": "114.0",
         "Loan_Amount_Term": "360.0",
         "Loan_ID": "LP001098",
         "Loan_Status": "Y",
         "Married": "Yes",
         "Property_Area": "Semiurban",
         "Self_Employed": "No",
         "_deepnote_index_column": 33
        },
        {
         "ApplicantIncome": 12500,
         "CoapplicantIncome": 3000,
         "Credit_History": "1.0",
         "Dependents": "3+",
         "Education": "Graduate",
         "Gender": "Male",
         "LoanAmount": "320.0",
         "Loan_Amount_Term": "360.0",
         "Loan_ID": "LP001100",
         "Loan_Status": "N",
         "Married": "No",
         "Property_Area": "Rural",
         "Self_Employed": "No",
         "_deepnote_index_column": 34
        },
        {
         "ApplicantIncome": 2275,
         "CoapplicantIncome": 2067,
         "Credit_History": "1.0",
         "Dependents": "0",
         "Education": "Graduate",
         "Gender": "Male",
         "LoanAmount": "nan",
         "Loan_Amount_Term": "360.0",
         "Loan_ID": "LP001106",
         "Loan_Status": "Y",
         "Married": "Yes",
         "Property_Area": "Urban",
         "Self_Employed": "No",
         "_deepnote_index_column": 35
        },
        {
         "ApplicantIncome": 1828,
         "CoapplicantIncome": 1330,
         "Credit_History": "0.0",
         "Dependents": "0",
         "Education": "Graduate",
         "Gender": "Male",
         "LoanAmount": "100.0",
         "Loan_Amount_Term": "nan",
         "Loan_ID": "LP001109",
         "Loan_Status": "N",
         "Married": "Yes",
         "Property_Area": "Urban",
         "Self_Employed": "No",
         "_deepnote_index_column": 36
        },
        {
         "ApplicantIncome": 3667,
         "CoapplicantIncome": 1459,
         "Credit_History": "1.0",
         "Dependents": "0",
         "Education": "Graduate",
         "Gender": "Female",
         "LoanAmount": "144.0",
         "Loan_Amount_Term": "360.0",
         "Loan_ID": "LP001112",
         "Loan_Status": "Y",
         "Married": "Yes",
         "Property_Area": "Semiurban",
         "Self_Employed": "No",
         "_deepnote_index_column": 37
        }
       ]
      },
      "text/html": [
       "<div>\n",
       "<style scoped>\n",
       "    .dataframe tbody tr th:only-of-type {\n",
       "        vertical-align: middle;\n",
       "    }\n",
       "\n",
       "    .dataframe tbody tr th {\n",
       "        vertical-align: top;\n",
       "    }\n",
       "\n",
       "    .dataframe thead th {\n",
       "        text-align: right;\n",
       "    }\n",
       "</style>\n",
       "<table border=\"1\" class=\"dataframe\">\n",
       "  <thead>\n",
       "    <tr style=\"text-align: right;\">\n",
       "      <th></th>\n",
       "      <th>Loan_ID</th>\n",
       "      <th>Gender</th>\n",
       "      <th>Married</th>\n",
       "      <th>Dependents</th>\n",
       "      <th>Education</th>\n",
       "      <th>Self_Employed</th>\n",
       "      <th>ApplicantIncome</th>\n",
       "      <th>CoapplicantIncome</th>\n",
       "      <th>LoanAmount</th>\n",
       "      <th>Loan_Amount_Term</th>\n",
       "      <th>Credit_History</th>\n",
       "      <th>Property_Area</th>\n",
       "      <th>Loan_Status</th>\n",
       "    </tr>\n",
       "  </thead>\n",
       "  <tbody>\n",
       "    <tr>\n",
       "      <th>0</th>\n",
       "      <td>LP001002</td>\n",
       "      <td>Male</td>\n",
       "      <td>No</td>\n",
       "      <td>0</td>\n",
       "      <td>Graduate</td>\n",
       "      <td>No</td>\n",
       "      <td>5849</td>\n",
       "      <td>0.0</td>\n",
       "      <td>NaN</td>\n",
       "      <td>360.0</td>\n",
       "      <td>1.0</td>\n",
       "      <td>Urban</td>\n",
       "      <td>Y</td>\n",
       "    </tr>\n",
       "    <tr>\n",
       "      <th>1</th>\n",
       "      <td>LP001003</td>\n",
       "      <td>Male</td>\n",
       "      <td>Yes</td>\n",
       "      <td>1</td>\n",
       "      <td>Graduate</td>\n",
       "      <td>No</td>\n",
       "      <td>4583</td>\n",
       "      <td>1508.0</td>\n",
       "      <td>128.0</td>\n",
       "      <td>360.0</td>\n",
       "      <td>1.0</td>\n",
       "      <td>Rural</td>\n",
       "      <td>N</td>\n",
       "    </tr>\n",
       "    <tr>\n",
       "      <th>2</th>\n",
       "      <td>LP001005</td>\n",
       "      <td>Male</td>\n",
       "      <td>Yes</td>\n",
       "      <td>0</td>\n",
       "      <td>Graduate</td>\n",
       "      <td>Yes</td>\n",
       "      <td>3000</td>\n",
       "      <td>0.0</td>\n",
       "      <td>66.0</td>\n",
       "      <td>360.0</td>\n",
       "      <td>1.0</td>\n",
       "      <td>Urban</td>\n",
       "      <td>Y</td>\n",
       "    </tr>\n",
       "    <tr>\n",
       "      <th>3</th>\n",
       "      <td>LP001006</td>\n",
       "      <td>Male</td>\n",
       "      <td>Yes</td>\n",
       "      <td>0</td>\n",
       "      <td>Not Graduate</td>\n",
       "      <td>No</td>\n",
       "      <td>2583</td>\n",
       "      <td>2358.0</td>\n",
       "      <td>120.0</td>\n",
       "      <td>360.0</td>\n",
       "      <td>1.0</td>\n",
       "      <td>Urban</td>\n",
       "      <td>Y</td>\n",
       "    </tr>\n",
       "    <tr>\n",
       "      <th>4</th>\n",
       "      <td>LP001008</td>\n",
       "      <td>Male</td>\n",
       "      <td>No</td>\n",
       "      <td>0</td>\n",
       "      <td>Graduate</td>\n",
       "      <td>No</td>\n",
       "      <td>6000</td>\n",
       "      <td>0.0</td>\n",
       "      <td>141.0</td>\n",
       "      <td>360.0</td>\n",
       "      <td>1.0</td>\n",
       "      <td>Urban</td>\n",
       "      <td>Y</td>\n",
       "    </tr>\n",
       "    <tr>\n",
       "      <th>...</th>\n",
       "      <td>...</td>\n",
       "      <td>...</td>\n",
       "      <td>...</td>\n",
       "      <td>...</td>\n",
       "      <td>...</td>\n",
       "      <td>...</td>\n",
       "      <td>...</td>\n",
       "      <td>...</td>\n",
       "      <td>...</td>\n",
       "      <td>...</td>\n",
       "      <td>...</td>\n",
       "      <td>...</td>\n",
       "      <td>...</td>\n",
       "    </tr>\n",
       "    <tr>\n",
       "      <th>609</th>\n",
       "      <td>LP002978</td>\n",
       "      <td>Female</td>\n",
       "      <td>No</td>\n",
       "      <td>0</td>\n",
       "      <td>Graduate</td>\n",
       "      <td>No</td>\n",
       "      <td>2900</td>\n",
       "      <td>0.0</td>\n",
       "      <td>71.0</td>\n",
       "      <td>360.0</td>\n",
       "      <td>1.0</td>\n",
       "      <td>Rural</td>\n",
       "      <td>Y</td>\n",
       "    </tr>\n",
       "    <tr>\n",
       "      <th>610</th>\n",
       "      <td>LP002979</td>\n",
       "      <td>Male</td>\n",
       "      <td>Yes</td>\n",
       "      <td>3+</td>\n",
       "      <td>Graduate</td>\n",
       "      <td>No</td>\n",
       "      <td>4106</td>\n",
       "      <td>0.0</td>\n",
       "      <td>40.0</td>\n",
       "      <td>180.0</td>\n",
       "      <td>1.0</td>\n",
       "      <td>Rural</td>\n",
       "      <td>Y</td>\n",
       "    </tr>\n",
       "    <tr>\n",
       "      <th>611</th>\n",
       "      <td>LP002983</td>\n",
       "      <td>Male</td>\n",
       "      <td>Yes</td>\n",
       "      <td>1</td>\n",
       "      <td>Graduate</td>\n",
       "      <td>No</td>\n",
       "      <td>8072</td>\n",
       "      <td>240.0</td>\n",
       "      <td>253.0</td>\n",
       "      <td>360.0</td>\n",
       "      <td>1.0</td>\n",
       "      <td>Urban</td>\n",
       "      <td>Y</td>\n",
       "    </tr>\n",
       "    <tr>\n",
       "      <th>612</th>\n",
       "      <td>LP002984</td>\n",
       "      <td>Male</td>\n",
       "      <td>Yes</td>\n",
       "      <td>2</td>\n",
       "      <td>Graduate</td>\n",
       "      <td>No</td>\n",
       "      <td>7583</td>\n",
       "      <td>0.0</td>\n",
       "      <td>187.0</td>\n",
       "      <td>360.0</td>\n",
       "      <td>1.0</td>\n",
       "      <td>Urban</td>\n",
       "      <td>Y</td>\n",
       "    </tr>\n",
       "    <tr>\n",
       "      <th>613</th>\n",
       "      <td>LP002990</td>\n",
       "      <td>Female</td>\n",
       "      <td>No</td>\n",
       "      <td>0</td>\n",
       "      <td>Graduate</td>\n",
       "      <td>Yes</td>\n",
       "      <td>4583</td>\n",
       "      <td>0.0</td>\n",
       "      <td>133.0</td>\n",
       "      <td>360.0</td>\n",
       "      <td>0.0</td>\n",
       "      <td>Semiurban</td>\n",
       "      <td>N</td>\n",
       "    </tr>\n",
       "  </tbody>\n",
       "</table>\n",
       "<p>614 rows × 13 columns</p>\n",
       "</div>"
      ],
      "text/plain": [
       "      Loan_ID  Gender Married Dependents     Education Self_Employed  \\\n",
       "0    LP001002    Male      No          0      Graduate            No   \n",
       "1    LP001003    Male     Yes          1      Graduate            No   \n",
       "2    LP001005    Male     Yes          0      Graduate           Yes   \n",
       "3    LP001006    Male     Yes          0  Not Graduate            No   \n",
       "4    LP001008    Male      No          0      Graduate            No   \n",
       "..        ...     ...     ...        ...           ...           ...   \n",
       "609  LP002978  Female      No          0      Graduate            No   \n",
       "610  LP002979    Male     Yes         3+      Graduate            No   \n",
       "611  LP002983    Male     Yes          1      Graduate            No   \n",
       "612  LP002984    Male     Yes          2      Graduate            No   \n",
       "613  LP002990  Female      No          0      Graduate           Yes   \n",
       "\n",
       "     ApplicantIncome  CoapplicantIncome  LoanAmount  Loan_Amount_Term  \\\n",
       "0               5849                0.0         NaN             360.0   \n",
       "1               4583             1508.0       128.0             360.0   \n",
       "2               3000                0.0        66.0             360.0   \n",
       "3               2583             2358.0       120.0             360.0   \n",
       "4               6000                0.0       141.0             360.0   \n",
       "..               ...                ...         ...               ...   \n",
       "609             2900                0.0        71.0             360.0   \n",
       "610             4106                0.0        40.0             180.0   \n",
       "611             8072              240.0       253.0             360.0   \n",
       "612             7583                0.0       187.0             360.0   \n",
       "613             4583                0.0       133.0             360.0   \n",
       "\n",
       "     Credit_History Property_Area Loan_Status  \n",
       "0               1.0         Urban           Y  \n",
       "1               1.0         Rural           N  \n",
       "2               1.0         Urban           Y  \n",
       "3               1.0         Urban           Y  \n",
       "4               1.0         Urban           Y  \n",
       "..              ...           ...         ...  \n",
       "609             1.0         Rural           Y  \n",
       "610             1.0         Rural           Y  \n",
       "611             1.0         Urban           Y  \n",
       "612             1.0         Urban           Y  \n",
       "613             0.0     Semiurban           N  \n",
       "\n",
       "[614 rows x 13 columns]"
      ]
     },
     "execution_count": 31,
     "metadata": {},
     "output_type": "execute_result"
    }
   ],
   "source": [
    "df.head(615)\n",
    "# Dependents = personne à charge. Credit_History = as-t'il déja fait un pret ?."
   ]
  },
  {
   "cell_type": "markdown",
   "metadata": {
    "cell_id": "00005-ab44c48e-14e6-4e1d-9069-603a44133980",
    "deepnote_cell_type": "markdown",
    "output_cleared": false,
    "tags": []
   },
   "source": [
    "## See the proportions"
   ]
  },
  {
   "cell_type": "code",
   "execution_count": null,
   "metadata": {
    "cell_id": "00005-a6ca0d47-9645-4dca-b86b-1f579cc34f93",
    "deepnote_cell_type": "code",
    "deepnote_to_be_reexecuted": false,
    "execution_millis": 635,
    "execution_start": 1610109625555,
    "output_cleared": false,
    "source_hash": "c71a5008",
    "tags": []
   },
   "outputs": [
    {
     "data": {
      "image/png": "[encoded data removed]",
      "text/plain": [
       "<Figure size 432x288 with 1 Axes>"
      ]
     },
     "metadata": {
      "needs_background": "light"
     },
     "output_type": "display_data"
    },
    {
     "data": {
      "image/png": "[encoded data removed]",
      "text/plain": [
       "<Figure size 432x288 with 1 Axes>"
      ]
     },
     "metadata": {
      "needs_background": "light"
     },
     "output_type": "display_data"
    },
    {
     "data": {
      "image/png": "[encoded data removed]",
      "text/plain": [
       "<Figure size 432x288 with 1 Axes>"
      ]
     },
     "metadata": {
      "needs_background": "light"
     },
     "output_type": "display_data"
    },
    {
     "data": {
      "image/png": "[encoded data removed]",
      "text/plain": [
       "<Figure size 432x288 with 1 Axes>"
      ]
     },
     "metadata": {
      "needs_background": "light"
     },
     "output_type": "display_data"
    },
    {
     "data": {
      "image/png": "[encoded data removed]",
      "text/plain": [
       "<Figure size 432x288 with 1 Axes>"
      ]
     },
     "metadata": {
      "needs_background": "light"
     },
     "output_type": "display_data"
    }
   ],
   "source": [
    "df.Loan_Status.value_counts().plot.bar()\n",
    "plt.title('Loan Status')\n",
    "plt.show()\n",
    "df.Gender.value_counts().plot.bar()\n",
    "plt.title('Gender')\n",
    "plt.show()\n",
    "df.Married.value_counts().plot.bar()\n",
    "plt.title('Married')\n",
    "plt.show()\n",
    "df.Self_Employed.value_counts().plot.bar()\n",
    "plt.title('Self Employed')\n",
    "plt.show()\n",
    "df.Credit_History.value_counts().plot.bar()\n",
    "plt.title('Credit History')\n",
    "plt.show()"
   ]
  },
  {
   "cell_type": "code",
   "execution_count": null,
   "metadata": {
    "cell_id": "00003-7c3320cd-845a-4a0c-9bed-3d5ffa5fcb1a",
    "deepnote_cell_type": "code",
    "deepnote_to_be_reexecuted": false,
    "execution_millis": 1,
    "execution_start": 1610109626211,
    "output_cleared": false,
    "source_hash": "14f60b8f",
    "tags": []
   },
   "outputs": [
    {
     "data": {
      "text/plain": [
       "(614, 13)"
      ]
     },
     "execution_count": 33,
     "metadata": {},
     "output_type": "execute_result"
    }
   ],
   "source": [
    "df.shape"
   ]
  },
  {
   "cell_type": "markdown",
   "metadata": {
    "cell_id": "00003-a1658671-2886-485c-b53e-e108f0a90a24",
    "deepnote_cell_type": "markdown",
    "output_cleared": false,
    "tags": []
   },
   "source": [
    "## Checking missing values"
   ]
  },
  {
   "cell_type": "code",
   "execution_count": null,
   "metadata": {
    "cell_id": "00003-4f09d33e-9ca2-4909-834e-af93f3234a79",
    "deepnote_cell_type": "code",
    "deepnote_to_be_reexecuted": false,
    "execution_millis": 1,
    "execution_start": 1610109626212,
    "output_cleared": false,
    "source_hash": "a36fbbd4",
    "tags": []
   },
   "outputs": [
    {
     "data": {
      "text/plain": [
       "True"
      ]
     },
     "execution_count": 34,
     "metadata": {},
     "output_type": "execute_result"
    }
   ],
   "source": [
    "df.isna().any().any()"
   ]
  },
  {
   "cell_type": "markdown",
   "metadata": {
    "cell_id": "00006-873f1360-2c34-4417-b7f9-a8f62e5ed021",
    "deepnote_cell_type": "markdown",
    "output_cleared": false,
    "tags": []
   },
   "source": [
    "## List the columns where we have missing values and how many"
   ]
  },
  {
   "cell_type": "code",
   "execution_count": null,
   "metadata": {
    "cell_id": "00006-1b3e7e59-2b38-477d-a7e1-d0746083bf6e",
    "deepnote_cell_type": "code",
    "deepnote_to_be_reexecuted": false,
    "execution_millis": 1,
    "execution_start": 1610109626213,
    "output_cleared": false,
    "source_hash": "d794f466",
    "tags": []
   },
   "outputs": [
    {
     "data": {
      "text/plain": [
       "Loan_ID               0\n",
       "Gender               13\n",
       "Married               3\n",
       "Dependents           15\n",
       "Education             0\n",
       "Self_Employed        32\n",
       "ApplicantIncome       0\n",
       "CoapplicantIncome     0\n",
       "LoanAmount           22\n",
       "Loan_Amount_Term     14\n",
       "Credit_History       50\n",
       "Property_Area         0\n",
       "Loan_Status           0\n",
       "dtype: int64"
      ]
     },
     "execution_count": 35,
     "metadata": {},
     "output_type": "execute_result"
    }
   ],
   "source": [
    "df.isna().sum()"
   ]
  },
  {
   "cell_type": "code",
   "execution_count": null,
   "metadata": {
    "cell_id": "00005-17b939be-28c3-4561-b0be-6e9935926f94",
    "deepnote_cell_type": "code",
    "deepnote_to_be_reexecuted": false,
    "execution_millis": 3,
    "execution_start": 1610109626216,
    "output_cleared": false,
    "source_hash": "45439931",
    "tags": []
   },
   "outputs": [
    {
     "data": {
      "text/plain": [
       "149"
      ]
     },
     "execution_count": 36,
     "metadata": {},
     "output_type": "execute_result"
    }
   ],
   "source": [
    "df.isna().sum().sum()"
   ]
  },
  {
   "cell_type": "markdown",
   "metadata": {
    "cell_id": "00009-975781a4-fd22-4806-b160-51258cada4af",
    "deepnote_cell_type": "markdown",
    "output_cleared": false,
    "tags": []
   },
   "source": [
    "## Feature Engineering"
   ]
  },
  {
   "cell_type": "code",
   "execution_count": null,
   "metadata": {
    "cell_id": "00014-b84a911d-2756-4bcd-a2ea-60eb3bea5b77",
    "deepnote_cell_type": "code",
    "deepnote_to_be_reexecuted": false,
    "execution_millis": 2,
    "execution_start": 1610109626220,
    "output_cleared": false,
    "source_hash": "25d43fa0",
    "tags": []
   },
   "outputs": [
    {
     "data": {
      "text/plain": [
       "Index(['Loan_ID', 'Gender', 'Married', 'Dependents', 'Education',\n",
       "       'Self_Employed', 'ApplicantIncome', 'CoapplicantIncome', 'LoanAmount',\n",
       "       'Loan_Amount_Term', 'Credit_History', 'Property_Area', 'Loan_Status'],\n",
       "      dtype='object')"
      ]
     },
     "execution_count": 37,
     "metadata": {},
     "output_type": "execute_result"
    }
   ],
   "source": [
    "df.columns"
   ]
  },
  {
   "cell_type": "code",
   "execution_count": null,
   "metadata": {
    "cell_id": "00009-393d6f5e-5b73-4acc-ad89-165f50fd810a",
    "deepnote_cell_type": "code",
    "deepnote_to_be_reexecuted": false,
    "execution_millis": 77,
    "execution_start": 1610109626275,
    "output_cleared": false,
    "source_hash": "2de8f43e",
    "tags": []
   },
   "outputs": [
    {
     "data": {
      "application/vnd.deepnote.dataframe.v2+json": {
       "column_count": 11,
       "columns": [
        {
         "dtype": "object",
         "name": "Gender",
         "stats": {
          "categories": [
           {
            "count": 489,
            "name": "Male"
           },
           {
            "count": 112,
            "name": "Female"
           },
           {
            "count": 13,
            "name": "Missing"
           }
          ],
          "nan_count": 13,
          "unique_count": 2
         }
        },
        {
         "dtype": "object",
         "name": "Married",
         "stats": {
          "categories": [
           {
            "count": 398,
            "name": "Yes"
           },
           {
            "count": 213,
            "name": "No"
           },
           {
            "count": 3,
            "name": "Missing"
           }
          ],
          "nan_count": 3,
          "unique_count": 2
         }
        },
        {
         "dtype": "object",
         "name": "Dependents",
         "stats": {
          "categories": [
           {
            "count": 345,
            "name": "0"
           },
           {
            "count": 254,
            "name": "3 others"
           },
           {
            "count": 15,
            "name": "Missing"
           }
          ],
          "nan_count": 15,
          "unique_count": 4
         }
        },
        {
         "dtype": "object",
         "name": "Education",
         "stats": {
          "categories": [
           {
            "count": 480,
            "name": "Graduate"
           },
           {
            "count": 134,
            "name": "Not Graduate"
           }
          ],
          "nan_count": 0,
          "unique_count": 2
         }
        },
        {
         "dtype": "object",
         "name": "Self_Employed",
         "stats": {
          "categories": [
           {
            "count": 500,
            "name": "No"
           },
           {
            "count": 82,
            "name": "Yes"
           },
           {
            "count": 32,
            "name": "Missing"
           }
          ],
          "nan_count": 32,
          "unique_count": 2
         }
        },
        {
         "dtype": "float64",
         "name": "LoanAmount",
         "stats": {
          "histogram": [
           {
            "bin_end": 78.1,
            "bin_start": 9,
            "count": 72
           },
           {
            "bin_end": 147.2,
            "bin_start": 78.1,
            "count": 310
           },
           {
            "bin_end": 216.29999999999998,
            "bin_start": 147.2,
            "count": 143
           },
           {
            "bin_end": 285.4,
            "bin_start": 216.29999999999998,
            "count": 33
           },
           {
            "bin_end": 354.5,
            "bin_start": 285.4,
            "count": 15
           },
           {
            "bin_end": 423.59999999999997,
            "bin_start": 354.5,
            "count": 6
           },
           {
            "bin_end": 492.69999999999993,
            "bin_start": 423.59999999999997,
            "count": 5
           },
           {
            "bin_end": 561.8,
            "bin_start": 492.69999999999993,
            "count": 3
           },
           {
            "bin_end": 630.9,
            "bin_start": 561.8,
            "count": 3
           },
           {
            "bin_end": 700,
            "bin_start": 630.9,
            "count": 2
           }
          ],
          "max": 700,
          "min": 9,
          "nan_count": 22,
          "unique_count": 203
         }
        },
        {
         "dtype": "float64",
         "name": "Loan_Amount_Term",
         "stats": {
          "histogram": [
           {
            "bin_end": 58.8,
            "bin_start": 12,
            "count": 3
           },
           {
            "bin_end": 105.6,
            "bin_start": 58.8,
            "count": 6
           },
           {
            "bin_end": 152.39999999999998,
            "bin_start": 105.6,
            "count": 3
           },
           {
            "bin_end": 199.2,
            "bin_start": 152.39999999999998,
            "count": 44
           },
           {
            "bin_end": 246,
            "bin_start": 199.2,
            "count": 4
           },
           {
            "bin_end": 292.79999999999995,
            "bin_start": 246,
            "count": 0
           },
           {
            "bin_end": 339.59999999999997,
            "bin_start": 292.79999999999995,
            "count": 13
           },
           {
            "bin_end": 386.4,
            "bin_start": 339.59999999999997,
            "count": 512
           },
           {
            "bin_end": 433.2,
            "bin_start": 386.4,
            "count": 0
           },
           {
            "bin_end": 480,
            "bin_start": 433.2,
            "count": 15
           }
          ],
          "max": 480,
          "min": 12,
          "nan_count": 14,
          "unique_count": 10
         }
        },
        {
         "dtype": "float64",
         "name": "Credit_History",
         "stats": {
          "histogram": [
           {
            "bin_end": 0.1,
            "bin_start": 0,
            "count": 89
           },
           {
            "bin_end": 0.2,
            "bin_start": 0.1,
            "count": 0
           },
           {
            "bin_end": 0.30000000000000004,
            "bin_start": 0.2,
            "count": 0
           },
           {
            "bin_end": 0.4,
            "bin_start": 0.30000000000000004,
            "count": 0
           },
           {
            "bin_end": 0.5,
            "bin_start": 0.4,
            "count": 0
           },
           {
            "bin_end": 0.6000000000000001,
            "bin_start": 0.5,
            "count": 0
           },
           {
            "bin_end": 0.7000000000000001,
            "bin_start": 0.6000000000000001,
            "count": 0
           },
           {
            "bin_end": 0.8,
            "bin_start": 0.7000000000000001,
            "count": 0
           },
           {
            "bin_end": 0.9,
            "bin_start": 0.8,
            "count": 0
           },
           {
            "bin_end": 1,
            "bin_start": 0.9,
            "count": 475
           }
          ],
          "max": 1,
          "min": 0,
          "nan_count": 50,
          "unique_count": 2
         }
        },
        {
         "dtype": "object",
         "name": "Property_Area",
         "stats": {
          "categories": [
           {
            "count": 233,
            "name": "Semiurban"
           },
           {
            "count": 202,
            "name": "Urban"
           },
           {
            "count": 179,
            "name": "Rural"
           }
          ],
          "nan_count": 0,
          "unique_count": 3
         }
        },
        {
         "dtype": "object",
         "name": "Loan_Status",
         "stats": {
          "categories": [
           {
            "count": 422,
            "name": "Y"
           },
           {
            "count": 192,
            "name": "N"
           }
          ],
          "nan_count": 0,
          "unique_count": 2
         }
        },
        {
         "dtype": "float64",
         "name": "Total_Income",
         "stats": {
          "histogram": [
           {
            "bin_end": 9397.8,
            "bin_start": 1442,
            "count": 513
           },
           {
            "bin_end": 17353.6,
            "bin_start": 9397.8,
            "count": 77
           },
           {
            "bin_end": 25309.4,
            "bin_start": 17353.6,
            "count": 14
           },
           {
            "bin_end": 33265.2,
            "bin_start": 25309.4,
            "count": 1
           },
           {
            "bin_end": 41221,
            "bin_start": 33265.2,
            "count": 4
           },
           {
            "bin_end": 49176.8,
            "bin_start": 41221,
            "count": 2
           },
           {
            "bin_end": 57132.6,
            "bin_start": 49176.8,
            "count": 1
           },
           {
            "bin_end": 65088.4,
            "bin_start": 57132.6,
            "count": 1
           },
           {
            "bin_end": 73044.2,
            "bin_start": 65088.4,
            "count": 0
           },
           {
            "bin_end": 81000,
            "bin_start": 73044.2,
            "count": 1
           }
          ],
          "max": 81000,
          "min": 1442,
          "nan_count": 0,
          "unique_count": 554
         }
        },
        {
         "dtype": "int64",
         "name": "_deepnote_index_column"
        }
       ],
       "row_count": 614,
       "rows_bottom": [
        {
         "Credit_History": "0.0",
         "Dependents": "0",
         "Education": "Graduate",
         "Gender": "Male",
         "LoanAmount": "104.0",
         "Loan_Amount_Term": 360,
         "Loan_Status": "N",
         "Married": "Yes",
         "Property_Area": "Urban",
         "Self_Employed": "No",
         "Total_Income": 5230,
         "_deepnote_index_column": 569
        },
        {
         "Credit_History": "1.0",
         "Dependents": "1",
         "Education": "Graduate",
         "Gender": "Male",
         "LoanAmount": "186.0",
         "Loan_Amount_Term": 360,
         "Loan_Status": "Y",
         "Married": "Yes",
         "Property_Area": "Urban",
         "Self_Employed": "No",
         "Total_Income": 5167,
         "_deepnote_index_column": 570
        },
        {
         "Credit_History": "0.0",
         "Dependents": "nan",
         "Education": "Graduate",
         "Gender": "Male",
         "LoanAmount": "165.0",
         "Loan_Amount_Term": 360,
         "Loan_Status": "N",
         "Married": "Yes",
         "Property_Area": "Urban",
         "Self_Employed": "No",
         "Total_Income": 6567,
         "_deepnote_index_column": 571
        },
        {
         "Credit_History": "1.0",
         "Dependents": "2",
         "Education": "Graduate",
         "Gender": "Male",
         "LoanAmount": "275.0",
         "Loan_Amount_Term": 360,
         "Loan_Status": "Y",
         "Married": "Yes",
         "Property_Area": "Urban",
         "Self_Employed": "No",
         "Total_Income": 16666,
         "_deepnote_index_column": 572
        },
        {
         "Credit_History": "1.0",
         "Dependents": "2",
         "Education": "Not Graduate",
         "Gender": "Male",
         "LoanAmount": "187.0",
         "Loan_Amount_Term": 480,
         "Loan_Status": "N",
         "Married": "Yes",
         "Property_Area": "Semiurban",
         "Self_Employed": "No",
         "Total_Income": 7750,
         "_deepnote_index_column": 573
        },
        {
         "Credit_History": "1.0",
         "Dependents": "3+",
         "Education": "Graduate",
         "Gender": "Male",
         "LoanAmount": "150.0",
         "Loan_Amount_Term": 360,
         "Loan_Status": "N",
         "Married": "Yes",
         "Property_Area": "Semiurban",
         "Self_Employed": "No",
         "Total_Income": 6406,
         "_deepnote_index_column": 574
        },
        {
         "Credit_History": "1.0",
         "Dependents": "2",
         "Education": "Graduate",
         "Gender": "Male",
         "LoanAmount": "108.0",
         "Loan_Amount_Term": 84,
         "Loan_Status": "Y",
         "Married": "Yes",
         "Property_Area": "Urban",
         "Self_Employed": "No",
         "Total_Income": 3620,
         "_deepnote_index_column": 575
        },
        {
         "Credit_History": "0.0",
         "Dependents": "0",
         "Education": "Graduate",
         "Gender": "nan",
         "LoanAmount": "136.0",
         "Loan_Amount_Term": 360,
         "Loan_Status": "N",
         "Married": "Yes",
         "Property_Area": "Semiurban",
         "Self_Employed": "No",
         "Total_Income": 5297,
         "_deepnote_index_column": 576
        },
        {
         "Credit_History": "1.0",
         "Dependents": "0",
         "Education": "Graduate",
         "Gender": "Male",
         "LoanAmount": "110.0",
         "Loan_Amount_Term": 360,
         "Loan_Status": "Y",
         "Married": "No",
         "Property_Area": "Urban",
         "Self_Employed": "No",
         "Total_Income": 5968,
         "_deepnote_index_column": 577
        },
        {
         "Credit_History": "1.0",
         "Dependents": "1",
         "Education": "Graduate",
         "Gender": "Male",
         "LoanAmount": "107.0",
         "Loan_Amount_Term": 360,
         "Loan_Status": "Y",
         "Married": "Yes",
         "Property_Area": "Rural",
         "Self_Employed": "No",
         "Total_Income": 4014,
         "_deepnote_index_column": 578
        },
        {
         "Credit_History": "1.0",
         "Dependents": "0",
         "Education": "Graduate",
         "Gender": "Male",
         "LoanAmount": "161.0",
         "Loan_Amount_Term": 360,
         "Loan_Status": "Y",
         "Married": "No",
         "Property_Area": "Urban",
         "Self_Employed": "nan",
         "Total_Income": 6099,
         "_deepnote_index_column": 579
        },
        {
         "Credit_History": "1.0",
         "Dependents": "2",
         "Education": "Graduate",
         "Gender": "Male",
         "LoanAmount": "205.0",
         "Loan_Amount_Term": 360,
         "Loan_Status": "Y",
         "Married": "Yes",
         "Property_Area": "Semiurban",
         "Self_Employed": "No",
         "Total_Income": 6540,
         "_deepnote_index_column": 580
        },
        {
         "Credit_History": "1.0",
         "Dependents": "0",
         "Education": "Graduate",
         "Gender": "Male",
         "LoanAmount": "90.0",
         "Loan_Amount_Term": 360,
         "Loan_Status": "N",
         "Married": "No",
         "Property_Area": "Urban",
         "Self_Employed": "No",
         "Total_Income": 35673,
         "_deepnote_index_column": 581
        },
        {
         "Credit_History": "1.0",
         "Dependents": "0",
         "Education": "Graduate",
         "Gender": "Female",
         "LoanAmount": "36.0",
         "Loan_Amount_Term": 360,
         "Loan_Status": "Y",
         "Married": "Yes",
         "Property_Area": "Semiurban",
         "Self_Employed": "No",
         "Total_Income": 3166,
         "_deepnote_index_column": 582
        },
        {
         "Credit_History": "nan",
         "Dependents": "1",
         "Education": "Graduate",
         "Gender": "Male",
         "LoanAmount": "61.0",
         "Loan_Amount_Term": 360,
         "Loan_Status": "N",
         "Married": "Yes",
         "Property_Area": "Rural",
         "Self_Employed": "No",
         "Total_Income": 1880,
         "_deepnote_index_column": 583
        },
        {
         "Credit_History": "0.0",
         "Dependents": "1",
         "Education": "Graduate",
         "Gender": "Male",
         "LoanAmount": "146.0",
         "Loan_Amount_Term": 360,
         "Loan_Status": "N",
         "Married": "Yes",
         "Property_Area": "Rural",
         "Self_Employed": "No",
         "Total_Income": 4704,
         "_deepnote_index_column": 584
        },
        {
         "Credit_History": "1.0",
         "Dependents": "1",
         "Education": "Graduate",
         "Gender": "Male",
         "LoanAmount": "172.0",
         "Loan_Amount_Term": 84,
         "Loan_Status": "N",
         "Married": "Yes",
         "Property_Area": "Rural",
         "Self_Employed": "No",
         "Total_Income": 7283,
         "_deepnote_index_column": 585
        },
        {
         "Credit_History": "1.0",
         "Dependents": "0",
         "Education": "Graduate",
         "Gender": "Male",
         "LoanAmount": "104.0",
         "Loan_Amount_Term": 360,
         "Loan_Status": "Y",
         "Married": "Yes",
         "Property_Area": "Urban",
         "Self_Employed": "No",
         "Total_Income": 3819,
         "_deepnote_index_column": 586
        },
        {
         "Credit_History": "1.0",
         "Dependents": "0",
         "Education": "Not Graduate",
         "Gender": "Female",
         "LoanAmount": "70.0",
         "Loan_Amount_Term": 360,
         "Loan_Status": "Y",
         "Married": "No",
         "Property_Area": "Semiurban",
         "Self_Employed": "No",
         "Total_Income": 2165,
         "_deepnote_index_column": 587
        },
        {
         "Credit_History": "1.0",
         "Dependents": "0",
         "Education": "Graduate",
         "Gender": "nan",
         "LoanAmount": "94.0",
         "Loan_Amount_Term": 360,
         "Loan_Status": "Y",
         "Married": "No",
         "Property_Area": "Semiurban",
         "Self_Employed": "No",
         "Total_Income": 4750,
         "_deepnote_index_column": 588
        },
        {
         "Credit_History": "0.0",
         "Dependents": "2",
         "Education": "Graduate",
         "Gender": "Male",
         "LoanAmount": "106.0",
         "Loan_Amount_Term": 360,
         "Loan_Status": "N",
         "Married": "Yes",
         "Property_Area": "Semiurban",
         "Self_Employed": "Yes",
         "Total_Income": 2726,
         "_deepnote_index_column": 589
        },
        {
         "Credit_History": "1.0",
         "Dependents": "0",
         "Education": "Graduate",
         "Gender": "Male",
         "LoanAmount": "56.0",
         "Loan_Amount_Term": 180,
         "Loan_Status": "Y",
         "Married": "Yes",
         "Property_Area": "Semiurban",
         "Self_Employed": "No",
         "Total_Income": 6416,
         "_deepnote_index_column": 590
        },
        {
         "Credit_History": "1.0",
         "Dependents": "2",
         "Education": "Graduate",
         "Gender": "Male",
         "LoanAmount": "205.0",
         "Loan_Amount_Term": 240,
         "Loan_Status": "N",
         "Married": "Yes",
         "Property_Area": "Semiurban",
         "Self_Employed": "Yes",
         "Total_Income": 6000,
         "_deepnote_index_column": 591
        },
        {
         "Credit_History": "1.0",
         "Dependents": "3+",
         "Education": "Graduate",
         "Gender": "nan",
         "LoanAmount": "292.0",
         "Loan_Amount_Term": 360,
         "Loan_Status": "Y",
         "Married": "No",
         "Property_Area": "Semiurban",
         "Self_Employed": "Yes",
         "Total_Income": 9357,
         "_deepnote_index_column": 592
        },
        {
         "Credit_History": "1.0",
         "Dependents": "0",
         "Education": "Graduate",
         "Gender": "Male",
         "LoanAmount": "142.0",
         "Loan_Amount_Term": 180,
         "Loan_Status": "Y",
         "Married": "Yes",
         "Property_Area": "Rural",
         "Self_Employed": "No",
         "Total_Income": 7159,
         "_deepnote_index_column": 593
        },
        {
         "Credit_History": "1.0",
         "Dependents": "0",
         "Education": "Graduate",
         "Gender": "Male",
         "LoanAmount": "260.0",
         "Loan_Amount_Term": 360,
         "Loan_Status": "Y",
         "Married": "Yes",
         "Property_Area": "Urban",
         "Self_Employed": "Yes",
         "Total_Income": 16120,
         "_deepnote_index_column": 594
        },
        {
         "Credit_History": "1.0",
         "Dependents": "0",
         "Education": "Not Graduate",
         "Gender": "Male",
         "LoanAmount": "110.0",
         "Loan_Amount_Term": 360,
         "Loan_Status": "Y",
         "Married": "No",
         "Property_Area": "Rural",
         "Self_Employed": "No",
         "Total_Income": 3833,
         "_deepnote_index_column": 595
        },
        {
         "Credit_History": "1.0",
         "Dependents": "2",
         "Education": "Not Graduate",
         "Gender": "Male",
         "LoanAmount": "187.0",
         "Loan_Amount_Term": 360,
         "Loan_Status": "N",
         "Married": "Yes",
         "Property_Area": "Rural",
         "Self_Employed": "Yes",
         "Total_Income": 7383,
         "_deepnote_index_column": 596
        },
        {
         "Credit_History": "0.0",
         "Dependents": "nan",
         "Education": "Graduate",
         "Gender": "Male",
         "LoanAmount": "88.0",
         "Loan_Amount_Term": 360,
         "Loan_Status": "N",
         "Married": "No",
         "Property_Area": "Semiurban",
         "Self_Employed": "No",
         "Total_Income": 2987,
         "_deepnote_index_column": 597
        },
        {
         "Credit_History": "1.0",
         "Dependents": "0",
         "Education": "Graduate",
         "Gender": "Male",
         "LoanAmount": "180.0",
         "Loan_Amount_Term": 360,
         "Loan_Status": "Y",
         "Married": "Yes",
         "Property_Area": "Rural",
         "Self_Employed": "Yes",
         "Total_Income": 9963,
         "_deepnote_index_column": 598
        },
        {
         "Credit_History": "1.0",
         "Dependents": "2",
         "Education": "Graduate",
         "Gender": "Male",
         "LoanAmount": "192.0",
         "Loan_Amount_Term": 360,
         "Loan_Status": "Y",
         "Married": "Yes",
         "Property_Area": "Urban",
         "Self_Employed": "No",
         "Total_Income": 5780,
         "_deepnote_index_column": 599
        },
        {
         "Credit_History": "nan",
         "Dependents": "3+",
         "Education": "Graduate",
         "Gender": "Female",
         "LoanAmount": "350.0",
         "Loan_Amount_Term": 180,
         "Loan_Status": "N",
         "Married": "No",
         "Property_Area": "Urban",
         "Self_Employed": "nan",
         "Total_Income": 42083,
         "_deepnote_index_column": 600
        },
        {
         "Credit_History": "1.0",
         "Dependents": "0",
         "Education": "Not Graduate",
         "Gender": "Male",
         "LoanAmount": "155.0",
         "Loan_Amount_Term": 360,
         "Loan_Status": "Y",
         "Married": "Yes",
         "Property_Area": "Rural",
         "Self_Employed": "nan",
         "Total_Income": 5686,
         "_deepnote_index_column": 601
        },
        {
         "Credit_History": "1.0",
         "Dependents": "3+",
         "Education": "Graduate",
         "Gender": "Male",
         "LoanAmount": "128.0",
         "Loan_Amount_Term": 360,
         "Loan_Status": "Y",
         "Married": "Yes",
         "Property_Area": "Urban",
         "Self_Employed": "No",
         "Total_Income": 5703,
         "_deepnote_index_column": 602
        },
        {
         "Credit_History": "1.0",
         "Dependents": "0",
         "Education": "Graduate",
         "Gender": "Male",
         "LoanAmount": "172.0",
         "Loan_Amount_Term": 360,
         "Loan_Status": "Y",
         "Married": "No",
         "Property_Area": "Rural",
         "Self_Employed": "No",
         "Total_Income": 7977,
         "_deepnote_index_column": 603
        },
        {
         "Credit_History": "1.0",
         "Dependents": "1",
         "Education": "Graduate",
         "Gender": "Female",
         "LoanAmount": "496.0",
         "Loan_Amount_Term": 360,
         "Loan_Status": "Y",
         "Married": "Yes",
         "Property_Area": "Semiurban",
         "Self_Employed": "No",
         "Total_Income": 12000,
         "_deepnote_index_column": 604
        },
        {
         "Credit_History": "1.0",
         "Dependents": "0",
         "Education": "Not Graduate",
         "Gender": "Male",
         "LoanAmount": "nan",
         "Loan_Amount_Term": 180,
         "Loan_Status": "N",
         "Married": "Yes",
         "Property_Area": "Urban",
         "Self_Employed": "No",
         "Total_Income": 6200,
         "_deepnote_index_column": 605
        },
        {
         "Credit_History": "1.0",
         "Dependents": "1",
         "Education": "Graduate",
         "Gender": "Male",
         "LoanAmount": "173.0",
         "Loan_Amount_Term": 360,
         "Loan_Status": "Y",
         "Married": "Yes",
         "Property_Area": "Semiurban",
         "Self_Employed": "No",
         "Total_Income": 5900,
         "_deepnote_index_column": 606
        },
        {
         "Credit_History": "1.0",
         "Dependents": "2",
         "Education": "Not Graduate",
         "Gender": "Male",
         "LoanAmount": "157.0",
         "Loan_Amount_Term": 360,
         "Loan_Status": "Y",
         "Married": "Yes",
         "Property_Area": "Rural",
         "Self_Employed": "No",
         "Total_Income": 5398,
         "_deepnote_index_column": 607
        },
        {
         "Credit_History": "1.0",
         "Dependents": "0",
         "Education": "Graduate",
         "Gender": "Male",
         "LoanAmount": "108.0",
         "Loan_Amount_Term": 360,
         "Loan_Status": "Y",
         "Married": "Yes",
         "Property_Area": "Rural",
         "Self_Employed": "No",
         "Total_Income": 5182,
         "_deepnote_index_column": 608
        },
        {
         "Credit_History": "1.0",
         "Dependents": "0",
         "Education": "Graduate",
         "Gender": "Female",
         "LoanAmount": "71.0",
         "Loan_Amount_Term": 360,
         "Loan_Status": "Y",
         "Married": "No",
         "Property_Area": "Rural",
         "Self_Employed": "No",
         "Total_Income": 2900,
         "_deepnote_index_column": 609
        },
        {
         "Credit_History": "1.0",
         "Dependents": "3+",
         "Education": "Graduate",
         "Gender": "Male",
         "LoanAmount": "40.0",
         "Loan_Amount_Term": 180,
         "Loan_Status": "Y",
         "Married": "Yes",
         "Property_Area": "Rural",
         "Self_Employed": "No",
         "Total_Income": 4106,
         "_deepnote_index_column": 610
        },
        {
         "Credit_History": "1.0",
         "Dependents": "1",
         "Education": "Graduate",
         "Gender": "Male",
         "LoanAmount": "253.0",
         "Loan_Amount_Term": 360,
         "Loan_Status": "Y",
         "Married": "Yes",
         "Property_Area": "Urban",
         "Self_Employed": "No",
         "Total_Income": 8312,
         "_deepnote_index_column": 611
        },
        {
         "Credit_History": "1.0",
         "Dependents": "2",
         "Education": "Graduate",
         "Gender": "Male",
         "LoanAmount": "187.0",
         "Loan_Amount_Term": 360,
         "Loan_Status": "Y",
         "Married": "Yes",
         "Property_Area": "Urban",
         "Self_Employed": "No",
         "Total_Income": 7583,
         "_deepnote_index_column": 612
        },
        {
         "Credit_History": "0.0",
         "Dependents": "0",
         "Education": "Graduate",
         "Gender": "Female",
         "LoanAmount": "133.0",
         "Loan_Amount_Term": 360,
         "Loan_Status": "N",
         "Married": "No",
         "Property_Area": "Semiurban",
         "Self_Employed": "Yes",
         "Total_Income": 4583,
         "_deepnote_index_column": 613
        }
       ],
       "rows_top": [
        {
         "Credit_History": "1.0",
         "Dependents": "0",
         "Education": "Graduate",
         "Gender": "Male",
         "LoanAmount": "nan",
         "Loan_Amount_Term": "360.0",
         "Loan_Status": "Y",
         "Married": "No",
         "Property_Area": "Urban",
         "Self_Employed": "No",
         "Total_Income": 5849,
         "_deepnote_index_column": 0
        },
        {
         "Credit_History": "1.0",
         "Dependents": "1",
         "Education": "Graduate",
         "Gender": "Male",
         "LoanAmount": "128.0",
         "Loan_Amount_Term": "360.0",
         "Loan_Status": "N",
         "Married": "Yes",
         "Property_Area": "Rural",
         "Self_Employed": "No",
         "Total_Income": 6091,
         "_deepnote_index_column": 1
        },
        {
         "Credit_History": "1.0",
         "Dependents": "0",
         "Education": "Graduate",
         "Gender": "Male",
         "LoanAmount": "66.0",
         "Loan_Amount_Term": "360.0",
         "Loan_Status": "Y",
         "Married": "Yes",
         "Property_Area": "Urban",
         "Self_Employed": "Yes",
         "Total_Income": 3000,
         "_deepnote_index_column": 2
        },
        {
         "Credit_History": "1.0",
         "Dependents": "0",
         "Education": "Not Graduate",
         "Gender": "Male",
         "LoanAmount": "120.0",
         "Loan_Amount_Term": "360.0",
         "Loan_Status": "Y",
         "Married": "Yes",
         "Property_Area": "Urban",
         "Self_Employed": "No",
         "Total_Income": 4941,
         "_deepnote_index_column": 3
        },
        {
         "Credit_History": "1.0",
         "Dependents": "0",
         "Education": "Graduate",
         "Gender": "Male",
         "LoanAmount": "141.0",
         "Loan_Amount_Term": "360.0",
         "Loan_Status": "Y",
         "Married": "No",
         "Property_Area": "Urban",
         "Self_Employed": "No",
         "Total_Income": 6000,
         "_deepnote_index_column": 4
        },
        {
         "Credit_History": "1.0",
         "Dependents": "2",
         "Education": "Graduate",
         "Gender": "Male",
         "LoanAmount": "267.0",
         "Loan_Amount_Term": "360.0",
         "Loan_Status": "Y",
         "Married": "Yes",
         "Property_Area": "Urban",
         "Self_Employed": "Yes",
         "Total_Income": 9613,
         "_deepnote_index_column": 5
        },
        {
         "Credit_History": "1.0",
         "Dependents": "0",
         "Education": "Not Graduate",
         "Gender": "Male",
         "LoanAmount": "95.0",
         "Loan_Amount_Term": "360.0",
         "Loan_Status": "Y",
         "Married": "Yes",
         "Property_Area": "Urban",
         "Self_Employed": "No",
         "Total_Income": 3849,
         "_deepnote_index_column": 6
        },
        {
         "Credit_History": "0.0",
         "Dependents": "3+",
         "Education": "Graduate",
         "Gender": "Male",
         "LoanAmount": "158.0",
         "Loan_Amount_Term": "360.0",
         "Loan_Status": "N",
         "Married": "Yes",
         "Property_Area": "Semiurban",
         "Self_Employed": "No",
         "Total_Income": 5540,
         "_deepnote_index_column": 7
        },
        {
         "Credit_History": "1.0",
         "Dependents": "2",
         "Education": "Graduate",
         "Gender": "Male",
         "LoanAmount": "168.0",
         "Loan_Amount_Term": "360.0",
         "Loan_Status": "Y",
         "Married": "Yes",
         "Property_Area": "Urban",
         "Self_Employed": "No",
         "Total_Income": 5532,
         "_deepnote_index_column": 8
        },
        {
         "Credit_History": "1.0",
         "Dependents": "1",
         "Education": "Graduate",
         "Gender": "Male",
         "LoanAmount": "349.0",
         "Loan_Amount_Term": "360.0",
         "Loan_Status": "N",
         "Married": "Yes",
         "Property_Area": "Semiurban",
         "Self_Employed": "No",
         "Total_Income": 23809,
         "_deepnote_index_column": 9
        },
        {
         "Credit_History": "1.0",
         "Dependents": "2",
         "Education": "Graduate",
         "Gender": "Male",
         "LoanAmount": "70.0",
         "Loan_Amount_Term": "360.0",
         "Loan_Status": "Y",
         "Married": "Yes",
         "Property_Area": "Urban",
         "Self_Employed": "No",
         "Total_Income": 3900,
         "_deepnote_index_column": 10
        },
        {
         "Credit_History": "1.0",
         "Dependents": "2",
         "Education": "Graduate",
         "Gender": "Male",
         "LoanAmount": "109.0",
         "Loan_Amount_Term": "360.0",
         "Loan_Status": "Y",
         "Married": "Yes",
         "Property_Area": "Urban",
         "Self_Employed": "nan",
         "Total_Income": 4340,
         "_deepnote_index_column": 11
        },
        {
         "Credit_History": "1.0",
         "Dependents": "2",
         "Education": "Graduate",
         "Gender": "Male",
         "LoanAmount": "200.0",
         "Loan_Amount_Term": "360.0",
         "Loan_Status": "Y",
         "Married": "Yes",
         "Property_Area": "Urban",
         "Self_Employed": "No",
         "Total_Income": 11179,
         "_deepnote_index_column": 12
        },
        {
         "Credit_History": "1.0",
         "Dependents": "0",
         "Education": "Graduate",
         "Gender": "Male",
         "LoanAmount": "114.0",
         "Loan_Amount_Term": "360.0",
         "Loan_Status": "N",
         "Married": "No",
         "Property_Area": "Rural",
         "Self_Employed": "No",
         "Total_Income": 4693,
         "_deepnote_index_column": 13
        },
        {
         "Credit_History": "1.0",
         "Dependents": "2",
         "Education": "Graduate",
         "Gender": "Male",
         "LoanAmount": "17.0",
         "Loan_Amount_Term": "120.0",
         "Loan_Status": "Y",
         "Married": "Yes",
         "Property_Area": "Urban",
         "Self_Employed": "No",
         "Total_Income": 2385,
         "_deepnote_index_column": 14
        },
        {
         "Credit_History": "1.0",
         "Dependents": "0",
         "Education": "Graduate",
         "Gender": "Male",
         "LoanAmount": "125.0",
         "Loan_Amount_Term": "360.0",
         "Loan_Status": "Y",
         "Married": "No",
         "Property_Area": "Urban",
         "Self_Employed": "No",
         "Total_Income": 4950,
         "_deepnote_index_column": 15
        },
        {
         "Credit_History": "nan",
         "Dependents": "1",
         "Education": "Not Graduate",
         "Gender": "Male",
         "LoanAmount": "100.0",
         "Loan_Amount_Term": "240.0",
         "Loan_Status": "Y",
         "Married": "No",
         "Property_Area": "Urban",
         "Self_Employed": "No",
         "Total_Income": 3596,
         "_deepnote_index_column": 16
        },
        {
         "Credit_History": "0.0",
         "Dependents": "0",
         "Education": "Graduate",
         "Gender": "Female",
         "LoanAmount": "76.0",
         "Loan_Amount_Term": "360.0",
         "Loan_Status": "N",
         "Married": "No",
         "Property_Area": "Urban",
         "Self_Employed": "No",
         "Total_Income": 3510,
         "_deepnote_index_column": 17
        },
        {
         "Credit_History": "1.0",
         "Dependents": "0",
         "Education": "Not Graduate",
         "Gender": "Male",
         "LoanAmount": "133.0",
         "Loan_Amount_Term": "360.0",
         "Loan_Status": "N",
         "Married": "Yes",
         "Property_Area": "Rural",
         "Self_Employed": "No",
         "Total_Income": 4887,
         "_deepnote_index_column": 18
        },
        {
         "Credit_History": "1.0",
         "Dependents": "0",
         "Education": "Graduate",
         "Gender": "Male",
         "LoanAmount": "115.0",
         "Loan_Amount_Term": "nan",
         "Loan_Status": "Y",
         "Married": "Yes",
         "Property_Area": "Urban",
         "Self_Employed": "nan",
         "Total_Income": 6100,
         "_deepnote_index_column": 19
        },
        {
         "Credit_History": "0.0",
         "Dependents": "0",
         "Education": "Not Graduate",
         "Gender": "Male",
         "LoanAmount": "104.0",
         "Loan_Amount_Term": "360.0",
         "Loan_Status": "N",
         "Married": "Yes",
         "Property_Area": "Urban",
         "Self_Employed": "No",
         "Total_Income": 7660,
         "_deepnote_index_column": 20
        },
        {
         "Credit_History": "1.0",
         "Dependents": "1",
         "Education": "Graduate",
         "Gender": "Male",
         "LoanAmount": "315.0",
         "Loan_Amount_Term": "360.0",
         "Loan_Status": "Y",
         "Married": "Yes",
         "Property_Area": "Urban",
         "Self_Employed": "No",
         "Total_Income": 11580,
         "_deepnote_index_column": 21
        },
        {
         "Credit_History": "0.0",
         "Dependents": "0",
         "Education": "Not Graduate",
         "Gender": "Male",
         "LoanAmount": "116.0",
         "Loan_Amount_Term": "360.0",
         "Loan_Status": "N",
         "Married": "Yes",
         "Property_Area": "Semiurban",
         "Self_Employed": "No",
         "Total_Income": 4511,
         "_deepnote_index_column": 22
        },
        {
         "Credit_History": "0.0",
         "Dependents": "2",
         "Education": "Not Graduate",
         "Gender": "nan",
         "LoanAmount": "112.0",
         "Loan_Amount_Term": "360.0",
         "Loan_Status": "N",
         "Married": "Yes",
         "Property_Area": "Rural",
         "Self_Employed": "No",
         "Total_Income": 5282,
         "_deepnote_index_column": 23
        },
        {
         "Credit_History": "nan",
         "Dependents": "1",
         "Education": "Graduate",
         "Gender": "Male",
         "LoanAmount": "151.0",
         "Loan_Amount_Term": "360.0",
         "Loan_Status": "N",
         "Married": "Yes",
         "Property_Area": "Semiurban",
         "Self_Employed": "nan",
         "Total_Income": 6642,
         "_deepnote_index_column": 24
        },
        {
         "Credit_History": "1.0",
         "Dependents": "0",
         "Education": "Graduate",
         "Gender": "Male",
         "LoanAmount": "191.0",
         "Loan_Amount_Term": "360.0",
         "Loan_Status": "Y",
         "Married": "Yes",
         "Property_Area": "Semiurban",
         "Self_Employed": "Yes",
         "Total_Income": 9560,
         "_deepnote_index_column": 25
        },
        {
         "Credit_History": "1.0",
         "Dependents": "0",
         "Education": "Graduate",
         "Gender": "Male",
         "LoanAmount": "122.0",
         "Loan_Amount_Term": "360.0",
         "Loan_Status": "Y",
         "Married": "Yes",
         "Property_Area": "Semiurban",
         "Self_Employed": "No",
         "Total_Income": 5052,
         "_deepnote_index_column": 26
        },
        {
         "Credit_History": "1.0",
         "Dependents": "2",
         "Education": "Not Graduate",
         "Gender": "Male",
         "LoanAmount": "110.0",
         "Loan_Amount_Term": "360.0",
         "Loan_Status": "Y",
         "Married": "Yes",
         "Property_Area": "Urban",
         "Self_Employed": "No",
         "Total_Income": 5266,
         "_deepnote_index_column": 27
        },
        {
         "Credit_History": "1.0",
         "Dependents": "0",
         "Education": "Not Graduate",
         "Gender": "Male",
         "LoanAmount": "35.0",
         "Loan_Amount_Term": "360.0",
         "Loan_Status": "N",
         "Married": "No",
         "Property_Area": "Urban",
         "Self_Employed": "No",
         "Total_Income": 1442,
         "_deepnote_index_column": 28
        },
        {
         "Credit_History": "1.0",
         "Dependents": "2",
         "Education": "Graduate",
         "Gender": "Female",
         "LoanAmount": "120.0",
         "Loan_Amount_Term": "360.0",
         "Loan_Status": "Y",
         "Married": "No",
         "Property_Area": "Semiurban",
         "Self_Employed": "nan",
         "Total_Income": 5833,
         "_deepnote_index_column": 29
        },
        {
         "Credit_History": "nan",
         "Dependents": "1",
         "Education": "Graduate",
         "Gender": "Male",
         "LoanAmount": "201.0",
         "Loan_Amount_Term": "360.0",
         "Loan_Status": "N",
         "Married": "Yes",
         "Property_Area": "Urban",
         "Self_Employed": "nan",
         "Total_Income": 7535,
         "_deepnote_index_column": 30
        },
        {
         "Credit_History": "1.0",
         "Dependents": "0",
         "Education": "Graduate",
         "Gender": "Male",
         "LoanAmount": "74.0",
         "Loan_Amount_Term": "360.0",
         "Loan_Status": "N",
         "Married": "No",
         "Property_Area": "Urban",
         "Self_Employed": "No",
         "Total_Income": 3167,
         "_deepnote_index_column": 31
        },
        {
         "Credit_History": "1.0",
         "Dependents": "1",
         "Education": "Graduate",
         "Gender": "Male",
         "LoanAmount": "106.0",
         "Loan_Amount_Term": "360.0",
         "Loan_Status": "N",
         "Married": "No",
         "Property_Area": "Rural",
         "Self_Employed": "Yes",
         "Total_Income": 4692,
         "_deepnote_index_column": 32
        },
        {
         "Credit_History": "1.0",
         "Dependents": "0",
         "Education": "Graduate",
         "Gender": "Male",
         "LoanAmount": "114.0",
         "Loan_Amount_Term": "360.0",
         "Loan_Status": "Y",
         "Married": "Yes",
         "Property_Area": "Semiurban",
         "Self_Employed": "No",
         "Total_Income": 5167,
         "_deepnote_index_column": 33
        },
        {
         "Credit_History": "1.0",
         "Dependents": "3+",
         "Education": "Graduate",
         "Gender": "Male",
         "LoanAmount": "320.0",
         "Loan_Amount_Term": "360.0",
         "Loan_Status": "N",
         "Married": "No",
         "Property_Area": "Rural",
         "Self_Employed": "No",
         "Total_Income": 15500,
         "_deepnote_index_column": 34
        },
        {
         "Credit_History": "1.0",
         "Dependents": "0",
         "Education": "Graduate",
         "Gender": "Male",
         "LoanAmount": "nan",
         "Loan_Amount_Term": "360.0",
         "Loan_Status": "Y",
         "Married": "Yes",
         "Property_Area": "Urban",
         "Self_Employed": "No",
         "Total_Income": 4342,
         "_deepnote_index_column": 35
        },
        {
         "Credit_History": "0.0",
         "Dependents": "0",
         "Education": "Graduate",
         "Gender": "Male",
         "LoanAmount": "100.0",
         "Loan_Amount_Term": "nan",
         "Loan_Status": "N",
         "Married": "Yes",
         "Property_Area": "Urban",
         "Self_Employed": "No",
         "Total_Income": 3158,
         "_deepnote_index_column": 36
        },
        {
         "Credit_History": "1.0",
         "Dependents": "0",
         "Education": "Graduate",
         "Gender": "Female",
         "LoanAmount": "144.0",
         "Loan_Amount_Term": "360.0",
         "Loan_Status": "Y",
         "Married": "Yes",
         "Property_Area": "Semiurban",
         "Self_Employed": "No",
         "Total_Income": 5126,
         "_deepnote_index_column": 37
        },
        {
         "Credit_History": "1.0",
         "Dependents": "0",
         "Education": "Graduate",
         "Gender": "Male",
         "LoanAmount": "184.0",
         "Loan_Amount_Term": "360.0",
         "Loan_Status": "Y",
         "Married": "No",
         "Property_Area": "Urban",
         "Self_Employed": "No",
         "Total_Income": 11376,
         "_deepnote_index_column": 38
        },
        {
         "Credit_History": "1.0",
         "Dependents": "0",
         "Education": "Not Graduate",
         "Gender": "Male",
         "LoanAmount": "110.0",
         "Loan_Amount_Term": "360.0",
         "Loan_Status": "Y",
         "Married": "No",
         "Property_Area": "Semiurban",
         "Self_Employed": "No",
         "Total_Income": 5416,
         "_deepnote_index_column": 39
        },
        {
         "Credit_History": "1.0",
         "Dependents": "0",
         "Education": "Graduate",
         "Gender": "Male",
         "LoanAmount": "80.0",
         "Loan_Amount_Term": "360.0",
         "Loan_Status": "N",
         "Married": "No",
         "Property_Area": "Urban",
         "Self_Employed": "No",
         "Total_Income": 3600,
         "_deepnote_index_column": 40
        },
        {
         "Credit_History": "1.0",
         "Dependents": "0",
         "Education": "Graduate",
         "Gender": "Male",
         "LoanAmount": "47.0",
         "Loan_Amount_Term": "360.0",
         "Loan_Status": "Y",
         "Married": "No",
         "Property_Area": "Urban",
         "Self_Employed": "No",
         "Total_Income": 3013,
         "_deepnote_index_column": 41
        },
        {
         "Credit_History": "nan",
         "Dependents": "0",
         "Education": "Graduate",
         "Gender": "Male",
         "LoanAmount": "75.0",
         "Loan_Amount_Term": "360.0",
         "Loan_Status": "Y",
         "Married": "Yes",
         "Property_Area": "Urban",
         "Self_Employed": "No",
         "Total_Income": 2400,
         "_deepnote_index_column": 42
        },
        {
         "Credit_History": "1.0",
         "Dependents": "0",
         "Education": "Graduate",
         "Gender": "Male",
         "LoanAmount": "134.0",
         "Loan_Amount_Term": "360.0",
         "Loan_Status": "Y",
         "Married": "Yes",
         "Property_Area": "Semiurban",
         "Self_Employed": "No",
         "Total_Income": 6277,
         "_deepnote_index_column": 43
        },
        {
         "Credit_History": "1.0",
         "Dependents": "0",
         "Education": "Not Graduate",
         "Gender": "Male",
         "LoanAmount": "96.0",
         "Loan_Amount_Term": "nan",
         "Loan_Status": "Y",
         "Married": "Yes",
         "Property_Area": "Urban",
         "Self_Employed": "Yes",
         "Total_Income": 4695,
         "_deepnote_index_column": 44
        }
       ]
      },
      "text/html": [
       "<div>\n",
       "<style scoped>\n",
       "    .dataframe tbody tr th:only-of-type {\n",
       "        vertical-align: middle;\n",
       "    }\n",
       "\n",
       "    .dataframe tbody tr th {\n",
       "        vertical-align: top;\n",
       "    }\n",
       "\n",
       "    .dataframe thead th {\n",
       "        text-align: right;\n",
       "    }\n",
       "</style>\n",
       "<table border=\"1\" class=\"dataframe\">\n",
       "  <thead>\n",
       "    <tr style=\"text-align: right;\">\n",
       "      <th></th>\n",
       "      <th>Gender</th>\n",
       "      <th>Married</th>\n",
       "      <th>Dependents</th>\n",
       "      <th>Education</th>\n",
       "      <th>Self_Employed</th>\n",
       "      <th>LoanAmount</th>\n",
       "      <th>Loan_Amount_Term</th>\n",
       "      <th>Credit_History</th>\n",
       "      <th>Property_Area</th>\n",
       "      <th>Loan_Status</th>\n",
       "      <th>Total_Income</th>\n",
       "    </tr>\n",
       "  </thead>\n",
       "  <tbody>\n",
       "    <tr>\n",
       "      <th>0</th>\n",
       "      <td>Male</td>\n",
       "      <td>No</td>\n",
       "      <td>0</td>\n",
       "      <td>Graduate</td>\n",
       "      <td>No</td>\n",
       "      <td>NaN</td>\n",
       "      <td>360.0</td>\n",
       "      <td>1.0</td>\n",
       "      <td>Urban</td>\n",
       "      <td>Y</td>\n",
       "      <td>5849.0</td>\n",
       "    </tr>\n",
       "    <tr>\n",
       "      <th>1</th>\n",
       "      <td>Male</td>\n",
       "      <td>Yes</td>\n",
       "      <td>1</td>\n",
       "      <td>Graduate</td>\n",
       "      <td>No</td>\n",
       "      <td>128.0</td>\n",
       "      <td>360.0</td>\n",
       "      <td>1.0</td>\n",
       "      <td>Rural</td>\n",
       "      <td>N</td>\n",
       "      <td>6091.0</td>\n",
       "    </tr>\n",
       "    <tr>\n",
       "      <th>2</th>\n",
       "      <td>Male</td>\n",
       "      <td>Yes</td>\n",
       "      <td>0</td>\n",
       "      <td>Graduate</td>\n",
       "      <td>Yes</td>\n",
       "      <td>66.0</td>\n",
       "      <td>360.0</td>\n",
       "      <td>1.0</td>\n",
       "      <td>Urban</td>\n",
       "      <td>Y</td>\n",
       "      <td>3000.0</td>\n",
       "    </tr>\n",
       "    <tr>\n",
       "      <th>3</th>\n",
       "      <td>Male</td>\n",
       "      <td>Yes</td>\n",
       "      <td>0</td>\n",
       "      <td>Not Graduate</td>\n",
       "      <td>No</td>\n",
       "      <td>120.0</td>\n",
       "      <td>360.0</td>\n",
       "      <td>1.0</td>\n",
       "      <td>Urban</td>\n",
       "      <td>Y</td>\n",
       "      <td>4941.0</td>\n",
       "    </tr>\n",
       "    <tr>\n",
       "      <th>4</th>\n",
       "      <td>Male</td>\n",
       "      <td>No</td>\n",
       "      <td>0</td>\n",
       "      <td>Graduate</td>\n",
       "      <td>No</td>\n",
       "      <td>141.0</td>\n",
       "      <td>360.0</td>\n",
       "      <td>1.0</td>\n",
       "      <td>Urban</td>\n",
       "      <td>Y</td>\n",
       "      <td>6000.0</td>\n",
       "    </tr>\n",
       "    <tr>\n",
       "      <th>...</th>\n",
       "      <td>...</td>\n",
       "      <td>...</td>\n",
       "      <td>...</td>\n",
       "      <td>...</td>\n",
       "      <td>...</td>\n",
       "      <td>...</td>\n",
       "      <td>...</td>\n",
       "      <td>...</td>\n",
       "      <td>...</td>\n",
       "      <td>...</td>\n",
       "      <td>...</td>\n",
       "    </tr>\n",
       "    <tr>\n",
       "      <th>609</th>\n",
       "      <td>Female</td>\n",
       "      <td>No</td>\n",
       "      <td>0</td>\n",
       "      <td>Graduate</td>\n",
       "      <td>No</td>\n",
       "      <td>71.0</td>\n",
       "      <td>360.0</td>\n",
       "      <td>1.0</td>\n",
       "      <td>Rural</td>\n",
       "      <td>Y</td>\n",
       "      <td>2900.0</td>\n",
       "    </tr>\n",
       "    <tr>\n",
       "      <th>610</th>\n",
       "      <td>Male</td>\n",
       "      <td>Yes</td>\n",
       "      <td>3+</td>\n",
       "      <td>Graduate</td>\n",
       "      <td>No</td>\n",
       "      <td>40.0</td>\n",
       "      <td>180.0</td>\n",
       "      <td>1.0</td>\n",
       "      <td>Rural</td>\n",
       "      <td>Y</td>\n",
       "      <td>4106.0</td>\n",
       "    </tr>\n",
       "    <tr>\n",
       "      <th>611</th>\n",
       "      <td>Male</td>\n",
       "      <td>Yes</td>\n",
       "      <td>1</td>\n",
       "      <td>Graduate</td>\n",
       "      <td>No</td>\n",
       "      <td>253.0</td>\n",
       "      <td>360.0</td>\n",
       "      <td>1.0</td>\n",
       "      <td>Urban</td>\n",
       "      <td>Y</td>\n",
       "      <td>8312.0</td>\n",
       "    </tr>\n",
       "    <tr>\n",
       "      <th>612</th>\n",
       "      <td>Male</td>\n",
       "      <td>Yes</td>\n",
       "      <td>2</td>\n",
       "      <td>Graduate</td>\n",
       "      <td>No</td>\n",
       "      <td>187.0</td>\n",
       "      <td>360.0</td>\n",
       "      <td>1.0</td>\n",
       "      <td>Urban</td>\n",
       "      <td>Y</td>\n",
       "      <td>7583.0</td>\n",
       "    </tr>\n",
       "    <tr>\n",
       "      <th>613</th>\n",
       "      <td>Female</td>\n",
       "      <td>No</td>\n",
       "      <td>0</td>\n",
       "      <td>Graduate</td>\n",
       "      <td>Yes</td>\n",
       "      <td>133.0</td>\n",
       "      <td>360.0</td>\n",
       "      <td>0.0</td>\n",
       "      <td>Semiurban</td>\n",
       "      <td>N</td>\n",
       "      <td>4583.0</td>\n",
       "    </tr>\n",
       "  </tbody>\n",
       "</table>\n",
       "<p>614 rows × 11 columns</p>\n",
       "</div>"
      ],
      "text/plain": [
       "     Gender Married Dependents     Education Self_Employed  LoanAmount  \\\n",
       "0      Male      No          0      Graduate            No         NaN   \n",
       "1      Male     Yes          1      Graduate            No       128.0   \n",
       "2      Male     Yes          0      Graduate           Yes        66.0   \n",
       "3      Male     Yes          0  Not Graduate            No       120.0   \n",
       "4      Male      No          0      Graduate            No       141.0   \n",
       "..      ...     ...        ...           ...           ...         ...   \n",
       "609  Female      No          0      Graduate            No        71.0   \n",
       "610    Male     Yes         3+      Graduate            No        40.0   \n",
       "611    Male     Yes          1      Graduate            No       253.0   \n",
       "612    Male     Yes          2      Graduate            No       187.0   \n",
       "613  Female      No          0      Graduate           Yes       133.0   \n",
       "\n",
       "     Loan_Amount_Term  Credit_History Property_Area Loan_Status  Total_Income  \n",
       "0               360.0             1.0         Urban           Y        5849.0  \n",
       "1               360.0             1.0         Rural           N        6091.0  \n",
       "2               360.0             1.0         Urban           Y        3000.0  \n",
       "3               360.0             1.0         Urban           Y        4941.0  \n",
       "4               360.0             1.0         Urban           Y        6000.0  \n",
       "..                ...             ...           ...         ...           ...  \n",
       "609             360.0             1.0         Rural           Y        2900.0  \n",
       "610             180.0             1.0         Rural           Y        4106.0  \n",
       "611             360.0             1.0         Urban           Y        8312.0  \n",
       "612             360.0             1.0         Urban           Y        7583.0  \n",
       "613             360.0             0.0     Semiurban           N        4583.0  \n",
       "\n",
       "[614 rows x 11 columns]"
      ]
     },
     "execution_count": 38,
     "metadata": {},
     "output_type": "execute_result"
    }
   ],
   "source": [
    "df.drop(['Loan_ID'],axis = 'columns',inplace=True) #we do not take in count the customers ID because it's not related to our searching\n",
    "df['Total_Income'] = df['ApplicantIncome'] + df['CoapplicantIncome'] #We coulb merge and sum the colum ApplicantIncome and Coapplicantincome\n",
    "#as the total income\n",
    "df.drop(columns = ['ApplicantIncome', 'CoapplicantIncome'], axis = 1)\n",
    "#df['Monthly_cost'] = df['LoanAmount']/df['Loan_Amount_Term']\n",
    "#df['Income_after_paid'] = df['Income']-df['Monthly_cost'] \n",
    "\n",
    "\n"
   ]
  },
  {
   "cell_type": "code",
   "execution_count": null,
   "metadata": {
    "cell_id": "00013-568bb5bc-b5ad-46d6-b620-98eaee424fba",
    "deepnote_cell_type": "code",
    "deepnote_to_be_reexecuted": false,
    "execution_millis": 1,
    "execution_start": 1610109626395,
    "output_cleared": false,
    "source_hash": "aeb3436e",
    "tags": []
   },
   "outputs": [],
   "source": [
    "df = pd.get_dummies(df, columns = ['Property_Area'])"
   ]
  },
  {
   "cell_type": "markdown",
   "metadata": {
    "cell_id": "00016-3e289000-e2a5-45d6-8c49-8b827876c06e",
    "deepnote_cell_type": "markdown",
    "output_cleared": false,
    "tags": []
   },
   "source": [
    "## We will fill the NA value with the mode of their columns, which is the most represented value "
   ]
  },
  {
   "cell_type": "code",
   "execution_count": null,
   "metadata": {
    "cell_id": "00015-a065c1e7-98c6-442f-9908-33f53fd14c10",
    "deepnote_cell_type": "code",
    "deepnote_to_be_reexecuted": false,
    "execution_millis": 0,
    "execution_start": 1610109626396,
    "output_cleared": false,
    "source_hash": "f5e51fa4",
    "tags": []
   },
   "outputs": [],
   "source": [
    "df['Gender'].fillna(df['Gender'].mode()[0], inplace=True)\n",
    "df['Married'].fillna(df['Married'].mode()[0], inplace=True)\n",
    "df['Dependents'].fillna(df['Dependents'].mode()[0], inplace=True)\n",
    "df['Self_Employed'].fillna(df['Self_Employed'].mode()[0], inplace=True)\n",
    "df['Credit_History'].fillna(df['Credit_History'].mode()[0], inplace=True)\n",
    "df['Loan_Amount_Term'].fillna(df['Loan_Amount_Term'].mode()[0], inplace=True)\n",
    "df['LoanAmount'].fillna(df['LoanAmount'].median(), inplace=True) #The data contains high outliers, we will use the median rather the mean"
   ]
  },
  {
   "cell_type": "markdown",
   "metadata": {
    "cell_id": "00018-b0e4ae90-d157-4ece-af9b-fdb1bfc0e71a",
    "deepnote_cell_type": "markdown",
    "output_cleared": false,
    "tags": []
   },
   "source": [
    "## We categorize our columns"
   ]
  },
  {
   "cell_type": "code",
   "execution_count": null,
   "metadata": {
    "cell_id": "00011-5b76faef-3096-4d2e-9e83-a47144740949",
    "deepnote_cell_type": "code",
    "deepnote_to_be_reexecuted": false,
    "execution_millis": 47,
    "execution_start": 1610109626396,
    "output_cleared": false,
    "source_hash": "bd64d407",
    "tags": []
   },
   "outputs": [],
   "source": [
    "df.loc[df.Gender=='Male','Gender']= 1\n",
    "df.loc[df.Gender=='Female','Gender']= 0\n",
    "\n",
    "df.loc[df.Married=='No','Married']= 0\n",
    "df.loc[df.Married=='Yes','Married']= 1\n",
    "\n",
    "df.loc[df.Education=='Not Graduate','Education']= 0\n",
    "df.loc[df.Education=='Graduate','Education']= 1\n",
    "\n",
    "df.loc[df.Loan_Status == 'Y', 'Loan_Status'] = 1\n",
    "df.loc[df.Loan_Status == 'N', 'Loan_Status'] = 0\n",
    "\n",
    "df.loc[df.Self_Employed == 'Yes', 'Self_Employed'] = 1\n",
    "df.loc[df.Self_Employed == 'No', 'Self_Employed'] = 0\n",
    "\n",
    "df.loc[df.Dependents == '3+', 'Dependents'] = 3 #to convert the values of this column from string to categories we just tranform the 3+ into 3 "
   ]
  },
  {
   "cell_type": "code",
   "execution_count": null,
   "metadata": {
    "cell_id": "00013-5ca9e0ee-7072-440b-9788-6b2db75f53c2",
    "deepnote_cell_type": "code",
    "deepnote_to_be_reexecuted": false,
    "execution_millis": 64,
    "execution_start": 1610109626444,
    "output_cleared": false,
    "source_hash": "c085b6ba",
    "tags": []
   },
   "outputs": [
    {
     "data": {
      "application/vnd.deepnote.dataframe.v2+json": {
       "column_count": 15,
       "columns": [
        {
         "dtype": "object",
         "name": "Gender",
         "stats": {
          "categories": [
           {
            "count": 5,
            "name": "1"
           }
          ],
          "nan_count": 0,
          "unique_count": 1
         }
        },
        {
         "dtype": "object",
         "name": "Married",
         "stats": {
          "categories": [
           {
            "count": 3,
            "name": "1"
           },
           {
            "count": 2,
            "name": "0"
           }
          ],
          "nan_count": 0,
          "unique_count": 2
         }
        },
        {
         "dtype": "object",
         "name": "Dependents",
         "stats": {
          "categories": [
           {
            "count": 4,
            "name": "0"
           },
           {
            "count": 1,
            "name": "1"
           }
          ],
          "nan_count": 0,
          "unique_count": 2
         }
        },
        {
         "dtype": "object",
         "name": "Education",
         "stats": {
          "categories": [
           {
            "count": 4,
            "name": "1"
           },
           {
            "count": 1,
            "name": "0"
           }
          ],
          "nan_count": 0,
          "unique_count": 2
         }
        },
        {
         "dtype": "object",
         "name": "Self_Employed",
         "stats": {
          "categories": [
           {
            "count": 4,
            "name": "0"
           },
           {
            "count": 1,
            "name": "1"
           }
          ],
          "nan_count": 0,
          "unique_count": 2
         }
        },
        {
         "dtype": "int64",
         "name": "ApplicantIncome",
         "stats": {
          "histogram": [
           {
            "bin_end": 2924.7,
            "bin_start": 2583,
            "count": 1
           },
           {
            "bin_end": 3266.4,
            "bin_start": 2924.7,
            "count": 1
           },
           {
            "bin_end": 3608.1,
            "bin_start": 3266.4,
            "count": 0
           },
           {
            "bin_end": 3949.8,
            "bin_start": 3608.1,
            "count": 0
           },
           {
            "bin_end": 4291.5,
            "bin_start": 3949.8,
            "count": 0
           },
           {
            "bin_end": 4633.2,
            "bin_start": 4291.5,
            "count": 1
           },
           {
            "bin_end": 4974.9,
            "bin_start": 4633.2,
            "count": 0
           },
           {
            "bin_end": 5316.6,
            "bin_start": 4974.9,
            "count": 0
           },
           {
            "bin_end": 5658.299999999999,
            "bin_start": 5316.6,
            "count": 0
           },
           {
            "bin_end": 6000,
            "bin_start": 5658.299999999999,
            "count": 2
           }
          ],
          "max": 6000,
          "min": 2583,
          "nan_count": 0,
          "unique_count": 5
         }
        },
        {
         "dtype": "float64",
         "name": "CoapplicantIncome",
         "stats": {
          "histogram": [
           {
            "bin_end": 235.8,
            "bin_start": 0,
            "count": 3
           },
           {
            "bin_end": 471.6,
            "bin_start": 235.8,
            "count": 0
           },
           {
            "bin_end": 707.4000000000001,
            "bin_start": 471.6,
            "count": 0
           },
           {
            "bin_end": 943.2,
            "bin_start": 707.4000000000001,
            "count": 0
           },
           {
            "bin_end": 1179,
            "bin_start": 943.2,
            "count": 0
           },
           {
            "bin_end": 1414.8000000000002,
            "bin_start": 1179,
            "count": 0
           },
           {
            "bin_end": 1650.6000000000001,
            "bin_start": 1414.8000000000002,
            "count": 1
           },
           {
            "bin_end": 1886.4,
            "bin_start": 1650.6000000000001,
            "count": 0
           },
           {
            "bin_end": 2122.2000000000003,
            "bin_start": 1886.4,
            "count": 0
           },
           {
            "bin_end": 2358,
            "bin_start": 2122.2000000000003,
            "count": 1
           }
          ],
          "max": 2358,
          "min": 0,
          "nan_count": 0,
          "unique_count": 3
         }
        },
        {
         "dtype": "float64",
         "name": "LoanAmount",
         "stats": {
          "histogram": [
           {
            "bin_end": 73.5,
            "bin_start": 66,
            "count": 1
           },
           {
            "bin_end": 81,
            "bin_start": 73.5,
            "count": 0
           },
           {
            "bin_end": 88.5,
            "bin_start": 81,
            "count": 0
           },
           {
            "bin_end": 96,
            "bin_start": 88.5,
            "count": 0
           },
           {
            "bin_end": 103.5,
            "bin_start": 96,
            "count": 0
           },
           {
            "bin_end": 111,
            "bin_start": 103.5,
            "count": 0
           },
           {
            "bin_end": 118.5,
            "bin_start": 111,
            "count": 0
           },
           {
            "bin_end": 126,
            "bin_start": 118.5,
            "count": 1
           },
           {
            "bin_end": 133.5,
            "bin_start": 126,
            "count": 2
           },
           {
            "bin_end": 141,
            "bin_start": 133.5,
            "count": 1
           }
          ],
          "max": 141,
          "min": 66,
          "nan_count": 0,
          "unique_count": 4
         }
        },
        {
         "dtype": "float64",
         "name": "Loan_Amount_Term",
         "stats": {
          "histogram": [
           {
            "bin_end": 359.6,
            "bin_start": 359.5,
            "count": 0
           },
           {
            "bin_end": 359.7,
            "bin_start": 359.6,
            "count": 0
           },
           {
            "bin_end": 359.8,
            "bin_start": 359.7,
            "count": 0
           },
           {
            "bin_end": 359.9,
            "bin_start": 359.8,
            "count": 0
           },
           {
            "bin_end": 360,
            "bin_start": 359.9,
            "count": 0
           },
           {
            "bin_end": 360.1,
            "bin_start": 360,
            "count": 5
           },
           {
            "bin_end": 360.2,
            "bin_start": 360.1,
            "count": 0
           },
           {
            "bin_end": 360.3,
            "bin_start": 360.2,
            "count": 0
           },
           {
            "bin_end": 360.4,
            "bin_start": 360.3,
            "count": 0
           },
           {
            "bin_end": 360.5,
            "bin_start": 360.4,
            "count": 0
           }
          ],
          "max": 360,
          "min": 360,
          "nan_count": 0,
          "unique_count": 1
         }
        },
        {
         "dtype": "float64",
         "name": "Credit_History",
         "stats": {
          "histogram": [
           {
            "bin_end": 0.6,
            "bin_start": 0.5,
            "count": 0
           },
           {
            "bin_end": 0.7,
            "bin_start": 0.6,
            "count": 0
           },
           {
            "bin_end": 0.8,
            "bin_start": 0.7,
            "count": 0
           },
           {
            "bin_end": 0.9,
            "bin_start": 0.8,
            "count": 0
           },
           {
            "bin_end": 1,
            "bin_start": 0.9,
            "count": 0
           },
           {
            "bin_end": 1.1,
            "bin_start": 1,
            "count": 5
           },
           {
            "bin_end": 1.2000000000000002,
            "bin_start": 1.1,
            "count": 0
           },
           {
            "bin_end": 1.3,
            "bin_start": 1.2000000000000002,
            "count": 0
           },
           {
            "bin_end": 1.4,
            "bin_start": 1.3,
            "count": 0
           },
           {
            "bin_end": 1.5,
            "bin_start": 1.4,
            "count": 0
           }
          ],
          "max": 1,
          "min": 1,
          "nan_count": 0,
          "unique_count": 1
         }
        },
        {
         "dtype": "object",
         "name": "Loan_Status",
         "stats": {
          "categories": [
           {
            "count": 4,
            "name": "1"
           },
           {
            "count": 1,
            "name": "0"
           }
          ],
          "nan_count": 0,
          "unique_count": 2
         }
        },
        {
         "dtype": "float64",
         "name": "Total_Income",
         "stats": {
          "histogram": [
           {
            "bin_end": 3309.1,
            "bin_start": 3000,
            "count": 1
           },
           {
            "bin_end": 3618.2,
            "bin_start": 3309.1,
            "count": 0
           },
           {
            "bin_end": 3927.3,
            "bin_start": 3618.2,
            "count": 0
           },
           {
            "bin_end": 4236.4,
            "bin_start": 3927.3,
            "count": 0
           },
           {
            "bin_end": 4545.5,
            "bin_start": 4236.4,
            "count": 0
           },
           {
            "bin_end": 4854.6,
            "bin_start": 4545.5,
            "count": 0
           },
           {
            "bin_end": 5163.700000000001,
            "bin_start": 4854.6,
            "count": 1
           },
           {
            "bin_end": 5472.8,
            "bin_start": 5163.700000000001,
            "count": 0
           },
           {
            "bin_end": 5781.9,
            "bin_start": 5472.8,
            "count": 0
           },
           {
            "bin_end": 6091,
            "bin_start": 5781.9,
            "count": 3
           }
          ],
          "max": 6091,
          "min": 3000,
          "nan_count": 0,
          "unique_count": 5
         }
        },
        {
         "dtype": "uint8",
         "name": "Property_Area_Rural",
         "stats": {
          "histogram": [
           {
            "bin_end": 0.1,
            "bin_start": 0,
            "count": 4
           },
           {
            "bin_end": 0.2,
            "bin_start": 0.1,
            "count": 0
           },
           {
            "bin_end": 0.30000000000000004,
            "bin_start": 0.2,
            "count": 0
           },
           {
            "bin_end": 0.4,
            "bin_start": 0.30000000000000004,
            "count": 0
           },
           {
            "bin_end": 0.5,
            "bin_start": 0.4,
            "count": 0
           },
           {
            "bin_end": 0.6000000000000001,
            "bin_start": 0.5,
            "count": 0
           },
           {
            "bin_end": 0.7000000000000001,
            "bin_start": 0.6000000000000001,
            "count": 0
           },
           {
            "bin_end": 0.8,
            "bin_start": 0.7000000000000001,
            "count": 0
           },
           {
            "bin_end": 0.9,
            "bin_start": 0.8,
            "count": 0
           },
           {
            "bin_end": 1,
            "bin_start": 0.9,
            "count": 1
           }
          ],
          "max": 1,
          "min": 0,
          "nan_count": 0,
          "unique_count": 2
         }
        },
        {
         "dtype": "uint8",
         "name": "Property_Area_Semiurban",
         "stats": {
          "histogram": [
           {
            "bin_end": -0.4,
            "bin_start": -0.5,
            "count": 0
           },
           {
            "bin_end": -0.3,
            "bin_start": -0.4,
            "count": 0
           },
           {
            "bin_end": -0.19999999999999996,
            "bin_start": -0.3,
            "count": 0
           },
           {
            "bin_end": -0.09999999999999998,
            "bin_start": -0.19999999999999996,
            "count": 0
           },
           {
            "bin_end": 0,
            "bin_start": -0.09999999999999998,
            "count": 0
           },
           {
            "bin_end": 0.10000000000000009,
            "bin_start": 0,
            "count": 5
           },
           {
            "bin_end": 0.20000000000000007,
            "bin_start": 0.10000000000000009,
            "count": 0
           },
           {
            "bin_end": 0.30000000000000004,
            "bin_start": 0.20000000000000007,
            "count": 0
           },
           {
            "bin_end": 0.4,
            "bin_start": 0.30000000000000004,
            "count": 0
           },
           {
            "bin_end": 0.5,
            "bin_start": 0.4,
            "count": 0
           }
          ],
          "max": 0,
          "min": 0,
          "nan_count": 0,
          "unique_count": 1
         }
        },
        {
         "dtype": "uint8",
         "name": "Property_Area_Urban",
         "stats": {
          "histogram": [
           {
            "bin_end": 0.1,
            "bin_start": 0,
            "count": 1
           },
           {
            "bin_end": 0.2,
            "bin_start": 0.1,
            "count": 0
           },
           {
            "bin_end": 0.30000000000000004,
            "bin_start": 0.2,
            "count": 0
           },
           {
            "bin_end": 0.4,
            "bin_start": 0.30000000000000004,
            "count": 0
           },
           {
            "bin_end": 0.5,
            "bin_start": 0.4,
            "count": 0
           },
           {
            "bin_end": 0.6000000000000001,
            "bin_start": 0.5,
            "count": 0
           },
           {
            "bin_end": 0.7000000000000001,
            "bin_start": 0.6000000000000001,
            "count": 0
           },
           {
            "bin_end": 0.8,
            "bin_start": 0.7000000000000001,
            "count": 0
           },
           {
            "bin_end": 0.9,
            "bin_start": 0.8,
            "count": 0
           },
           {
            "bin_end": 1,
            "bin_start": 0.9,
            "count": 4
           }
          ],
          "max": 1,
          "min": 0,
          "nan_count": 0,
          "unique_count": 2
         }
        },
        {
         "dtype": "int64",
         "name": "_deepnote_index_column"
        }
       ],
       "row_count": 5,
       "rows_bottom": null,
       "rows_top": [
        {
         "ApplicantIncome": 5849,
         "CoapplicantIncome": 0,
         "Credit_History": 1,
         "Dependents": "0",
         "Education": 1,
         "Gender": 1,
         "LoanAmount": 128,
         "Loan_Amount_Term": 360,
         "Loan_Status": 1,
         "Married": 0,
         "Property_Area_Rural": 0,
         "Property_Area_Semiurban": 0,
         "Property_Area_Urban": 1,
         "Self_Employed": 0,
         "Total_Income": 5849,
         "_deepnote_index_column": 0
        },
        {
         "ApplicantIncome": 4583,
         "CoapplicantIncome": 1508,
         "Credit_History": 1,
         "Dependents": "1",
         "Education": 1,
         "Gender": 1,
         "LoanAmount": 128,
         "Loan_Amount_Term": 360,
         "Loan_Status": 0,
         "Married": 1,
         "Property_Area_Rural": 1,
         "Property_Area_Semiurban": 0,
         "Property_Area_Urban": 0,
         "Self_Employed": 0,
         "Total_Income": 6091,
         "_deepnote_index_column": 1
        },
        {
         "ApplicantIncome": 3000,
         "CoapplicantIncome": 0,
         "Credit_History": 1,
         "Dependents": "0",
         "Education": 1,
         "Gender": 1,
         "LoanAmount": 66,
         "Loan_Amount_Term": 360,
         "Loan_Status": 1,
         "Married": 1,
         "Property_Area_Rural": 0,
         "Property_Area_Semiurban": 0,
         "Property_Area_Urban": 1,
         "Self_Employed": 1,
         "Total_Income": 3000,
         "_deepnote_index_column": 2
        },
        {
         "ApplicantIncome": 2583,
         "CoapplicantIncome": 2358,
         "Credit_History": 1,
         "Dependents": "0",
         "Education": 0,
         "Gender": 1,
         "LoanAmount": 120,
         "Loan_Amount_Term": 360,
         "Loan_Status": 1,
         "Married": 1,
         "Property_Area_Rural": 0,
         "Property_Area_Semiurban": 0,
         "Property_Area_Urban": 1,
         "Self_Employed": 0,
         "Total_Income": 4941,
         "_deepnote_index_column": 3
        },
        {
         "ApplicantIncome": 6000,
         "CoapplicantIncome": 0,
         "Credit_History": 1,
         "Dependents": "0",
         "Education": 1,
         "Gender": 1,
         "LoanAmount": 141,
         "Loan_Amount_Term": 360,
         "Loan_Status": 1,
         "Married": 0,
         "Property_Area_Rural": 0,
         "Property_Area_Semiurban": 0,
         "Property_Area_Urban": 1,
         "Self_Employed": 0,
         "Total_Income": 6000,
         "_deepnote_index_column": 4
        }
       ]
      },
      "text/html": [
       "<div>\n",
       "<style scoped>\n",
       "    .dataframe tbody tr th:only-of-type {\n",
       "        vertical-align: middle;\n",
       "    }\n",
       "\n",
       "    .dataframe tbody tr th {\n",
       "        vertical-align: top;\n",
       "    }\n",
       "\n",
       "    .dataframe thead th {\n",
       "        text-align: right;\n",
       "    }\n",
       "</style>\n",
       "<table border=\"1\" class=\"dataframe\">\n",
       "  <thead>\n",
       "    <tr style=\"text-align: right;\">\n",
       "      <th></th>\n",
       "      <th>Gender</th>\n",
       "      <th>Married</th>\n",
       "      <th>Dependents</th>\n",
       "      <th>Education</th>\n",
       "      <th>Self_Employed</th>\n",
       "      <th>ApplicantIncome</th>\n",
       "      <th>CoapplicantIncome</th>\n",
       "      <th>LoanAmount</th>\n",
       "      <th>Loan_Amount_Term</th>\n",
       "      <th>Credit_History</th>\n",
       "      <th>Loan_Status</th>\n",
       "      <th>Total_Income</th>\n",
       "      <th>Property_Area_Rural</th>\n",
       "      <th>Property_Area_Semiurban</th>\n",
       "      <th>Property_Area_Urban</th>\n",
       "    </tr>\n",
       "  </thead>\n",
       "  <tbody>\n",
       "    <tr>\n",
       "      <th>0</th>\n",
       "      <td>1</td>\n",
       "      <td>0</td>\n",
       "      <td>0</td>\n",
       "      <td>1</td>\n",
       "      <td>0</td>\n",
       "      <td>5849</td>\n",
       "      <td>0.0</td>\n",
       "      <td>128.0</td>\n",
       "      <td>360.0</td>\n",
       "      <td>1.0</td>\n",
       "      <td>1</td>\n",
       "      <td>5849.0</td>\n",
       "      <td>0</td>\n",
       "      <td>0</td>\n",
       "      <td>1</td>\n",
       "    </tr>\n",
       "    <tr>\n",
       "      <th>1</th>\n",
       "      <td>1</td>\n",
       "      <td>1</td>\n",
       "      <td>1</td>\n",
       "      <td>1</td>\n",
       "      <td>0</td>\n",
       "      <td>4583</td>\n",
       "      <td>1508.0</td>\n",
       "      <td>128.0</td>\n",
       "      <td>360.0</td>\n",
       "      <td>1.0</td>\n",
       "      <td>0</td>\n",
       "      <td>6091.0</td>\n",
       "      <td>1</td>\n",
       "      <td>0</td>\n",
       "      <td>0</td>\n",
       "    </tr>\n",
       "    <tr>\n",
       "      <th>2</th>\n",
       "      <td>1</td>\n",
       "      <td>1</td>\n",
       "      <td>0</td>\n",
       "      <td>1</td>\n",
       "      <td>1</td>\n",
       "      <td>3000</td>\n",
       "      <td>0.0</td>\n",
       "      <td>66.0</td>\n",
       "      <td>360.0</td>\n",
       "      <td>1.0</td>\n",
       "      <td>1</td>\n",
       "      <td>3000.0</td>\n",
       "      <td>0</td>\n",
       "      <td>0</td>\n",
       "      <td>1</td>\n",
       "    </tr>\n",
       "    <tr>\n",
       "      <th>3</th>\n",
       "      <td>1</td>\n",
       "      <td>1</td>\n",
       "      <td>0</td>\n",
       "      <td>0</td>\n",
       "      <td>0</td>\n",
       "      <td>2583</td>\n",
       "      <td>2358.0</td>\n",
       "      <td>120.0</td>\n",
       "      <td>360.0</td>\n",
       "      <td>1.0</td>\n",
       "      <td>1</td>\n",
       "      <td>4941.0</td>\n",
       "      <td>0</td>\n",
       "      <td>0</td>\n",
       "      <td>1</td>\n",
       "    </tr>\n",
       "    <tr>\n",
       "      <th>4</th>\n",
       "      <td>1</td>\n",
       "      <td>0</td>\n",
       "      <td>0</td>\n",
       "      <td>1</td>\n",
       "      <td>0</td>\n",
       "      <td>6000</td>\n",
       "      <td>0.0</td>\n",
       "      <td>141.0</td>\n",
       "      <td>360.0</td>\n",
       "      <td>1.0</td>\n",
       "      <td>1</td>\n",
       "      <td>6000.0</td>\n",
       "      <td>0</td>\n",
       "      <td>0</td>\n",
       "      <td>1</td>\n",
       "    </tr>\n",
       "  </tbody>\n",
       "</table>\n",
       "</div>"
      ],
      "text/plain": [
       "  Gender Married Dependents Education Self_Employed  ApplicantIncome  \\\n",
       "0      1       0          0         1             0             5849   \n",
       "1      1       1          1         1             0             4583   \n",
       "2      1       1          0         1             1             3000   \n",
       "3      1       1          0         0             0             2583   \n",
       "4      1       0          0         1             0             6000   \n",
       "\n",
       "   CoapplicantIncome  LoanAmount  Loan_Amount_Term  Credit_History  \\\n",
       "0                0.0       128.0             360.0             1.0   \n",
       "1             1508.0       128.0             360.0             1.0   \n",
       "2                0.0        66.0             360.0             1.0   \n",
       "3             2358.0       120.0             360.0             1.0   \n",
       "4                0.0       141.0             360.0             1.0   \n",
       "\n",
       "  Loan_Status  Total_Income  Property_Area_Rural  Property_Area_Semiurban  \\\n",
       "0           1        5849.0                    0                        0   \n",
       "1           0        6091.0                    1                        0   \n",
       "2           1        3000.0                    0                        0   \n",
       "3           1        4941.0                    0                        0   \n",
       "4           1        6000.0                    0                        0   \n",
       "\n",
       "   Property_Area_Urban  \n",
       "0                    1  \n",
       "1                    0  \n",
       "2                    1  \n",
       "3                    1  \n",
       "4                    1  "
      ]
     },
     "execution_count": 42,
     "metadata": {},
     "output_type": "execute_result"
    }
   ],
   "source": [
    "df.head()"
   ]
  },
  {
   "cell_type": "markdown",
   "metadata": {
    "cell_id": "00021-a591f2ad-529d-4752-94fa-905492814165",
    "deepnote_cell_type": "markdown",
    "output_cleared": false,
    "tags": []
   },
   "source": [
    "## Checking if we still have missing values"
   ]
  },
  {
   "cell_type": "code",
   "execution_count": null,
   "metadata": {
    "cell_id": "00021-d8011055-6fce-4160-bd63-c690740ac50a",
    "deepnote_cell_type": "code",
    "deepnote_to_be_reexecuted": false,
    "execution_millis": 0,
    "execution_start": 1610109626548,
    "output_cleared": false,
    "source_hash": "439cb42d",
    "tags": []
   },
   "outputs": [
    {
     "data": {
      "text/plain": [
       "Gender                     0\n",
       "Married                    0\n",
       "Dependents                 0\n",
       "Education                  0\n",
       "Self_Employed              0\n",
       "ApplicantIncome            0\n",
       "CoapplicantIncome          0\n",
       "LoanAmount                 0\n",
       "Loan_Amount_Term           0\n",
       "Credit_History             0\n",
       "Loan_Status                0\n",
       "Total_Income               0\n",
       "Property_Area_Rural        0\n",
       "Property_Area_Semiurban    0\n",
       "Property_Area_Urban        0\n",
       "dtype: int64"
      ]
     },
     "execution_count": 43,
     "metadata": {},
     "output_type": "execute_result"
    }
   ],
   "source": [
    "df.isna().sum() #We suceeded to complete the missing the value "
   ]
  },
  {
   "cell_type": "code",
   "execution_count": null,
   "metadata": {
    "cell_id": "00013-64610f53-28ec-4a76-90c8-10e37f7a2f91",
    "deepnote_cell_type": "code",
    "deepnote_to_be_reexecuted": false,
    "execution_millis": 0,
    "execution_start": 1610109626549,
    "output_cleared": false,
    "source_hash": "25d43fa0",
    "tags": []
   },
   "outputs": [
    {
     "data": {
      "text/plain": [
       "Index(['Gender', 'Married', 'Dependents', 'Education', 'Self_Employed',\n",
       "       'ApplicantIncome', 'CoapplicantIncome', 'LoanAmount',\n",
       "       'Loan_Amount_Term', 'Credit_History', 'Loan_Status', 'Total_Income',\n",
       "       'Property_Area_Rural', 'Property_Area_Semiurban',\n",
       "       'Property_Area_Urban'],\n",
       "      dtype='object')"
      ]
     },
     "execution_count": 44,
     "metadata": {},
     "output_type": "execute_result"
    }
   ],
   "source": [
    "df.columns"
   ]
  },
  {
   "cell_type": "markdown",
   "metadata": {
    "cell_id": "00016-20c52178-a3a7-4d00-ba68-adda4a01a420",
    "deepnote_cell_type": "markdown",
    "output_cleared": false,
    "tags": []
   },
   "source": [
    "## Scaling the features"
   ]
  },
  {
   "cell_type": "code",
   "execution_count": null,
   "metadata": {
    "cell_id": "00011-58c2bec2-9d92-4f4f-8f89-874204ef43a7",
    "deepnote_cell_type": "code",
    "deepnote_to_be_reexecuted": false,
    "execution_millis": 1,
    "execution_start": 1610109626550,
    "output_cleared": false,
    "source_hash": "5cd92b98",
    "tags": []
   },
   "outputs": [],
   "source": [
    "X = df[['Gender', 'Married', 'Dependents', 'Education', 'Self_Employed', 'LoanAmount',\n",
    "       'Loan_Amount_Term', 'Credit_History',\n",
    "       'Property_Area_Rural', 'Property_Area_Semiurban',\n",
    "       'Property_Area_Urban', 'Total_Income']].to_numpy()\n",
    "\n",
    "y = df['Loan_Status'].to_numpy()\n",
    "\n",
    "scaler = MinMaxScaler(feature_range= (0,1)) #Score of 0.809, r2 = 0.113\n",
    "#scaler = StandardScaler() #Score of 0.807, r2 = 0.105\n",
    "\n",
    "X_scaled = scaler.fit_transform(X)"
   ]
  },
  {
   "cell_type": "markdown",
   "metadata": {
    "cell_id": "00011-3f0be40c-60f2-4b01-b3c2-b4f73ba1783f",
    "deepnote_cell_type": "markdown",
    "output_cleared": false,
    "tags": []
   },
   "source": [
    "## We will not split our dataset because it has low records (around 600) which is not enough to feed our different part.\n",
    "##### The train-test procedure is not appropriate when the dataset available is small. The reason is that when the dataset is split into train and test sets, there will not be enough data in the training dataset for the model to learn an effective mapping of inputs to outputs. There will also not be enough data in the test set to effectively evaluate the model performance. The estimated performance could be overly optimistic (good) or overly pessimistic (bad).\n"
   ]
  },
  {
   "cell_type": "markdown",
   "metadata": {
    "cell_id": "00016-5ecf7295-470b-4be3-ba9b-16c73b15dbb9",
    "deepnote_cell_type": "markdown",
    "output_cleared": false,
    "tags": []
   },
   "source": [
    "## Scikit learn method"
   ]
  },
  {
   "cell_type": "code",
   "execution_count": null,
   "metadata": {
    "cell_id": "00028-3408b292-068c-4c3f-8110-b15def916b08",
    "deepnote_cell_type": "code",
    "deepnote_to_be_reexecuted": false,
    "execution_millis": 6,
    "execution_start": 1610109626552,
    "output_cleared": false,
    "source_hash": "dcbe8c7a",
    "tags": []
   },
   "outputs": [],
   "source": [
    "y = y.astype('int') # Convert our types(df.Loand_Status) = 0 in integer"
   ]
  },
  {
   "cell_type": "code",
   "execution_count": null,
   "metadata": {
    "cell_id": "00021-3eefdc40-7b1a-400e-ab3b-ac3a2b18e6df",
    "deepnote_cell_type": "code",
    "deepnote_to_be_reexecuted": false,
    "execution_millis": 47,
    "execution_start": 1610109626561,
    "output_cleared": false,
    "source_hash": "c40e1caf",
    "tags": []
   },
   "outputs": [
    {
     "name": "stdout",
     "output_type": "stream",
     "text": [
      " Log loss = 6.581636472185459 \n",
      " MSE = 0.19055374592833876 \n",
      " RMSE = 0.43652462236205963 \n",
      " MAE = 0.19055374592833876\n",
      "coefficients :  [[-0.00903013  0.50085499  0.07205676  0.3421879  -0.01446686 -0.63857405\n",
      "  -0.25433663  3.37509997 -0.33067856  0.4832967  -0.15295644 -0.30789685]]\n"
     ]
    }
   ],
   "source": [
    "model = LogisticRegression()\n",
    "\n",
    "model.fit(X_scaled, y)\n",
    "\n",
    "score = model.score(X_scaled, y)\n",
    "\n",
    "y_pred = model.predict(X_scaled)\n",
    "\n",
    "LLoss = log_loss(y, y_pred)\n",
    "MSE = mean_squared_error(y,y_pred)\n",
    "RMSE = np.sqrt(mean_squared_error(y, y_pred))\n",
    "MAE = mean_absolute_error(y, y_pred)\n",
    "R2 = r2_score(y, y_pred)\n",
    "print(' Log loss =', LLoss, '\\n', 'MSE =', MSE, '\\n', 'RMSE =', RMSE, '\\n', 'MAE =', MAE)\n",
    "print('coefficients : ', model.coef_)"
   ]
  },
  {
   "cell_type": "code",
   "execution_count": null,
   "metadata": {
    "cell_id": "00031-be3cbff3-6729-42d4-a4e3-145a2f4072d3",
    "deepnote_cell_type": "code",
    "deepnote_to_be_reexecuted": false,
    "execution_millis": 229,
    "execution_start": 1610109626611,
    "output_cleared": false,
    "source_hash": "cf956f4d",
    "tags": []
   },
   "outputs": [
    {
     "name": "stdout",
     "output_type": "stream",
     "text": [
      "coefficients :  [[-0.00903013  0.50085499  0.07205676  0.3421879  -0.01446686 -0.63857405\n",
      "  -0.25433663  3.37509997 -0.33067856  0.4832967  -0.15295644 -0.30789685]]\n",
      "r2 score :  0.11337381516587675 \n",
      " Confusion matrix :\n",
      " [[ 82 110]\n",
      " [  7 415]] \n",
      "score : 0.8094462540716613 \n",
      "\n",
      "report :\n",
      "               precision    recall  f1-score   support\n",
      "\n",
      "           0       0.92      0.43      0.58       192\n",
      "           1       0.79      0.98      0.88       422\n",
      "\n",
      "    accuracy                           0.81       614\n",
      "   macro avg       0.86      0.71      0.73       614\n",
      "weighted avg       0.83      0.81      0.78       614\n",
      "\n"
     ]
    },
    {
     "data": {
      "image/png": "[encoded data removed]",
      "text/plain": [
       "<Figure size 288x288 with 1 Axes>"
      ]
     },
     "metadata": {
      "needs_background": "light"
     },
     "output_type": "display_data"
    }
   ],
   "source": [
    "Confusion = confusion_matrix(y, y_pred)\n",
    "print('coefficients : ', model.coef_)\n",
    "plt.matshow(Confusion)\n",
    "print('r2 score : ', R2,'\\n Confusion matrix :\\n', Confusion, '\\nscore :', score, '\\n\\nreport :\\n', classification_report(y, y_pred))"
   ]
  },
  {
   "cell_type": "code",
   "execution_count": null,
   "metadata": {
    "cell_id": "00032-bf135893-100f-4078-9f8c-1e2cbdd67841",
    "deepnote_cell_type": "code",
    "deepnote_to_be_reexecuted": false,
    "execution_millis": 6,
    "execution_start": 1610109626843,
    "output_cleared": false,
    "source_hash": "cfdf5c2c",
    "tags": []
   },
   "outputs": [
    {
     "name": "stdout",
     "output_type": "stream",
     "text": [
      " Log loss = 6.581636472185459 \n",
      " MSE = 0.19055374592833876 \n",
      " RMSE = 0.43652462236205963 \n",
      " MAE = 0.19055374592833876\n"
     ]
    }
   ],
   "source": [
    "print(' Log loss =', LLoss, '\\n', 'MSE =', MSE, '\\n', 'RMSE =', RMSE, '\\n', 'MAE =', MAE)"
   ]
  },
  {
   "cell_type": "markdown",
   "metadata": {
    "cell_id": "00034-0e9bbf3e-f93e-4a11-b15e-8a43dc4c99b9",
    "deepnote_cell_type": "markdown",
    "output_cleared": false,
    "tags": []
   },
   "source": [
    "## Defining the main functions from scratch"
   ]
  },
  {
   "cell_type": "code",
   "execution_count": null,
   "metadata": {
    "cell_id": "00022-a99e5a61-372e-4762-89a4-8b3d7d091a31",
    "deepnote_cell_type": "code",
    "deepnote_to_be_reexecuted": false,
    "execution_millis": 51,
    "execution_start": 1610109626852,
    "output_cleared": false,
    "source_hash": "93c09b2e",
    "tags": []
   },
   "outputs": [],
   "source": [
    "def Sigmoid(X):\n",
    "    return 1 / (1+np.exp(-X)) # Hypothesis H(w)\n",
    "\n",
    "def predictions(X, w):\n",
    "    z = np.dot(X, w)\n",
    "    return (Sigmoid(z))\n",
    "    \n",
    "def cost_function(w, X, y):\n",
    "    m = X.shape[0]\n",
    "    Hyp = Sigmoid(np.dot(X, w)) \n",
    "    return -(1/m) * ((np.dot(y.transpose(), np.log(Hyp))) + np.dot((1-y).transpose(),np.log(1 - Hyp)))\n",
    "\n",
    "def rootMeanSquaredError(actual, predicted):\n",
    "    error = predicted - actual\n",
    "    return np.sqrt(np.dot(error.transpose(), error)*(1/len(y)))\n",
    "  \n"
   ]
  },
  {
   "cell_type": "markdown",
   "metadata": {
    "cell_id": "00035-f3bbe18d-8c00-4b3e-8b5b-05150cefea5d",
    "deepnote_cell_type": "markdown",
    "output_cleared": false,
    "tags": []
   },
   "source": [
    "## Logistic regression with Gradient descent from scratch"
   ]
  },
  {
   "cell_type": "code",
   "execution_count": null,
   "metadata": {
    "cell_id": "00035-bac6df81-c08e-4226-9e13-b1d056fde795",
    "deepnote_cell_type": "code",
    "deepnote_to_be_reexecuted": false,
    "execution_millis": 1682,
    "execution_start": 1610109626903,
    "output_cleared": false,
    "source_hash": "bbb410eb",
    "tags": []
   },
   "outputs": [
    {
     "name": "stdout",
     "output_type": "stream",
     "text": [
      "0 alpha =  0.05 cost = 2.7913085652868443\n",
      "10 alpha =  0.05 cost = 2.7564094256897684\n",
      "20 alpha =  0.05 cost = 2.72552081605971\n",
      "30 alpha =  0.05 cost = 2.6979764569089735\n",
      "40 alpha =  0.05 cost = 2.673212350114189\n",
      "50 alpha =  0.05 cost = 2.6507565653363185\n",
      "60 alpha =  0.05 cost = 2.6302171355595725\n",
      "70 alpha =  0.05 cost = 2.611269805181594\n",
      "80 alpha =  0.05 cost = 2.593646752743306\n",
      "90 alpha =  0.05 cost = 2.5771267489636647\n",
      "100 alpha =  0.05 cost = 2.561526869911111\n",
      "110 alpha =  0.05 cost = 2.5466956451012943\n",
      "120 alpha =  0.05 cost = 2.532507453853425\n",
      "130 alpha =  0.05 cost = 2.518857960775583\n",
      "140 alpha =  0.05 cost = 2.505660391916112\n",
      "150 alpha =  0.05 cost = 2.492842504773627\n",
      "160 alpha =  0.05 cost = 2.4803441089726763\n",
      "170 alpha =  0.05 cost = 2.4681150330107444\n",
      "180 alpha =  0.05 cost = 2.456113438371248\n",
      "190 alpha =  0.05 cost = 2.444304434951946\n",
      "200 alpha =  0.05 cost = 2.432658937032584\n",
      "210 alpha =  0.05 cost = 2.4211527018899988\n",
      "220 alpha =  0.05 cost = 2.409765532825411\n",
      "230 alpha =  0.05 cost = 2.398480620318245\n",
      "240 alpha =  0.05 cost = 2.3872839792436764\n",
      "250 alpha =  0.05 cost = 2.376163992283787\n",
      "260 alpha =  0.05 cost = 2.365111017760399\n",
      "270 alpha =  0.05 cost = 2.3541170648137695\n",
      "280 alpha =  0.05 cost = 2.3431755222445\n",
      "290 alpha =  0.05 cost = 2.3322809283571266\n",
      "300 alpha =  0.05 cost = 2.321428784398173\n",
      "310 alpha =  0.05 cost = 2.3106153897805597\n",
      "320 alpha =  0.05 cost = 2.2998377127967045\n",
      "330 alpha =  0.05 cost = 2.2890932771536976\n",
      "340 alpha =  0.05 cost = 2.2783800688764058\n",
      "350 alpha =  0.05 cost = 2.2676964567631095\n",
      "360 alpha =  0.05 cost = 2.2570411301109705\n",
      "370 alpha =  0.05 cost = 2.2464130430062115\n",
      "380 alpha =  0.05 cost = 2.2358113683630507\n",
      "390 alpha =  0.05 cost = 2.225235461376468\n",
      "400 alpha =  0.05 cost = 2.2146848272352164\n",
      "410 alpha =  0.05 cost = 2.20415909582671\n",
      "420 alpha =  0.05 cost = 2.193657998830523\n",
      "430 alpha =  0.05 cost = 2.183181352500244\n",
      "440 alpha =  0.05 cost = 2.1727290426902743\n",
      "450 alpha =  0.05 cost = 2.162301012009502\n",
      "460 alpha =  0.05 cost = 2.15189724937145\n",
      "470 alpha =  0.05 cost = 2.1415177824187657\n",
      "480 alpha =  0.05 cost = 2.131162669093194\n",
      "490 alpha =  0.05 cost = 2.120831992129244\n",
      "500 alpha =  0.05 cost = 2.1105258552521486\n",
      "510 alpha =  0.05 cost = 2.1002443779169195\n",
      "520 alpha =  0.05 cost = 2.0899876923265928\n",
      "530 alpha =  0.05 cost = 2.0797559405669\n",
      "540 alpha =  0.05 cost = 2.0695492732859853\n",
      "550 alpha =  0.05 cost = 2.0593678461943794\n",
      "560 alpha =  0.05 cost = 2.049211819755408\n",
      "570 alpha =  0.05 cost = 2.0390813576316877\n",
      "580 alpha =  0.05 cost = 2.0289766252173944\n",
      "590 alpha =  0.05 cost = 2.0188977889454454\n",
      "600 alpha =  0.05 cost = 2.0088450159712523\n",
      "610 alpha =  0.05 cost = 1.998818472954755\n",
      "620 alpha =  0.05 cost = 1.9888183258327232\n",
      "630 alpha =  0.05 cost = 1.9788447394166306\n",
      "640 alpha =  0.05 cost = 1.968897877048428\n",
      "650 alpha =  0.05 cost = 1.9589779001089547\n",
      "660 alpha =  0.05 cost = 1.9490849681230844\n",
      "670 alpha =  0.05 cost = 1.9392192382153535\n",
      "680 alpha =  0.05 cost = 1.929380865021875\n",
      "690 alpha =  0.05 cost = 1.9195700008650958\n",
      "700 alpha =  0.05 cost = 1.9097867951232184\n",
      "710 alpha =  0.05 cost = 1.9000313946097387\n",
      "720 alpha =  0.05 cost = 1.8903039431572968\n",
      "730 alpha =  0.05 cost = 1.8806045817110255\n",
      "740 alpha =  0.05 cost = 1.8709334483697317\n",
      "750 alpha =  0.05 cost = 1.8612906781597751\n",
      "760 alpha =  0.05 cost = 1.8516764032757176\n",
      "770 alpha =  0.05 cost = 1.8420907527292345\n",
      "780 alpha =  0.05 cost = 1.8325338527558657\n",
      "790 alpha =  0.05 cost = 1.8230058264822524\n",
      "800 alpha =  0.05 cost = 1.8135067941629828\n",
      "810 alpha =  0.05 cost = 1.8040368731668504\n",
      "820 alpha =  0.05 cost = 1.7945961779553705\n",
      "830 alpha =  0.05 cost = 1.7851848202610352\n",
      "840 alpha =  0.05 cost = 1.7758029090169007\n",
      "850 alpha =  0.05 cost = 1.7664505504910855\n",
      "860 alpha =  0.05 cost = 1.7571278483761905\n",
      "870 alpha =  0.05 cost = 1.7478349038014291\n",
      "880 alpha =  0.05 cost = 1.7385718154757175\n",
      "890 alpha =  0.05 cost = 1.7293386797986057\n",
      "900 alpha =  0.05 cost = 1.7201355909116394\n",
      "910 alpha =  0.05 cost = 1.71096264079846\n",
      "920 alpha =  0.05 cost = 1.7018199194317973\n",
      "930 alpha =  0.05 cost = 1.6927075149124735\n",
      "940 alpha =  0.05 cost = 1.6836255134919298\n",
      "950 alpha =  0.05 cost = 1.6745739998155325\n",
      "960 alpha =  0.05 cost = 1.665553056966221\n",
      "970 alpha =  0.05 cost = 1.656562766627643\n",
      "980 alpha =  0.05 cost = 1.647603209235595\n",
      "990 alpha =  0.05 cost = 1.63867446409656\n",
      "1000 alpha =  0.05 cost = 1.6297766095419035\n",
      "1010 alpha =  0.05 cost = 1.6209097230597183\n",
      "1020 alpha =  0.05 cost = 1.6120738814601614\n",
      "1030 alpha =  0.05 cost = 1.60326916102969\n",
      "1040 alpha =  0.05 cost = 1.5944956376484032\n",
      "1050 alpha =  0.05 cost = 1.5857533869910319\n",
      "1060 alpha =  0.05 cost = 1.5770424846323858\n",
      "1070 alpha =  0.05 cost = 1.568363006251854\n",
      "1080 alpha =  0.05 cost = 1.5597150277491014\n",
      "1090 alpha =  0.05 cost = 1.5510986254293637\n",
      "1100 alpha =  0.05 cost = 1.5425138761409154\n",
      "1110 alpha =  0.05 cost = 1.5339608574431058\n",
      "1120 alpha =  0.05 cost = 1.5254396477610441\n",
      "1130 alpha =  0.05 cost = 1.516950326536817\n",
      "1140 alpha =  0.05 cost = 1.5084929743875415\n",
      "1150 alpha =  0.05 cost = 1.5000676732625402\n",
      "1160 alpha =  0.05 cost = 1.491674506591895\n",
      "1170 alpha =  0.05 cost = 1.483313559440035\n",
      "1180 alpha =  0.05 cost = 1.4749849186477941\n",
      "1190 alpha =  0.05 cost = 1.4666886729909352\n",
      "1200 alpha =  0.05 cost = 1.4584249133165674\n",
      "1210 alpha =  0.05 cost = 1.4501937326849947\n",
      "1220 alpha =  0.05 cost = 1.4419952265122133\n",
      "1230 alpha =  0.05 cost = 1.433829492698721\n",
      "1240 alpha =  0.05 cost = 1.4256966317685666\n",
      "1250 alpha =  0.05 cost = 1.417596746989999\n",
      "1260 alpha =  0.05 cost = 1.409529944498274\n",
      "1270 alpha =  0.05 cost = 1.4014963334195\n",
      "1280 alpha =  0.05 cost = 1.3934960259738096\n",
      "1290 alpha =  0.05 cost = 1.3855291375891143\n",
      "1300 alpha =  0.05 cost = 1.3775957869951576\n",
      "1310 alpha =  0.05 cost = 1.3696960963206697\n",
      "1320 alpha =  0.05 cost = 1.361830191178618\n",
      "1330 alpha =  0.05 cost = 1.3539982007420832\n",
      "1340 alpha =  0.05 cost = 1.3462002578166947\n",
      "1350 alpha =  0.05 cost = 1.3384364989001203\n",
      "1360 alpha =  0.05 cost = 1.3307070642349328\n",
      "1370 alpha =  0.05 cost = 1.3230120978477347\n",
      "1380 alpha =  0.05 cost = 1.3153517475832823\n",
      "1390 alpha =  0.05 cost = 1.3077261651232988\n",
      "1400 alpha =  0.05 cost = 1.3001355059933115\n",
      "1410 alpha =  0.05 cost = 1.2925799295618279\n",
      "1420 alpha =  0.05 cost = 1.2850595990226605\n",
      "1430 alpha =  0.05 cost = 1.2775746813649111\n",
      "1440 alpha =  0.05 cost = 1.270125347330353\n",
      "1450 alpha =  0.05 cost = 1.2627117713559093\n",
      "1460 alpha =  0.05 cost = 1.2553341315013773\n",
      "1470 alpha =  0.05 cost = 1.247992609363915\n",
      "1480 alpha =  0.05 cost = 1.2406873899732618\n",
      "1490 alpha =  0.05 cost = 1.2334186616771925\n",
      "1500 alpha =  0.05 cost = 1.2261866160053256\n",
      "1510 alpha =  0.05 cost = 1.218991447520983\n",
      "1520 alpha =  0.05 cost = 1.2118333536553314\n",
      "1530 alpha =  0.05 cost = 1.2047125345255063\n",
      "1540 alpha =  0.05 cost = 1.1976291927373859\n",
      "1550 alpha =  0.05 cost = 1.19058353317189\n",
      "1560 alpha =  0.05 cost = 1.1835757627553567\n",
      "1570 alpha =  0.05 cost = 1.1766060902158513\n",
      "1580 alpha =  0.05 cost = 1.1696747258227105\n",
      "1590 alpha =  0.05 cost = 1.1627818811133894\n",
      "1600 alpha =  0.05 cost = 1.1559277686053029\n",
      "1610 alpha =  0.05 cost = 1.1491126014948894\n",
      "1620 alpha =  0.05 cost = 1.1423365933444696\n",
      "1630 alpha =  0.05 cost = 1.1355999577571783\n",
      "1640 alpha =  0.05 cost = 1.1289029080412916\n",
      "1650 alpha =  0.05 cost = 1.1222456568657635\n",
      "1660 alpha =  0.05 cost = 1.115628415906075\n",
      "1670 alpha =  0.05 cost = 1.1090513954838366\n",
      "1680 alpha =  0.05 cost = 1.1025148041996355\n",
      "1690 alpha =  0.05 cost = 1.0960188485615354\n",
      "1700 alpha =  0.05 cost = 1.0895637326099998\n",
      "1710 alpha =  0.05 cost = 1.083149657540414\n",
      "1720 alpha =  0.05 cost = 1.076776821325542\n",
      "1730 alpha =  0.05 cost = 1.0704454183382501\n",
      "1740 alpha =  0.05 cost = 1.0641556389765738\n",
      "1750 alpha =  0.05 cost = 1.0579076692922087\n",
      "1760 alpha =  0.05 cost = 1.0517016906243655\n",
      "1770 alpha =  0.05 cost = 1.0455378792395185\n",
      "1780 alpha =  0.05 cost = 1.0394164059792015\n",
      "1790 alpha =  0.05 cost = 1.033337435916912\n",
      "1800 alpha =  0.05 cost = 1.027301128025055\n",
      "1810 alpha =  0.05 cost = 1.021307634853565\n",
      "1820 alpha =  0.05 cost = 1.0153571022214085\n",
      "1830 alpha =  0.05 cost = 1.0094496689213948\n",
      "1840 alpha =  0.05 cost = 1.0035854664400456\n",
      "1850 alpha =  0.05 cost = 0.9977646186930376\n",
      "1860 alpha =  0.05 cost = 0.9919872417770692\n",
      "1870 alpha =  0.05 cost = 0.9862534437388994\n",
      "1880 alpha =  0.05 cost = 0.980563324362315\n",
      "1890 alpha =  0.05 cost = 0.9749169749733402\n",
      "1900 alpha =  0.05 cost = 0.9693144782644288\n",
      "1910 alpha =  0.05 cost = 0.9637559081375847\n",
      "1920 alpha =  0.05 cost = 0.9582413295671507\n",
      "1930 alpha =  0.05 cost = 0.9527707984819452\n",
      "1940 alpha =  0.05 cost = 0.9473443616671602\n",
      "1950 alpha =  0.05 cost = 0.9419620566857877\n",
      "1960 alpha =  0.05 cost = 0.936623911819572\n",
      "1970 alpha =  0.05 cost = 0.9313299460292233\n",
      "1980 alpha =  0.05 cost = 0.9260801689335965\n",
      "1990 alpha =  0.05 cost = 0.9208745808075877\n",
      "2000 alpha =  0.05 cost = 0.9157131725981308\n",
      "2010 alpha =  0.05 cost = 0.9105959259580272\n",
      "2020 alpha =  0.05 cost = 0.9055228132968645\n",
      "2030 alpha =  0.05 cost = 0.9004937978484552\n",
      "2040 alpha =  0.05 cost = 0.895508833754212\n",
      "2050 alpha =  0.05 cost = 0.8905678661616608\n",
      "2060 alpha =  0.05 cost = 0.8856708313373329\n",
      "2070 alpha =  0.05 cost = 0.8808176567933245\n",
      "2080 alpha =  0.05 cost = 0.8760082614266324\n",
      "2090 alpha =  0.05 cost = 0.8712425556704548\n",
      "2100 alpha =  0.05 cost = 0.8665204416565995\n",
      "2110 alpha =  0.05 cost = 0.8618418133881129\n",
      "2120 alpha =  0.05 cost = 0.8572065569212326\n",
      "2130 alpha =  0.05 cost = 0.8526145505558038\n",
      "2140 alpha =  0.05 cost = 0.8480656650332612\n",
      "2150 alpha =  0.05 cost = 0.843559763741288\n",
      "2160 alpha =  0.05 cost = 0.8390967029242494\n",
      "2170 alpha =  0.05 cost = 0.8346763318986348\n",
      "2180 alpha =  0.05 cost = 0.8302984932725357\n",
      "2190 alpha =  0.05 cost = 0.8259630231684701\n",
      "2200 alpha =  0.05 cost = 0.8216697514486548\n",
      "2210 alpha =  0.05 cost = 0.8174185019420162\n",
      "2220 alpha =  0.05 cost = 0.8132090926721919\n",
      "2230 alpha =  0.05 cost = 0.8090413360858166\n",
      "2240 alpha =  0.05 cost = 0.804915039280415\n",
      "2250 alpha =  0.05 cost = 0.8008300042312889\n",
      "2260 alpha =  0.05 cost = 0.7967860280168043\n",
      "2270 alpha =  0.05 cost = 0.7927829030415172\n",
      "2280 alpha =  0.05 cost = 0.788820417256639\n",
      "2290 alpha =  0.05 cost = 0.7848983543773626\n",
      "2300 alpha =  0.05 cost = 0.781016494096638\n",
      "2310 alpha =  0.05 cost = 0.7771746122950018\n",
      "2320 alpha =  0.05 cost = 0.7733724812461147\n",
      "2330 alpha =  0.05 cost = 0.7696098698177105\n",
      "2340 alpha =  0.05 cost = 0.7658865436676966\n",
      "2350 alpha =  0.05 cost = 0.7622022654351789\n",
      "2360 alpha =  0.05 cost = 0.7585567949262115\n",
      "2370 alpha =  0.05 cost = 0.754949889294149\n",
      "2380 alpha =  0.05 cost = 0.7513813032144543\n",
      "2390 alpha =  0.05 cost = 0.7478507890539037\n",
      "2400 alpha =  0.05 cost = 0.7443580970341087\n",
      "2410 alpha =  0.05 cost = 0.7409029753893543\n",
      "2420 alpha =  0.05 cost = 0.7374851705187402\n",
      "2430 alpha =  0.05 cost = 0.7341044271326439\n",
      "2440 alpha =  0.05 cost = 0.7307604883935673\n",
      "2450 alpha =  0.05 cost = 0.7274530960514168\n",
      "2460 alpha =  0.05 cost = 0.7241819905733102\n",
      "2470 alpha =  0.05 cost = 0.7209469112680003\n",
      "2480 alpha =  0.05 cost = 0.7177475964050306\n",
      "2490 alpha =  0.05 cost = 0.7145837833287462\n",
      "2500 alpha =  0.05 cost = 0.7114552085672865\n",
      "2510 alpha =  0.05 cost = 0.7083616079367013\n",
      "2520 alpha =  0.05 cost = 0.7053027166403372\n",
      "2530 alpha =  0.05 cost = 0.7022782693636392\n",
      "2540 alpha =  0.05 cost = 0.6992880003645272\n",
      "2550 alpha =  0.05 cost = 0.6963316435594882\n",
      "2560 alpha =  0.05 cost = 0.6934089326055566\n",
      "2570 alpha =  0.05 cost = 0.6905196009783201\n",
      "2580 alpha =  0.05 cost = 0.6876633820461154\n",
      "2590 alpha =  0.05 cost = 0.684840009140561\n",
      "2600 alpha =  0.05 cost = 0.6820492156235766\n",
      "2610 alpha =  0.05 cost = 0.6792907349510332\n",
      "2620 alpha =  0.05 cost = 0.6765643007331791\n",
      "2630 alpha =  0.05 cost = 0.6738696467919778\n",
      "2640 alpha =  0.05 cost = 0.6712065072154965\n",
      "2650 alpha =  0.05 cost = 0.6685746164094717\n",
      "2660 alpha =  0.05 cost = 0.665973709146182\n",
      "2670 alpha =  0.05 cost = 0.6634035206107516\n",
      "2680 alpha =  0.05 cost = 0.6608637864450028\n",
      "2690 alpha =  0.05 cost = 0.6583542427889716\n",
      "2700 alpha =  0.05 cost = 0.6558746263202029\n",
      "2710 alpha =  0.05 cost = 0.6534246742909289\n",
      "2720 alpha =  0.05 cost = 0.6510041245632415\n",
      "2730 alpha =  0.05 cost = 0.6486127156423548\n",
      "2740 alpha =  0.05 cost = 0.6462501867080632\n",
      "2750 alpha =  0.05 cost = 0.6439162776444887\n",
      "2760 alpha =  0.05 cost = 0.6416107290682109\n",
      "2770 alpha =  0.05 cost = 0.6393332823548759\n",
      "2780 alpha =  0.05 cost = 0.6370836796643684\n",
      "2790 alpha =  0.05 cost = 0.6348616639646377\n",
      "2800 alpha =  0.05 cost = 0.632666979054263\n",
      "2810 alpha =  0.05 cost = 0.630499369583838\n",
      "2820 alpha =  0.05 cost = 0.6283585810762612\n",
      "2830 alpha =  0.05 cost = 0.6262443599460065\n",
      "2840 alpha =  0.05 cost = 0.6241564535174542\n",
      "2850 alpha =  0.05 cost = 0.6220946100423537\n",
      "2860 alpha =  0.05 cost = 0.6200585787164973\n",
      "2870 alpha =  0.05 cost = 0.6180481096956658\n",
      "2880 alpha =  0.05 cost = 0.6160629541109262\n",
      "2890 alpha =  0.05 cost = 0.614102864083334\n",
      "2900 alpha =  0.05 cost = 0.6121675927381155\n",
      "2910 alpha =  0.05 cost = 0.6102568942183799\n",
      "2920 alpha =  0.05 cost = 0.6083705236984266\n",
      "2930 alpha =  0.05 cost = 0.6065082373966961\n",
      "2940 alpha =  0.05 cost = 0.6046697925884215\n",
      "2950 alpha =  0.05 cost = 0.6028549476180228\n",
      "2960 alpha =  0.05 cost = 0.6010634619112948\n",
      "2970 alpha =  0.05 cost = 0.599295095987424\n",
      "2980 alpha =  0.05 cost = 0.5975496114708784\n",
      "2990 alpha =  0.05 cost = 0.5958267711032001\n",
      "3000 alpha =  0.05 cost = 0.5941263387547336\n",
      "3010 alpha =  0.05 cost = 0.5924480794363185\n",
      "3020 alpha =  0.05 cost = 0.5907917593109664\n",
      "3030 alpha =  0.05 cost = 0.5891571457055474\n",
      "3040 alpha =  0.05 cost = 0.5875440071224997\n",
      "3050 alpha =  0.05 cost = 0.5859521132515745\n",
      "3060 alpha =  0.05 cost = 0.5843812349816327\n",
      "3070 alpha =  0.05 cost = 0.5828311444124915\n",
      "3080 alpha =  0.05 cost = 0.5813016148668327\n",
      "3090 alpha =  0.05 cost = 0.579792420902168\n",
      "3100 alpha =  0.05 cost = 0.578303338322862\n",
      "3110 alpha =  0.05 cost = 0.5768341441922082\n",
      "3120 alpha =  0.05 cost = 0.5753846168445504\n",
      "3130 alpha =  0.05 cost = 0.5739545358974392\n",
      "3140 alpha =  0.05 cost = 0.5725436822638144\n",
      "3150 alpha =  0.05 cost = 0.5711518381641991\n",
      "3160 alpha =  0.05 cost = 0.5697787871388895\n",
      "3170 alpha =  0.05 cost = 0.5684243140601244\n",
      "3180 alpha =  0.05 cost = 0.567088205144219\n",
      "3190 alpha =  0.05 cost = 0.5657702479636395\n",
      "3200 alpha =  0.05 cost = 0.5644702314590038\n",
      "3210 alpha =  0.05 cost = 0.5631879459509848\n",
      "3220 alpha =  0.05 cost = 0.5619231831520958\n",
      "3230 alpha =  0.05 cost = 0.5606757361783384\n",
      "3240 alpha =  0.05 cost = 0.5594453995606898\n",
      "3250 alpha =  0.05 cost = 0.5582319692564097\n",
      "3260 alpha =  0.05 cost = 0.5570352426601434\n",
      "3270 alpha =  0.05 cost = 0.5558550186148035\n",
      "3280 alpha =  0.05 cost = 0.554691097422207\n",
      "3290 alpha =  0.05 cost = 0.5535432808534498\n",
      "3300 alpha =  0.05 cost = 0.5524113721589974\n",
      "3310 alpha =  0.05 cost = 0.5512951760784764\n",
      "3320 alpha =  0.05 cost = 0.5501944988501468\n",
      "3330 alpha =  0.05 cost = 0.5491091482200376\n",
      "3340 alpha =  0.05 cost = 0.548038933450735\n",
      "3350 alpha =  0.05 cost = 0.5469836653298015\n",
      "3360 alpha =  0.05 cost = 0.5459431561778183\n",
      "3370 alpha =  0.05 cost = 0.5449172198560351\n",
      "3380 alpha =  0.05 cost = 0.5439056717736179\n",
      "3390 alpha =  0.05 cost = 0.5429083288944817\n",
      "3400 alpha =  0.05 cost = 0.5419250097437028\n",
      "3410 alpha =  0.05 cost = 0.5409555344134994\n",
      "3420 alpha =  0.05 cost = 0.5399997245687758\n",
      "3430 alpha =  0.05 cost = 0.5390574034522223\n",
      "3440 alpha =  0.05 cost = 0.5381283958889688\n",
      "3450 alpha =  0.05 cost = 0.537212528290785\n",
      "3460 alpha =  0.05 cost = 0.5363096286598278\n",
      "3470 alpha =  0.05 cost = 0.5354195265919321\n",
      "3480 alpha =  0.05 cost = 0.5345420532794444\n",
      "3490 alpha =  0.05 cost = 0.533677041513601\n",
      "3500 alpha =  0.05 cost = 0.5328243256864484\n",
      "3510 alpha =  0.05 cost = 0.5319837417923128\n",
      "3520 alpha =  0.05 cost = 0.5311551274288152\n",
      "3530 alpha =  0.05 cost = 0.5303383217974403\n",
      "3540 alpha =  0.05 cost = 0.5295331657036609\n",
      "3550 alpha =  0.05 cost = 0.5287395015566217\n",
      "3560 alpha =  0.05 cost = 0.5279571733683908\n",
      "3570 alpha =  0.05 cost = 0.52718602675278\n",
      "3580 alpha =  0.05 cost = 0.5264259089237447\n",
      "3590 alpha =  0.05 cost = 0.5256766686933662\n",
      "3600 alpha =  0.05 cost = 0.5249381564694259\n",
      "3610 alpha =  0.05 cost = 0.5242102242525782\n",
      "3620 alpha =  0.05 cost = 0.5234927256331295\n",
      "3630 alpha =  0.05 cost = 0.5227855157874309\n",
      "3640 alpha =  0.05 cost = 0.5220884514738946\n",
      "3650 alpha =  0.05 cost = 0.5214013910286398\n",
      "3660 alpha =  0.05 cost = 0.5207241943607811\n",
      "3670 alpha =  0.05 cost = 0.5200567229473623\n",
      "3680 alpha =  0.05 cost = 0.5193988398279504\n",
      "3690 alpha =  0.05 cost = 0.5187504095988958\n",
      "3700 alpha =  0.05 cost = 0.5181112984072678\n",
      "3710 alpha =  0.05 cost = 0.5174813739444768\n",
      "3720 alpha =  0.05 cost = 0.5168605054395897\n",
      "3730 alpha =  0.05 cost = 0.5162485636523508\n",
      "3740 alpha =  0.05 cost = 0.5156454208659149\n",
      "3750 alpha =  0.05 cost = 0.5150509508793037\n",
      "3760 alpha =  0.05 cost = 0.5144650289995945\n",
      "3770 alpha =  0.05 cost = 0.5138875320338487\n",
      "3780 alpha =  0.05 cost = 0.5133183382807939\n",
      "3790 alpha =  0.05 cost = 0.5127573275222612\n",
      "3800 alpha =  0.05 cost = 0.5122043810143966\n",
      "3810 alpha =  0.05 cost = 0.5116593814786452\n",
      "3820 alpha =  0.05 cost = 0.5111222130925257\n",
      "3830 alpha =  0.05 cost = 0.5105927614801979\n",
      "3840 alpha =  0.05 cost = 0.5100709137028367\n",
      "3850 alpha =  0.05 cost = 0.5095565582488168\n",
      "3860 alpha =  0.05 cost = 0.5090495850237199\n",
      "3870 alpha =  0.05 cost = 0.5085498853401714\n",
      "3880 alpha =  0.05 cost = 0.5080573519075144\n",
      "3890 alpha =  0.05 cost = 0.5075718788213305\n",
      "3900 alpha =  0.05 cost = 0.5070933615528135\n",
      "3910 alpha =  0.05 cost = 0.5066216969380062\n",
      "3920 alpha =  0.05 cost = 0.5061567831669049\n",
      "3930 alpha =  0.05 cost = 0.505698519772443\n",
      "3940 alpha =  0.05 cost = 0.505246807619357\n",
      "3950 alpha =  0.05 cost = 0.504801548892946\n",
      "3960 alpha =  0.05 cost = 0.5043626470877284\n",
      "3970 alpha =  0.05 cost = 0.5039300069960058\n",
      "3980 alpha =  0.05 cost = 0.5035035346963392\n",
      "3990 alpha =  0.05 cost = 0.5030831375419443\n",
      "4000 alpha =  0.05 cost = 0.5026687241490126\n",
      "4010 alpha =  0.05 cost = 0.502260204384966\n",
      "4020 alpha =  0.05 cost = 0.5018574893566491\n",
      "4030 alpha =  0.05 cost = 0.5014604913984662\n",
      "4040 alpha =  0.05 cost = 0.50106912406047\n",
      "4050 alpha =  0.05 cost = 0.5006833020964067\n",
      "4060 alpha =  0.05 cost = 0.5003029414517225\n",
      "4070 alpha =  0.05 cost = 0.49992795925153993\n",
      "4080 alpha =  0.05 cost = 0.4995582737886056\n",
      "4090 alpha =  0.05 cost = 0.49919380451121836\n",
      "4100 alpha =  0.05 cost = 0.4988344720111397\n",
      "4110 alpha =  0.05 cost = 0.49848019801149507\n",
      "4120 alpha =  0.05 cost = 0.4981309053546668\n",
      "4130 alpha =  0.05 cost = 0.4977865179901875\n",
      "4140 alpha =  0.05 cost = 0.4974469609626352\n",
      "4150 alpha =  0.05 cost = 0.4971121603995366\n",
      "4160 alpha =  0.05 cost = 0.49678204349928323\n",
      "4170 alpha =  0.05 cost = 0.4964565385190623\n",
      "4180 alpha =  0.05 cost = 0.49613557476280945\n",
      "4190 alpha =  0.05 cost = 0.4958190825691844\n",
      "4200 alpha =  0.05 cost = 0.49550699329957576\n",
      "4210 alpha =  0.05 cost = 0.4951992393261384\n",
      "4220 alpha =  0.05 cost = 0.4948957540198643\n",
      "4230 alpha =  0.05 cost = 0.49459647173869414\n",
      "4240 alpha =  0.05 cost = 0.49430132781567127\n",
      "4250 alpha =  0.05 cost = 0.4940102585471401\n",
      "4260 alpha =  0.05 cost = 0.4937232011809944\n",
      "4270 alpha =  0.05 cost = 0.49344009390497706\n",
      "4280 alpha =  0.05 cost = 0.49316087583503465\n",
      "4290 alpha =  0.05 cost = 0.4928854870037291\n",
      "4300 alpha =  0.05 cost = 0.49261386834871007\n",
      "4310 alpha =  0.05 cost = 0.4923459617012494\n",
      "4320 alpha =  0.05 cost = 0.49208170977484217\n",
      "4330 alpha =  0.05 cost = 0.4918210561538735\n",
      "4340 alpha =  0.05 cost = 0.49156394528235714\n",
      "4350 alpha =  0.05 cost = 0.4913103224527442\n",
      "4360 alpha =  0.05 cost = 0.4910601337948073\n",
      "4370 alpha =  0.05 cost = 0.49081332626460067\n",
      "4380 alpha =  0.05 cost = 0.49056984763349754\n",
      "4390 alpha =  0.05 cost = 0.4903296464773077\n",
      "4400 alpha =  0.05 cost = 0.4900926721654763\n",
      "4410 alpha =  0.05 cost = 0.48985887485036606\n",
      "4420 alpha =  0.05 cost = 0.4896282054566227\n",
      "4430 alpha =  0.05 cost = 0.4894006156706279\n",
      "4440 alpha =  0.05 cost = 0.48917605793003904\n",
      "4450 alpha =  0.05 cost = 0.4889544854134158\n",
      "4460 alpha =  0.05 cost = 0.48873585202993924\n",
      "4470 alpha =  0.05 cost = 0.48852011240921933\n",
      "4480 alpha =  0.05 cost = 0.4883072218911949\n",
      "4490 alpha =  0.05 cost = 0.4880971365161272\n",
      "4500 alpha =  0.05 cost = 0.48788981301468554\n",
      "4510 alpha =  0.05 cost = 0.4876852087981283\n",
      "4520 alpha =  0.05 cost = 0.4874832819485787\n",
      "4530 alpha =  0.05 cost = 0.48728399120939614\n",
      "4540 alpha =  0.05 cost = 0.4870872959756443\n",
      "4550 alpha =  0.05 cost = 0.4868931562846556\n",
      "4560 alpha =  0.05 cost = 0.4867015328066931\n",
      "4570 alpha =  0.05 cost = 0.4865123868357103\n",
      "4580 alpha =  0.05 cost = 0.48632568028020895\n",
      "4590 alpha =  0.05 cost = 0.4861413756541948\n",
      "4600 alpha =  0.05 cost = 0.4859594360682325\n",
      "4610 alpha =  0.05 cost = 0.4857798252205986\n",
      "4620 alpha =  0.05 cost = 0.4856025073885337\n",
      "4630 alpha =  0.05 cost = 0.48542744741959426\n",
      "4640 alpha =  0.05 cost = 0.48525461072310155\n",
      "4650 alpha =  0.05 cost = 0.4850839632616914\n",
      "4660 alpha =  0.05 cost = 0.48491547154296166\n",
      "4670 alpha =  0.05 cost = 0.4847491026112192\n",
      "4680 alpha =  0.05 cost = 0.48458482403932424\n",
      "4690 alpha =  0.05 cost = 0.4844226039206352\n",
      "4700 alpha =  0.05 cost = 0.48426241086104904\n",
      "4710 alpha =  0.05 cost = 0.4841042139711419\n",
      "4720 alpha =  0.05 cost = 0.48394798285840573\n",
      "4730 alpha =  0.05 cost = 0.48379368761958286\n",
      "4740 alpha =  0.05 cost = 0.4836412988330976\n",
      "4750 alpha =  0.05 cost = 0.4834907875515835\n",
      "4760 alpha =  0.05 cost = 0.4833421252945076\n",
      "4770 alpha =  0.05 cost = 0.48319528404088957\n",
      "4780 alpha =  0.05 cost = 0.48305023622211596\n",
      "4790 alpha =  0.05 cost = 0.48290695471484923\n",
      "4800 alpha =  0.05 cost = 0.48276541283403107\n",
      "4810 alpha =  0.05 cost = 0.482625584325978\n",
      "4820 alpha =  0.05 cost = 0.4824874433615712\n",
      "4830 alpha =  0.05 cost = 0.48235096452953735\n",
      "4840 alpha =  0.05 cost = 0.4822161228298222\n",
      "4850 alpha =  0.05 cost = 0.4820828936670538\n",
      "4860 alpha =  0.05 cost = 0.48195125284409734\n",
      "4870 alpha =  0.05 cost = 0.481821176555698\n",
      "4880 alpha =  0.05 cost = 0.4816926413822141\n",
      "4890 alpha =  0.05 cost = 0.4815656242834378\n",
      "4900 alpha =  0.05 cost = 0.48144010259250275\n",
      "4910 alpha =  0.05 cost = 0.4813160540098791\n",
      "4920 alpha =  0.05 cost = 0.48119345659745383\n",
      "4930 alpha =  0.05 cost = 0.4810722887726967\n",
      "4940 alpha =  0.05 cost = 0.4809525293029103\n",
      "4950 alpha =  0.05 cost = 0.4808341572995634\n",
      "4960 alpha =  0.05 cost = 0.48071715221270733\n",
      "4970 alpha =  0.05 cost = 0.4806014938254742\n",
      "4980 alpha =  0.05 cost = 0.48048716224865573\n",
      "4990 alpha =  0.05 cost = 0.48037413791536415\n",
      "5000 alpha =  0.05 cost = 0.4802624015757695\n",
      "5010 alpha =  0.05 cost = 0.48015193429191844\n",
      "5020 alpha =  0.05 cost = 0.4800427174326292\n",
      "5030 alpha =  0.05 cost = 0.4799347326684639\n",
      "5040 alpha =  0.05 cost = 0.47982796196677735\n",
      "5050 alpha =  0.05 cost = 0.4797223875868398\n",
      "5060 alpha =  0.05 cost = 0.47961799207503614\n",
      "5070 alpha =  0.05 cost = 0.4795147582601356\n",
      "5080 alpha =  0.05 cost = 0.47941266924863823\n",
      "5090 alpha =  0.05 cost = 0.47931170842018905\n",
      "5100 alpha =  0.05 cost = 0.4792118594230652\n",
      "5110 alpha =  0.05 cost = 0.4791131061697338\n",
      "5120 alpha =  0.05 cost = 0.47901543283247744\n",
      "5130 alpha =  0.05 cost = 0.478918823839089\n",
      "5140 alpha =  0.05 cost = 0.4788232638686338\n",
      "5150 alpha =  0.05 cost = 0.47872873784727815\n",
      "5160 alpha =  0.05 cost = 0.47863523094418453\n",
      "5170 alpha =  0.05 cost = 0.47854272856747065\n",
      "5180 alpha =  0.05 cost = 0.47845121636023363\n",
      "5190 alpha =  0.05 cost = 0.4783606801966367\n",
      "5200 alpha =  0.05 cost = 0.47827110617805907\n",
      "5210 alpha =  0.05 cost = 0.4781824806293069\n",
      "5220 alpha =  0.05 cost = 0.47809479009488515\n",
      "5230 alpha =  0.05 cost = 0.4780080213353298\n",
      "5240 alpha =  0.05 cost = 0.47792216132359916\n",
      "5250 alpha =  0.05 cost = 0.4778371972415225\n",
      "5260 alpha =  0.05 cost = 0.47775311647630814\n",
      "5270 alpha =  0.05 cost = 0.4776699066171064\n",
      "5280 alpha =  0.05 cost = 0.4775875554516299\n",
      "5290 alpha =  0.05 cost = 0.477506050962828\n",
      "5300 alpha =  0.05 cost = 0.47742538132561657\n",
      "5310 alpha =  0.05 cost = 0.47734553490366066\n",
      "5320 alpha =  0.05 cost = 0.4772665002462095\n",
      "5330 alpha =  0.05 cost = 0.47718826608498577\n",
      "5340 alpha =  0.05 cost = 0.4771108213311232\n",
      "5350 alpha =  0.05 cost = 0.47703415507215724\n",
      "5360 alpha =  0.05 cost = 0.4769582565690638\n",
      "5370 alpha =  0.05 cost = 0.47688311525334826\n",
      "5380 alpha =  0.05 cost = 0.47680872072418207\n",
      "5390 alpha =  0.05 cost = 0.476735062745587\n",
      "5400 alpha =  0.05 cost = 0.4766621312436677\n",
      "5410 alpha =  0.05 cost = 0.4765899163038876\n",
      "5420 alpha =  0.05 cost = 0.476518408168393\n",
      "5430 alpha =  0.05 cost = 0.4764475972333812\n",
      "5440 alpha =  0.05 cost = 0.4763774740465119\n",
      "5450 alpha =  0.05 cost = 0.4763080293043626\n",
      "5460 alpha =  0.05 cost = 0.4762392538499276\n",
      "5470 alpha =  0.05 cost = 0.4761711386701574\n",
      "5480 alpha =  0.05 cost = 0.4761036748935411\n",
      "5490 alpha =  0.05 cost = 0.47603685378772875\n",
      "5500 alpha =  0.05 cost = 0.4759706667571939\n",
      "5510 alpha =  0.05 cost = 0.4759051053409366\n",
      "5520 alpha =  0.05 cost = 0.47584016121022366\n",
      "5530 alpha =  0.05 cost = 0.4757758261663686\n",
      "5540 alpha =  0.05 cost = 0.4757120921385488\n",
      "5550 alpha =  0.05 cost = 0.47564895118165973\n",
      "5560 alpha =  0.05 cost = 0.47558639547420534\n",
      "5570 alpha =  0.05 cost = 0.4755244173162253\n",
      "5580 alpha =  0.05 cost = 0.4754630091272562\n",
      "5590 alpha =  0.05 cost = 0.47540216344432873\n",
      "5600 alpha =  0.05 cost = 0.4753418729199986\n",
      "5610 alpha =  0.05 cost = 0.47528213032041033\n",
      "5620 alpha =  0.05 cost = 0.47522292852339587\n",
      "5630 alpha =  0.05 cost = 0.4751642605166038\n",
      "5640 alpha =  0.05 cost = 0.475106119395662\n",
      "5650 alpha =  0.05 cost = 0.47504849836237084\n",
      "5660 alpha =  0.05 cost = 0.47499139072292856\n",
      "5670 alpha =  0.05 cost = 0.47493478988618504\n",
      "5680 alpha =  0.05 cost = 0.47487868936192756\n",
      "5690 alpha =  0.05 cost = 0.4748230827591957\n",
      "5700 alpha =  0.05 cost = 0.47476796378462305\n",
      "5710 alpha =  0.05 cost = 0.47471332624081086\n",
      "5720 alpha =  0.05 cost = 0.47465916402472713\n",
      "5730 alpha =  0.05 cost = 0.4746054711261335\n",
      "5740 alpha =  0.05 cost = 0.4745522416260404\n",
      "5750 alpha =  0.05 cost = 0.4744994696951883\n",
      "5760 alpha =  0.05 cost = 0.4744471495925538\n",
      "5770 alpha =  0.05 cost = 0.47439527566388406\n",
      "5780 alpha =  0.05 cost = 0.47434384234025373\n",
      "5790 alpha =  0.05 cost = 0.47429284413664935\n",
      "5800 alpha =  0.05 cost = 0.4742422756505753\n",
      "5810 alpha =  0.05 cost = 0.4741921315606873\n",
      "5820 alpha =  0.05 cost = 0.474142406625446\n",
      "5830 alpha =  0.05 cost = 0.4740930956817959\n",
      "5840 alpha =  0.05 cost = 0.47404419364386713\n",
      "5850 alpha =  0.05 cost = 0.4739956955016986\n",
      "5860 alpha =  0.05 cost = 0.47394759631998323\n",
      "5870 alpha =  0.05 cost = 0.4738998912368365\n",
      "5880 alpha =  0.05 cost = 0.473852575462584\n",
      "5890 alpha =  0.05 cost = 0.47380564427857186\n",
      "5900 alpha =  0.05 cost = 0.47375909303599617\n",
      "5910 alpha =  0.05 cost = 0.47371291715475383\n",
      "5920 alpha =  0.05 cost = 0.47366711212231283\n",
      "5930 alpha =  0.05 cost = 0.4736216734926016\n",
      "5940 alpha =  0.05 cost = 0.4735765968849182\n",
      "5950 alpha =  0.05 cost = 0.47353187798285823\n",
      "5960 alpha =  0.05 cost = 0.4734875125332608\n",
      "5970 alpha =  0.05 cost = 0.47344349634517346\n",
      "5980 alpha =  0.05 cost = 0.47339982528883434\n",
      "5990 alpha =  0.05 cost = 0.473356495294672\n",
      "6000 alpha =  0.05 cost = 0.4733135023523228\n",
      "6010 alpha =  0.05 cost = 0.47327084250966556\n",
      "6020 alpha =  0.05 cost = 0.4732285118718717\n",
      "6030 alpha =  0.05 cost = 0.47318650660047296\n",
      "6040 alpha =  0.05 cost = 0.47314482291244475\n",
      "6050 alpha =  0.05 cost = 0.47310345707930507\n",
      "6060 alpha =  0.05 cost = 0.47306240542622957\n",
      "6070 alpha =  0.05 cost = 0.47302166433118126\n",
      "6080 alpha =  0.05 cost = 0.47298123022405564\n",
      "6090 alpha =  0.05 cost = 0.47294109958584046\n",
      "6100 alpha =  0.05 cost = 0.4729012689477897\n",
      "6110 alpha =  0.05 cost = 0.4728617348906122\n",
      "6120 alpha =  0.05 cost = 0.47282249404367416\n",
      "6130 alpha =  0.05 cost = 0.47278354308421455\n",
      "6140 alpha =  0.05 cost = 0.47274487873657595\n",
      "6150 alpha =  0.05 cost = 0.4727064977714461\n",
      "6160 alpha =  0.05 cost = 0.4726683970051147\n",
      "6170 alpha =  0.05 cost = 0.47263057329874203\n",
      "6180 alpha =  0.05 cost = 0.4725930235576391\n",
      "6190 alpha =  0.05 cost = 0.47255574473056267\n",
      "6200 alpha =  0.05 cost = 0.47251873380902015\n",
      "6210 alpha =  0.05 cost = 0.47248198782658724\n",
      "6220 alpha =  0.05 cost = 0.4724455038582373\n",
      "6230 alpha =  0.05 cost = 0.4724092790196822\n",
      "6240 alpha =  0.05 cost = 0.4723733104667245\n",
      "6250 alpha =  0.05 cost = 0.47233759539462006\n",
      "6260 alpha =  0.05 cost = 0.47230213103745294\n",
      "6270 alpha =  0.05 cost = 0.4722669146675195\n",
      "6280 alpha =  0.05 cost = 0.4722319435947243\n",
      "6290 alpha =  0.05 cost = 0.4721972151659848\n",
      "6300 alpha =  0.05 cost = 0.47216272676464804\n",
      "6310 alpha =  0.05 cost = 0.4721284758099159\n",
      "6320 alpha =  0.05 cost = 0.4720944597562807\n",
      "6330 alpha =  0.05 cost = 0.4720606760929703\n",
      "6340 alpha =  0.05 cost = 0.4720271223434028\n",
      "6350 alpha =  0.05 cost = 0.47199379606465014\n",
      "6360 alpha =  0.05 cost = 0.47196069484691144\n",
      "6370 alpha =  0.05 cost = 0.4719278163129945\n",
      "6380 alpha =  0.05 cost = 0.4718951581178071\n",
      "6390 alpha =  0.05 cost = 0.4718627179478554\n",
      "6400 alpha =  0.05 cost = 0.4718304935207531\n",
      "6410 alpha =  0.05 cost = 0.4717984825847367\n",
      "6420 alpha =  0.05 cost = 0.47176668291818996\n",
      "6430 alpha =  0.05 cost = 0.47173509232917643\n",
      "6440 alpha =  0.05 cost = 0.4717037086549804\n",
      "6450 alpha =  0.05 cost = 0.4716725297616539\n",
      "6460 alpha =  0.05 cost = 0.4716415535435731\n",
      "6470 alpha =  0.05 cost = 0.4716107779230016\n",
      "6480 alpha =  0.05 cost = 0.4715802008496606\n",
      "6490 alpha =  0.05 cost = 0.47154982030030673\n",
      "6500 alpha =  0.05 cost = 0.4715196342783175\n",
      "6510 alpha =  0.05 cost = 0.4714896408132828\n",
      "6520 alpha =  0.05 cost = 0.47145983796060326\n",
      "6530 alpha =  0.05 cost = 0.4714302238010967\n",
      "6540 alpha =  0.05 cost = 0.47140079644060906\n",
      "6550 alpha =  0.05 cost = 0.47137155400963393\n",
      "6560 alpha =  0.05 cost = 0.471342494662937\n",
      "6570 alpha =  0.05 cost = 0.4713136165791873\n",
      "6580 alpha =  0.05 cost = 0.4712849179605949\n",
      "6590 alpha =  0.05 cost = 0.47125639703255434\n",
      "6600 alpha =  0.05 cost = 0.47122805204329354\n",
      "6610 alpha =  0.05 cost = 0.4711998812635293\n",
      "6620 alpha =  0.05 cost = 0.4711718829861287\n",
      "6630 alpha =  0.05 cost = 0.4711440555257751\n",
      "6640 alpha =  0.05 cost = 0.4711163972186403\n",
      "6650 alpha =  0.05 cost = 0.4710889064220627\n",
      "6660 alpha =  0.05 cost = 0.4710615815142294\n",
      "6670 alpha =  0.05 cost = 0.4710344208938654\n",
      "6680 alpha =  0.05 cost = 0.47100742297992565\n",
      "6690 alpha =  0.05 cost = 0.4709805862112948\n",
      "6700 alpha =  0.05 cost = 0.4709539090464895\n",
      "6710 alpha =  0.05 cost = 0.47092738996336714\n",
      "6720 alpha =  0.05 cost = 0.470901027458839\n",
      "6730 alpha =  0.05 cost = 0.470874820048588\n",
      "6740 alpha =  0.05 cost = 0.4708487662667907\n",
      "6750 alpha =  0.05 cost = 0.470822864665845\n",
      "6760 alpha =  0.05 cost = 0.4707971138161013\n",
      "6770 alpha =  0.05 cost = 0.470771512305598\n",
      "6780 alpha =  0.05 cost = 0.4707460587398024\n",
      "6790 alpha =  0.05 cost = 0.47072075174135436\n",
      "6800 alpha =  0.05 cost = 0.47069558994981575\n",
      "6810 alpha =  0.05 cost = 0.47067057202142243\n",
      "6820 alpha =  0.05 cost = 0.4706456966288417\n",
      "6830 alpha =  0.05 cost = 0.470620962460932\n",
      "6840 alpha =  0.05 cost = 0.4705963682225088\n",
      "6850 alpha =  0.05 cost = 0.4705719126341117\n",
      "6860 alpha =  0.05 cost = 0.47054759443177774\n",
      "6870 alpha =  0.05 cost = 0.4705234123668165\n",
      "6880 alpha =  0.05 cost = 0.47049936520558977\n",
      "6890 alpha =  0.05 cost = 0.470475451729295\n",
      "6900 alpha =  0.05 cost = 0.4704516707337512\n",
      "6910 alpha =  0.05 cost = 0.47042802102918946\n",
      "6920 alpha =  0.05 cost = 0.470404501440046\n",
      "6930 alpha =  0.05 cost = 0.47038111080475925\n",
      "6940 alpha =  0.05 cost = 0.47035784797556907\n",
      "6950 alpha =  0.05 cost = 0.4703347118183211\n",
      "6960 alpha =  0.05 cost = 0.4703117012122719\n",
      "6970 alpha =  0.05 cost = 0.4702888150498992\n",
      "6980 alpha =  0.05 cost = 0.47026605223671375\n",
      "6990 alpha =  0.05 cost = 0.4702434116910754\n",
      "7000 alpha =  0.05 cost = 0.4702208923440111\n",
      "7010 alpha =  0.05 cost = 0.47019849313903644\n",
      "7020 alpha =  0.05 cost = 0.4701762130319793\n",
      "7030 alpha =  0.05 cost = 0.4701540509908076\n",
      "7040 alpha =  0.05 cost = 0.4701320059954585\n",
      "7050 alpha =  0.05 cost = 0.47011007703767044\n",
      "7060 alpha =  0.05 cost = 0.47008826312081886\n",
      "7070 alpha =  0.05 cost = 0.4700665632597535\n",
      "7080 alpha =  0.05 cost = 0.47004497648063864\n",
      "7090 alpha =  0.05 cost = 0.47002350182079555\n",
      "7100 alpha =  0.05 cost = 0.47000213832854826\n",
      "7110 alpha =  0.05 cost = 0.46998088506307073\n",
      "7120 alpha =  0.05 cost = 0.46995974109423694\n",
      "7130 alpha =  0.05 cost = 0.46993870550247346\n",
      "7140 alpha =  0.05 cost = 0.4699177773786138\n",
      "7150 alpha =  0.05 cost = 0.4698969558237558\n",
      "7160 alpha =  0.05 cost = 0.46987623994912014\n",
      "7170 alpha =  0.05 cost = 0.46985562887591265\n",
      "7180 alpha =  0.05 cost = 0.4698351217351868\n",
      "7190 alpha =  0.05 cost = 0.46981471766771016\n",
      "7200 alpha =  0.05 cost = 0.469794415823832\n",
      "7210 alpha =  0.05 cost = 0.46977421536335273\n",
      "7220 alpha =  0.05 cost = 0.4697541154553958\n",
      "7230 alpha =  0.05 cost = 0.4697341152782819\n",
      "7240 alpha =  0.05 cost = 0.4697142140194043\n",
      "7250 alpha =  0.05 cost = 0.4696944108751065\n",
      "7260 alpha =  0.05 cost = 0.46967470505056197\n",
      "7270 alpha =  0.05 cost = 0.4696550957596555\n",
      "7280 alpha =  0.05 cost = 0.4696355822248661\n",
      "7290 alpha =  0.05 cost = 0.46961616367715253\n",
      "7300 alpha =  0.05 cost = 0.46959683935583946\n",
      "7310 alpha =  0.05 cost = 0.4695776085085067\n",
      "7320 alpha =  0.05 cost = 0.4695584703908785\n",
      "7330 alpha =  0.05 cost = 0.4695394242667161\n",
      "7340 alpha =  0.05 cost = 0.46952046940771086\n",
      "7350 alpha =  0.05 cost = 0.4695016050933797\n",
      "7360 alpha =  0.05 cost = 0.46948283061096147\n",
      "7370 alpha =  0.05 cost = 0.46946414525531543\n",
      "7380 alpha =  0.05 cost = 0.4694455483288212\n",
      "7390 alpha =  0.05 cost = 0.46942703914127976\n",
      "7400 alpha =  0.05 cost = 0.46940861700981606\n",
      "7410 alpha =  0.05 cost = 0.46939028125878474\n",
      "7420 alpha =  0.05 cost = 0.4693720312196735\n",
      "7430 alpha =  0.05 cost = 0.4693538662310125\n",
      "7440 alpha =  0.05 cost = 0.4693357856382815\n",
      "7450 alpha =  0.05 cost = 0.46931778879381986\n",
      "7460 alpha =  0.05 cost = 0.46929987505673854\n",
      "7470 alpha =  0.05 cost = 0.46928204379283217\n",
      "7480 alpha =  0.05 cost = 0.46926429437449274\n",
      "7490 alpha =  0.05 cost = 0.4692466261806251\n",
      "7500 alpha =  0.05 cost = 0.46922903859656323\n",
      "7510 alpha =  0.05 cost = 0.4692115310139876\n",
      "7520 alpha =  0.05 cost = 0.4691941028308449\n",
      "7530 alpha =  0.05 cost = 0.46917675345126697\n",
      "7540 alpha =  0.05 cost = 0.4691594822854929\n",
      "7550 alpha =  0.05 cost = 0.469142288749791\n",
      "7560 alpha =  0.05 cost = 0.46912517226638284\n",
      "7570 alpha =  0.05 cost = 0.46910813226336706\n",
      "7580 alpha =  0.05 cost = 0.46909116817464613\n",
      "7590 alpha =  0.05 cost = 0.46907427943985225\n",
      "7600 alpha =  0.05 cost = 0.46905746550427607\n",
      "7610 alpha =  0.05 cost = 0.46904072581879547\n",
      "7620 alpha =  0.05 cost = 0.46902405983980533\n",
      "7630 alpha =  0.05 cost = 0.4690074670291487\n",
      "7640 alpha =  0.05 cost = 0.4689909468540489\n",
      "7650 alpha =  0.05 cost = 0.4689744987870425\n",
      "7660 alpha =  0.05 cost = 0.46895812230591316\n",
      "7670 alpha =  0.05 cost = 0.4689418168936272\n",
      "7680 alpha =  0.05 cost = 0.46892558203826834\n",
      "7690 alpha =  0.05 cost = 0.4689094172329758\n",
      "7700 alpha =  0.05 cost = 0.4688933219758808\n",
      "7710 alpha =  0.05 cost = 0.4688772957700464\n",
      "7720 alpha =  0.05 cost = 0.46886133812340586\n",
      "7730 alpha =  0.05 cost = 0.46884544854870375\n",
      "7740 alpha =  0.05 cost = 0.46882962656343685\n",
      "7750 alpha =  0.05 cost = 0.4688138716897963\n",
      "7760 alpha =  0.05 cost = 0.46879818345461044\n",
      "7770 alpha =  0.05 cost = 0.46878256138928837\n",
      "7780 alpha =  0.05 cost = 0.46876700502976487\n",
      "7790 alpha =  0.05 cost = 0.468751513916445\n",
      "7800 alpha =  0.05 cost = 0.46873608759415053\n",
      "7810 alpha =  0.05 cost = 0.4687207256120673\n",
      "7820 alpha =  0.05 cost = 0.46870542752369143\n",
      "7830 alpha =  0.05 cost = 0.4686901928867788\n",
      "7840 alpha =  0.05 cost = 0.4686750212632938\n",
      "7850 alpha =  0.05 cost = 0.46865991221935865\n",
      "7860 alpha =  0.05 cost = 0.4686448653252043\n",
      "7870 alpha =  0.05 cost = 0.46862988015512147\n",
      "7880 alpha =  0.05 cost = 0.4686149562874122\n",
      "7890 alpha =  0.05 cost = 0.4686000933043426\n",
      "7900 alpha =  0.05 cost = 0.4685852907920964\n",
      "7910 alpha =  0.05 cost = 0.46857054834072764\n",
      "7920 alpha =  0.05 cost = 0.46855586554411593\n",
      "7930 alpha =  0.05 cost = 0.46854124199992175\n",
      "7940 alpha =  0.05 cost = 0.46852667730954145\n",
      "7950 alpha =  0.05 cost = 0.4685121710780638\n",
      "7960 alpha =  0.05 cost = 0.4684977229142274\n",
      "7970 alpha =  0.05 cost = 0.46848333243037704\n",
      "7980 alpha =  0.05 cost = 0.4684689992424232\n",
      "7990 alpha =  0.05 cost = 0.4684547229697996\n",
      "8000 alpha =  0.05 cost = 0.46844050323542286\n",
      "8010 alpha =  0.05 cost = 0.46842633966565234\n",
      "8020 alpha =  0.05 cost = 0.4684122318902504\n",
      "8030 alpha =  0.05 cost = 0.4683981795423431\n",
      "8040 alpha =  0.05 cost = 0.46838418225838163\n",
      "8050 alpha =  0.05 cost = 0.46837023967810487\n",
      "8060 alpha =  0.05 cost = 0.46835635144450055\n",
      "8070 alpha =  0.05 cost = 0.4683425172037696\n",
      "8080 alpha =  0.05 cost = 0.46832873660528856\n",
      "8090 alpha =  0.05 cost = 0.4683150093015739\n",
      "8100 alpha =  0.05 cost = 0.46830133494824683\n",
      "8110 alpha =  0.05 cost = 0.46828771320399715\n",
      "8120 alpha =  0.05 cost = 0.4682741437305499\n",
      "8130 alpha =  0.05 cost = 0.46826062619263026\n",
      "8140 alpha =  0.05 cost = 0.46824716025793023\n",
      "8150 alpha =  0.05 cost = 0.46823374559707526\n",
      "8160 alpha =  0.05 cost = 0.4682203818835915\n",
      "8170 alpha =  0.05 cost = 0.4682070687938734\n",
      "8180 alpha =  0.05 cost = 0.4681938060071516\n",
      "8190 alpha =  0.05 cost = 0.46818059320546174\n",
      "8200 alpha =  0.05 cost = 0.46816743007361294\n",
      "8210 alpha =  0.05 cost = 0.46815431629915744\n",
      "8220 alpha =  0.05 cost = 0.46814125157236025\n",
      "8230 alpha =  0.05 cost = 0.46812823558616873\n",
      "8240 alpha =  0.05 cost = 0.46811526803618425\n",
      "8250 alpha =  0.05 cost = 0.4681023486206312\n",
      "8260 alpha =  0.05 cost = 0.4680894770403307\n",
      "8270 alpha =  0.05 cost = 0.46807665299866985\n",
      "8280 alpha =  0.05 cost = 0.46806387620157536\n",
      "8290 alpha =  0.05 cost = 0.468051146357485\n",
      "8300 alpha =  0.05 cost = 0.4680384631773211\n",
      "8310 alpha =  0.05 cost = 0.46802582637446266\n",
      "8320 alpha =  0.05 cost = 0.4680132356647197\n",
      "8330 alpha =  0.05 cost = 0.4680006907663064\n",
      "8340 alpha =  0.05 cost = 0.46798819139981557\n",
      "8350 alpha =  0.05 cost = 0.4679757372881931\n",
      "8360 alpha =  0.05 cost = 0.4679633281567122\n",
      "8370 alpha =  0.05 cost = 0.4679509637329492\n",
      "8380 alpha =  0.05 cost = 0.46793864374675875\n",
      "8390 alpha =  0.05 cost = 0.46792636793024894\n",
      "8400 alpha =  0.05 cost = 0.46791413601775833\n",
      "8410 alpha =  0.05 cost = 0.46790194774583166\n",
      "8420 alpha =  0.05 cost = 0.4678898028531964\n",
      "8430 alpha =  0.05 cost = 0.46787770108074017\n",
      "8440 alpha =  0.05 cost = 0.46786564217148763\n",
      "8450 alpha =  0.05 cost = 0.4678536258705778\n",
      "8460 alpha =  0.05 cost = 0.4678416519252427\n",
      "8470 alpha =  0.05 cost = 0.46782972008478435\n",
      "8480 alpha =  0.05 cost = 0.4678178301005537\n",
      "8490 alpha =  0.05 cost = 0.4678059817259294\n",
      "8500 alpha =  0.05 cost = 0.4677941747162965\n",
      "8510 alpha =  0.05 cost = 0.46778240882902505\n",
      "8520 alpha =  0.05 cost = 0.46777068382345066\n",
      "8530 alpha =  0.05 cost = 0.46775899946085336\n",
      "8540 alpha =  0.05 cost = 0.4677473555044375\n",
      "8550 alpha =  0.05 cost = 0.46773575171931253\n",
      "8560 alpha =  0.05 cost = 0.46772418787247266\n",
      "8570 alpha =  0.05 cost = 0.4677126637327782\n",
      "8580 alpha =  0.05 cost = 0.46770117907093584\n",
      "8590 alpha =  0.05 cost = 0.46768973365948063\n",
      "8600 alpha =  0.05 cost = 0.46767832727275627\n",
      "8610 alpha =  0.05 cost = 0.4676669596868976\n",
      "8620 alpha =  0.05 cost = 0.4676556306798118\n",
      "8630 alpha =  0.05 cost = 0.4676443400311611\n",
      "8640 alpha =  0.05 cost = 0.4676330875223442\n",
      "8650 alpha =  0.05 cost = 0.4676218729364798\n",
      "8660 alpha =  0.05 cost = 0.4676106960583879\n",
      "8670 alpha =  0.05 cost = 0.46759955667457426\n",
      "8680 alpha =  0.05 cost = 0.4675884545732124\n",
      "8690 alpha =  0.05 cost = 0.4675773895441273\n",
      "8700 alpha =  0.05 cost = 0.4675663613787788\n",
      "8710 alpha =  0.05 cost = 0.46755536987024554\n",
      "8720 alpha =  0.05 cost = 0.4675444148132088\n",
      "8730 alpha =  0.05 cost = 0.4675334960039362\n",
      "8740 alpha =  0.05 cost = 0.46752261324026656\n",
      "8750 alpha =  0.05 cost = 0.4675117663215942\n",
      "8760 alpha =  0.05 cost = 0.46750095504885336\n",
      "8770 alpha =  0.05 cost = 0.4674901792245034\n",
      "8780 alpha =  0.05 cost = 0.4674794386525136\n",
      "8790 alpha =  0.05 cost = 0.4674687331383484\n",
      "8800 alpha =  0.05 cost = 0.46745806248895305\n",
      "8810 alpha =  0.05 cost = 0.4674474265127384\n",
      "8820 alpha =  0.05 cost = 0.46743682501956785\n",
      "8830 alpha =  0.05 cost = 0.46742625782074215\n",
      "8840 alpha =  0.05 cost = 0.46741572472898574\n",
      "8850 alpha =  0.05 cost = 0.46740522555843356\n",
      "8860 alpha =  0.05 cost = 0.46739476012461667\n",
      "8870 alpha =  0.05 cost = 0.46738432824444903\n",
      "8880 alpha =  0.05 cost = 0.4673739297362145\n",
      "8890 alpha =  0.05 cost = 0.4673635644195535\n",
      "8900 alpha =  0.05 cost = 0.4673532321154497\n",
      "8910 alpha =  0.05 cost = 0.46734293264621773\n",
      "8920 alpha =  0.05 cost = 0.46733266583549027\n",
      "8930 alpha =  0.05 cost = 0.4673224315082052\n",
      "8940 alpha =  0.05 cost = 0.46731222949059376\n",
      "8950 alpha =  0.05 cost = 0.4673020596101678\n",
      "8960 alpha =  0.05 cost = 0.4672919216957082\n",
      "8970 alpha =  0.05 cost = 0.4672818155772523\n",
      "8980 alpha =  0.05 cost = 0.4672717410860823\n",
      "8990 alpha =  0.05 cost = 0.46726169805471374\n",
      "9000 alpha =  0.05 cost = 0.4672516863168837\n"
     ]
    }
   ],
   "source": [
    "w = np.random.randint(-10, 10, X_scaled.shape[1]) #lenX_scaled[0]\n",
    "\n",
    "alpha = 0.05  \n",
    "delta = 0.000001\n",
    "max_iter = 100000\n",
    "\n",
    "cost_curr = 10**100\n",
    "cost_prev = 0\n",
    "i = 0\n",
    "costs = []\n",
    "\n",
    "while(i < max_iter and (cost_prev-cost_curr > delta or cost_prev-cost_curr < 0)): # do it while the last cost cost > previous cost\n",
    "    gradient = (np.dot(X_scaled.T, predictions(X_scaled, w) - y))/len(X_scaled) # derivative part\n",
    "    w = w - alpha*gradient #We update our gradient\n",
    "    cost_prev = cost_curr\n",
    "    cost_curr = cost_function(w, X_scaled, y) #Computes the cost\n",
    "    costs.append(cost_curr)\n",
    "\n",
    "    if i%10 == 0:\n",
    "        print(i, 'alpha = ', alpha, 'cost =', cost_curr)\n",
    "    if(cost_curr > cost_prev): #Decreasing alpha if the cost function augment\n",
    "        alpha = alpha/1.4 \n",
    "    i += 1\n",
    "\n",
    "\n"
   ]
  },
  {
   "cell_type": "code",
   "execution_count": null,
   "metadata": {
    "cell_id": "00037-317a4e2c-c2f4-4925-ba5b-c1cf0da2fcfe",
    "deepnote_cell_type": "code",
    "deepnote_to_be_reexecuted": false,
    "execution_millis": 241,
    "execution_start": 1610109628590,
    "output_cleared": false,
    "source_hash": "fe59faa1",
    "tags": []
   },
   "outputs": [
    {
     "name": "stdout",
     "output_type": "stream",
     "text": [
      " Log loss = 6.525381788814496 \n",
      " MSE = 0.18892508143322476 \n",
      " RMSE = 0.434655129307391 \n",
      " MAE = 0.18892508143322476\n",
      "coefficients :  [[-0.00903013  0.50085499  0.07205676  0.3421879  -0.01446686 -0.63857405\n",
      "  -0.25433663  3.37509997 -0.33067856  0.4832967  -0.15295644 -0.30789685]]\n",
      "r2 score :  0.12095181674565558 \n",
      " Confusion matrix :\n",
      " [[ 82 110]\n",
      " [  7 415]] \n",
      "\n",
      "report :\n",
      "               precision    recall  f1-score   support\n",
      "\n",
      "           0       0.91      0.44      0.59       192\n",
      "           1       0.79      0.98      0.88       422\n",
      "\n",
      "    accuracy                           0.81       614\n",
      "   macro avg       0.85      0.71      0.73       614\n",
      "weighted avg       0.83      0.81      0.79       614\n",
      "\n"
     ]
    },
    {
     "data": {
      "image/png": "[encoded data removed]",
      "text/plain": [
       "<Figure size 288x288 with 1 Axes>"
      ]
     },
     "metadata": {
      "needs_background": "light"
     },
     "output_type": "display_data"
    }
   ],
   "source": [
    "y_pred = predictions(X_scaled, w) > 0.5\n",
    "LLoss = log_loss(y, y_pred)\n",
    "MSE = mean_squared_error(y,y_pred)\n",
    "RMSE = rootMeanSquaredError(y_pred, y)\n",
    "MAE = mean_absolute_error(y, y_pred)\n",
    "R2 = r2_score(y, y_pred)\n",
    "print(' Log loss =', LLoss, '\\n', 'MSE =', MSE, '\\n', 'RMSE =', RMSE, '\\n', 'MAE =', MAE)\n",
    "print('coefficients : ', model.coef_)\n",
    "plt.matshow(Confusion)\n",
    "print('r2 score : ', R2,'\\n Confusion matrix :\\n', Confusion, '\\n\\nreport :\\n', classification_report(y, y_pred))"
   ]
  },
  {
   "cell_type": "code",
   "execution_count": null,
   "metadata": {
    "cell_id": "00039-a774c9c5-e955-47bf-8215-27062457de97",
    "deepnote_cell_type": "code",
    "deepnote_to_be_reexecuted": false,
    "execution_millis": 2,
    "execution_start": 1610111283983,
    "source_hash": "210fceda",
    "tags": []
   },
   "outputs": [
    {
     "data": {
      "text/plain": [
       "0.4672516863168837"
      ]
     },
     "execution_count": 64,
     "metadata": {},
     "output_type": "execute_result"
    }
   ],
   "source": [
    "cost_function(w, X_scaled, y)"
   ]
  },
  {
   "cell_type": "markdown",
   "metadata": {
    "cell_id": "00039-74413556-e571-4077-9b4b-710b444bd70c",
    "deepnote_cell_type": "markdown",
    "tags": []
   },
   "source": []
  },
  {
   "cell_type": "markdown",
   "metadata": {
    "cell_id": "00040-d2795cf3-d26c-4508-80f6-e9c9376df242",
    "deepnote_cell_type": "markdown",
    "tags": []
   },
   "source": []
  },
  {
   "cell_type": "code",
   "execution_count": null,
   "metadata": {
    "cell_id": "00037-d5bca65e-76e5-4e16-8018-ab9da19e0ef1",
    "deepnote_cell_type": "code",
    "deepnote_to_be_reexecuted": false,
    "execution_millis": 170,
    "execution_start": 1610109628834,
    "output_cleared": false,
    "source_hash": "9c7a493c",
    "tags": []
   },
   "outputs": [
    {
     "data": {
      "text/plain": [
       "[<matplotlib.lines.Line2D at 0x7fa0044e8750>]"
      ]
     },
     "execution_count": 53,
     "metadata": {},
     "output_type": "execute_result"
    },
    {
     "data": {
      "image/png": "[encoded data removed]",
      "text/plain": [
       "<Figure size 432x288 with 1 Axes>"
      ]
     },
     "metadata": {
      "needs_background": "light"
     },
     "output_type": "display_data"
    }
   ],
   "source": [
    "#plotting the cost history\n",
    "plt.plot(np.linspace(0, len(costs), len(costs)), costs)"
   ]
  },
  {
   "cell_type": "code",
   "execution_count": null,
   "metadata": {
    "cell_id": "00037-7381ddf8-2f7e-4c30-8588-2d1c696b4ec9",
    "deepnote_cell_type": "code",
    "deepnote_to_be_reexecuted": false,
    "execution_millis": 1,
    "execution_start": 1610109629159,
    "output_cleared": false,
    "source_hash": "802cbfb6",
    "tags": []
   },
   "outputs": [
    {
     "data": {
      "text/plain": [
       "array([[ 84., 108.],\n",
       "       [  8., 414.]])"
      ]
     },
     "execution_count": 54,
     "metadata": {},
     "output_type": "execute_result"
    }
   ],
   "source": [
    "#confusion matrix from scratch\n",
    "def matrix_from_scratch(y_pred, y):\n",
    "    t_positive=0\n",
    "    t_negative=0\n",
    "    f_positive=0\n",
    "    f_negative=0\n",
    "    for i in range(len(y_pred)):\n",
    "        if(y_pred[i] == y[i] == 1 ):\n",
    "            t_positive+=1\n",
    "        elif(y_pred[i] == y[i] == 0 ):\n",
    "            t_negative += 1\n",
    "        elif(y_pred[i] != y[i]):\n",
    "            if(y_pred[i]==1):\n",
    "                f_positive += 1\n",
    "            if(y_pred[i]==0):\n",
    "                f_negative += 1\n",
    "\n",
    "    tab= np.zeros((2,2)) \n",
    "    tab[1][1] = int( t_positive) \n",
    "    tab[0][1] = int(f_positive)\n",
    "    tab[0][0] = int(t_negative)\n",
    "    tab[1][0] = int(f_negative) \n",
    "    return tab\n",
    "\n",
    "matrix_from_scratch(y_pred, y) "
   ]
  },
  {
   "cell_type": "markdown",
   "metadata": {
    "created_in_deepnote_cell": true,
    "deepnote_cell_type": "markdown",
    "tags": []
   },
   "source": [
    "<a style='text-decoration:none;line-height:16px;display:flex;color:#5B5B62;padding:10px;justify-content:end;' href='https://deepnote.com?utm_source=created-in-deepnote-cell&projectId=795a208a-721f-4cdd-b55b-54921c1c335e' target=\"_blank\">\n",
    "<img style='display:inline;max-height:16px;margin:0px;margin-right:7.5px;' src='data:image/svg+xml;base64,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' > </img>\n",
    "Created in <span style='font-weight:600;margin-left:4px;'>Deepnote</span></a>"
   ]
  }
 ],
 "metadata": {
  "deepnote": {},
  "deepnote_execution_queue": [],
  "deepnote_notebook_id": "28241110-da32-4756-940d-313fadd554a2",
  "kernelspec": {
   "display_name": "Python 3",
   "language": "python",
   "name": "python3"
  },
  "language_info": {
   "codemirror_mode": {
    "name": "ipython",
    "version": 3
   },
   "file_extension": ".py",
   "mimetype": "text/x-python",
   "name": "python",
   "nbconvert_exporter": "python",
   "pygments_lexer": "ipython3",
   "version": "3.8.5"
  }
 },
 "nbformat": 4,
 "nbformat_minor": 2
}
